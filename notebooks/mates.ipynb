{
 "cells": [
  {
   "cell_type": "code",
   "execution_count": 65,
   "metadata": {
    "ExecuteTime": {
     "end_time": "2020-08-02T18:04:24.701967Z",
     "start_time": "2020-08-02T18:04:23.148078Z"
    }
   },
   "outputs": [
    {
     "data": {
      "text/html": [
       "<style>.container { width: 100% !important; }</style>"
      ],
      "text/plain": [
       "<IPython.core.display.HTML object>"
      ]
     },
     "metadata": {},
     "output_type": "display_data"
    },
    {
     "name": "stdout",
     "output_type": "stream",
     "text": [
      "<class 'pandas.core.frame.DataFrame'>\n",
      "RangeIndex: 280648 entries, 0 to 280647\n",
      "Data columns (total 44 columns):\n",
      " #   Column                        Non-Null Count   Dtype  \n",
      "---  ------                        --------------   -----  \n",
      " 0   fen                           280648 non-null  object \n",
      " 1   elo                           280648 non-null  float64\n",
      " 2   move                          280648 non-null  object \n",
      " 3   best_pv                       280648 non-null  object \n",
      " 4   best_move                     280648 non-null  object \n",
      " 5   best_mate                     280648 non-null  float64\n",
      " 6   best_pv2                      280648 non-null  object \n",
      " 7   best_move2                    280648 non-null  object \n",
      " 8   best_score2                   280648 non-null  float64\n",
      " 9   correct                       280648 non-null  bool   \n",
      " 10  fullmove_number               280648 non-null  int64  \n",
      " 11  is_check                      280648 non-null  bool   \n",
      " 12  our_number_of_bishop_moves    280648 non-null  int64  \n",
      " 13  our_number_of_captures        280648 non-null  int64  \n",
      " 14  our_number_of_checks          280648 non-null  int64  \n",
      " 15  our_number_of_knight_moves    280648 non-null  int64  \n",
      " 16  our_number_of_moves           280648 non-null  int64  \n",
      " 17  our_number_of_pawn_moves      280648 non-null  int64  \n",
      " 18  our_number_of_queen_moves     280648 non-null  int64  \n",
      " 19  our_number_of_rook_moves      280648 non-null  int64  \n",
      " 20  their_number_of_bishop_moves  280648 non-null  int64  \n",
      " 21  their_number_of_captures      280648 non-null  int64  \n",
      " 22  their_number_of_checks        280648 non-null  int64  \n",
      " 23  their_number_of_knight_moves  280648 non-null  int64  \n",
      " 24  their_number_of_moves         280648 non-null  int64  \n",
      " 25  their_number_of_pawn_moves    280648 non-null  int64  \n",
      " 26  their_number_of_queen_moves   280648 non-null  int64  \n",
      " 27  their_number_of_rook_moves    280648 non-null  int64  \n",
      " 28  turn                          280648 non-null  bool   \n",
      " 29  material_advantage            280648 non-null  int64  \n",
      " 30  our_bishops                   280648 non-null  int64  \n",
      " 31  our_knights                   280648 non-null  int64  \n",
      " 32  our_pawns                     280648 non-null  int64  \n",
      " 33  our_piece_count               280648 non-null  int64  \n",
      " 34  our_queens                    280648 non-null  int64  \n",
      " 35  our_rooks                     280648 non-null  int64  \n",
      " 36  piece_count                   280648 non-null  int64  \n",
      " 37  their_bishops                 280648 non-null  int64  \n",
      " 38  their_knights                 280648 non-null  int64  \n",
      " 39  their_pawns                   280648 non-null  int64  \n",
      " 40  their_piece_count             280648 non-null  int64  \n",
      " 41  their_queens                  280648 non-null  int64  \n",
      " 42  their_rooks                   280648 non-null  int64  \n",
      " 43  difficulty                    280648 non-null  float64\n",
      "dtypes: bool(3), float64(4), int64(31), object(6)\n",
      "memory usage: 88.6+ MB\n"
     ]
    }
   ],
   "source": [
    "import pandas as pd\n",
    "import ipywidgets as widgets\n",
    "from ipywidgets import interact, fixed\n",
    "from IPython.core.display import display, HTML\n",
    "display(HTML(\"<style>.container { width: 100% !important; }</style>\"))\n",
    "df = pd.read_csv('data.csv')\n",
    "df.info()"
   ]
  },
  {
   "cell_type": "code",
   "execution_count": 2,
   "metadata": {
    "ExecuteTime": {
     "end_time": "2020-08-02T16:40:31.227610Z",
     "start_time": "2020-08-02T16:40:30.967897Z"
    },
    "scrolled": false
   },
   "outputs": [
    {
     "data": {
      "text/html": [
       "<style>\n",
       "    .widget-label { min-width: 200px !important; }\n",
       "    .widget-slider { width: 500px !important; }\n",
       "</style>"
      ],
      "text/plain": [
       "<IPython.core.display.HTML object>"
      ]
     },
     "metadata": {},
     "output_type": "display_data"
    },
    {
     "ename": "KeyError",
     "evalue": "'best_pv_our_number_of_pieces_moved'",
     "output_type": "error",
     "traceback": [
      "\u001b[0;31m---------------------------------------------------------------------------\u001b[0m",
      "\u001b[0;31mKeyError\u001b[0m                                  Traceback (most recent call last)",
      "\u001b[0;32m~/Desktop/venv-chess/lib/python3.8/site-packages/pandas/core/indexes/base.py\u001b[0m in \u001b[0;36mget_loc\u001b[0;34m(self, key, method, tolerance)\u001b[0m\n\u001b[1;32m   2645\u001b[0m             \u001b[0;32mtry\u001b[0m\u001b[0;34m:\u001b[0m\u001b[0;34m\u001b[0m\u001b[0;34m\u001b[0m\u001b[0m\n\u001b[0;32m-> 2646\u001b[0;31m                 \u001b[0;32mreturn\u001b[0m \u001b[0mself\u001b[0m\u001b[0;34m.\u001b[0m\u001b[0m_engine\u001b[0m\u001b[0;34m.\u001b[0m\u001b[0mget_loc\u001b[0m\u001b[0;34m(\u001b[0m\u001b[0mkey\u001b[0m\u001b[0;34m)\u001b[0m\u001b[0;34m\u001b[0m\u001b[0;34m\u001b[0m\u001b[0m\n\u001b[0m\u001b[1;32m   2647\u001b[0m             \u001b[0;32mexcept\u001b[0m \u001b[0mKeyError\u001b[0m\u001b[0;34m:\u001b[0m\u001b[0;34m\u001b[0m\u001b[0;34m\u001b[0m\u001b[0m\n",
      "\u001b[0;32mpandas/_libs/index.pyx\u001b[0m in \u001b[0;36mpandas._libs.index.IndexEngine.get_loc\u001b[0;34m()\u001b[0m\n",
      "\u001b[0;32mpandas/_libs/index.pyx\u001b[0m in \u001b[0;36mpandas._libs.index.IndexEngine.get_loc\u001b[0;34m()\u001b[0m\n",
      "\u001b[0;32mpandas/_libs/hashtable_class_helper.pxi\u001b[0m in \u001b[0;36mpandas._libs.hashtable.PyObjectHashTable.get_item\u001b[0;34m()\u001b[0m\n",
      "\u001b[0;32mpandas/_libs/hashtable_class_helper.pxi\u001b[0m in \u001b[0;36mpandas._libs.hashtable.PyObjectHashTable.get_item\u001b[0;34m()\u001b[0m\n",
      "\u001b[0;31mKeyError\u001b[0m: 'best_pv_our_number_of_pieces_moved'",
      "\nDuring handling of the above exception, another exception occurred:\n",
      "\u001b[0;31mKeyError\u001b[0m                                  Traceback (most recent call last)",
      "\u001b[0;32m<ipython-input-2-58a2cd3d2dae>\u001b[0m in \u001b[0;36m<module>\u001b[0;34m\u001b[0m\n\u001b[1;32m     60\u001b[0m \u001b[0mcontrols\u001b[0m \u001b[0;34m=\u001b[0m \u001b[0;34m{\u001b[0m\u001b[0;34m}\u001b[0m\u001b[0;34m\u001b[0m\u001b[0;34m\u001b[0m\u001b[0m\n\u001b[1;32m     61\u001b[0m \u001b[0;32mfor\u001b[0m \u001b[0mcolumn\u001b[0m \u001b[0;32min\u001b[0m \u001b[0mcolumns\u001b[0m\u001b[0;34m:\u001b[0m\u001b[0;34m\u001b[0m\u001b[0;34m\u001b[0m\u001b[0m\n\u001b[0;32m---> 62\u001b[0;31m     \u001b[0mcontrols\u001b[0m\u001b[0;34m[\u001b[0m\u001b[0mcolumn\u001b[0m\u001b[0;34m]\u001b[0m \u001b[0;34m=\u001b[0m \u001b[0mint_range_slider\u001b[0m\u001b[0;34m(\u001b[0m\u001b[0mdf\u001b[0m\u001b[0;34m,\u001b[0m \u001b[0mcolumn\u001b[0m\u001b[0;34m)\u001b[0m\u001b[0;34m\u001b[0m\u001b[0;34m\u001b[0m\u001b[0m\n\u001b[0m\u001b[1;32m     63\u001b[0m \u001b[0minteract\u001b[0m\u001b[0;34m(\u001b[0m\u001b[0mf\u001b[0m\u001b[0;34m,\u001b[0m \u001b[0mdf\u001b[0m\u001b[0;34m=\u001b[0m\u001b[0mfixed\u001b[0m\u001b[0;34m(\u001b[0m\u001b[0mdf\u001b[0m\u001b[0;34m)\u001b[0m\u001b[0;34m,\u001b[0m \u001b[0;34m**\u001b[0m\u001b[0mcontrols\u001b[0m\u001b[0;34m)\u001b[0m\u001b[0;34m;\u001b[0m\u001b[0;34m\u001b[0m\u001b[0;34m\u001b[0m\u001b[0m\n",
      "\u001b[0;32m<ipython-input-2-58a2cd3d2dae>\u001b[0m in \u001b[0;36mint_range_slider\u001b[0;34m(df, column)\u001b[0m\n\u001b[1;32m      7\u001b[0m \u001b[0;34m\u001b[0m\u001b[0m\n\u001b[1;32m      8\u001b[0m \u001b[0;32mdef\u001b[0m \u001b[0mint_range_slider\u001b[0m\u001b[0;34m(\u001b[0m\u001b[0mdf\u001b[0m\u001b[0;34m,\u001b[0m \u001b[0mcolumn\u001b[0m\u001b[0;34m)\u001b[0m\u001b[0;34m:\u001b[0m\u001b[0;34m\u001b[0m\u001b[0;34m\u001b[0m\u001b[0m\n\u001b[0;32m----> 9\u001b[0;31m     \u001b[0mmin\u001b[0m \u001b[0;34m=\u001b[0m \u001b[0mdf\u001b[0m\u001b[0;34m[\u001b[0m\u001b[0mcolumn\u001b[0m\u001b[0;34m]\u001b[0m\u001b[0;34m.\u001b[0m\u001b[0mmin\u001b[0m\u001b[0;34m(\u001b[0m\u001b[0;34m)\u001b[0m\u001b[0;34m\u001b[0m\u001b[0;34m\u001b[0m\u001b[0m\n\u001b[0m\u001b[1;32m     10\u001b[0m     \u001b[0mmax\u001b[0m \u001b[0;34m=\u001b[0m \u001b[0mdf\u001b[0m\u001b[0;34m[\u001b[0m\u001b[0mcolumn\u001b[0m\u001b[0;34m]\u001b[0m\u001b[0;34m.\u001b[0m\u001b[0mmax\u001b[0m\u001b[0;34m(\u001b[0m\u001b[0;34m)\u001b[0m\u001b[0;34m\u001b[0m\u001b[0;34m\u001b[0m\u001b[0m\n\u001b[1;32m     11\u001b[0m \u001b[0;34m\u001b[0m\u001b[0m\n",
      "\u001b[0;32m~/Desktop/venv-chess/lib/python3.8/site-packages/pandas/core/frame.py\u001b[0m in \u001b[0;36m__getitem__\u001b[0;34m(self, key)\u001b[0m\n\u001b[1;32m   2798\u001b[0m             \u001b[0;32mif\u001b[0m \u001b[0mself\u001b[0m\u001b[0;34m.\u001b[0m\u001b[0mcolumns\u001b[0m\u001b[0;34m.\u001b[0m\u001b[0mnlevels\u001b[0m \u001b[0;34m>\u001b[0m \u001b[0;36m1\u001b[0m\u001b[0;34m:\u001b[0m\u001b[0;34m\u001b[0m\u001b[0;34m\u001b[0m\u001b[0m\n\u001b[1;32m   2799\u001b[0m                 \u001b[0;32mreturn\u001b[0m \u001b[0mself\u001b[0m\u001b[0;34m.\u001b[0m\u001b[0m_getitem_multilevel\u001b[0m\u001b[0;34m(\u001b[0m\u001b[0mkey\u001b[0m\u001b[0;34m)\u001b[0m\u001b[0;34m\u001b[0m\u001b[0;34m\u001b[0m\u001b[0m\n\u001b[0;32m-> 2800\u001b[0;31m             \u001b[0mindexer\u001b[0m \u001b[0;34m=\u001b[0m \u001b[0mself\u001b[0m\u001b[0;34m.\u001b[0m\u001b[0mcolumns\u001b[0m\u001b[0;34m.\u001b[0m\u001b[0mget_loc\u001b[0m\u001b[0;34m(\u001b[0m\u001b[0mkey\u001b[0m\u001b[0;34m)\u001b[0m\u001b[0;34m\u001b[0m\u001b[0;34m\u001b[0m\u001b[0m\n\u001b[0m\u001b[1;32m   2801\u001b[0m             \u001b[0;32mif\u001b[0m \u001b[0mis_integer\u001b[0m\u001b[0;34m(\u001b[0m\u001b[0mindexer\u001b[0m\u001b[0;34m)\u001b[0m\u001b[0;34m:\u001b[0m\u001b[0;34m\u001b[0m\u001b[0;34m\u001b[0m\u001b[0m\n\u001b[1;32m   2802\u001b[0m                 \u001b[0mindexer\u001b[0m \u001b[0;34m=\u001b[0m \u001b[0;34m[\u001b[0m\u001b[0mindexer\u001b[0m\u001b[0;34m]\u001b[0m\u001b[0;34m\u001b[0m\u001b[0;34m\u001b[0m\u001b[0m\n",
      "\u001b[0;32m~/Desktop/venv-chess/lib/python3.8/site-packages/pandas/core/indexes/base.py\u001b[0m in \u001b[0;36mget_loc\u001b[0;34m(self, key, method, tolerance)\u001b[0m\n\u001b[1;32m   2646\u001b[0m                 \u001b[0;32mreturn\u001b[0m \u001b[0mself\u001b[0m\u001b[0;34m.\u001b[0m\u001b[0m_engine\u001b[0m\u001b[0;34m.\u001b[0m\u001b[0mget_loc\u001b[0m\u001b[0;34m(\u001b[0m\u001b[0mkey\u001b[0m\u001b[0;34m)\u001b[0m\u001b[0;34m\u001b[0m\u001b[0;34m\u001b[0m\u001b[0m\n\u001b[1;32m   2647\u001b[0m             \u001b[0;32mexcept\u001b[0m \u001b[0mKeyError\u001b[0m\u001b[0;34m:\u001b[0m\u001b[0;34m\u001b[0m\u001b[0;34m\u001b[0m\u001b[0m\n\u001b[0;32m-> 2648\u001b[0;31m                 \u001b[0;32mreturn\u001b[0m \u001b[0mself\u001b[0m\u001b[0;34m.\u001b[0m\u001b[0m_engine\u001b[0m\u001b[0;34m.\u001b[0m\u001b[0mget_loc\u001b[0m\u001b[0;34m(\u001b[0m\u001b[0mself\u001b[0m\u001b[0;34m.\u001b[0m\u001b[0m_maybe_cast_indexer\u001b[0m\u001b[0;34m(\u001b[0m\u001b[0mkey\u001b[0m\u001b[0;34m)\u001b[0m\u001b[0;34m)\u001b[0m\u001b[0;34m\u001b[0m\u001b[0;34m\u001b[0m\u001b[0m\n\u001b[0m\u001b[1;32m   2649\u001b[0m         \u001b[0mindexer\u001b[0m \u001b[0;34m=\u001b[0m \u001b[0mself\u001b[0m\u001b[0;34m.\u001b[0m\u001b[0mget_indexer\u001b[0m\u001b[0;34m(\u001b[0m\u001b[0;34m[\u001b[0m\u001b[0mkey\u001b[0m\u001b[0;34m]\u001b[0m\u001b[0;34m,\u001b[0m \u001b[0mmethod\u001b[0m\u001b[0;34m=\u001b[0m\u001b[0mmethod\u001b[0m\u001b[0;34m,\u001b[0m \u001b[0mtolerance\u001b[0m\u001b[0;34m=\u001b[0m\u001b[0mtolerance\u001b[0m\u001b[0;34m)\u001b[0m\u001b[0;34m\u001b[0m\u001b[0;34m\u001b[0m\u001b[0m\n\u001b[1;32m   2650\u001b[0m         \u001b[0;32mif\u001b[0m \u001b[0mindexer\u001b[0m\u001b[0;34m.\u001b[0m\u001b[0mndim\u001b[0m \u001b[0;34m>\u001b[0m \u001b[0;36m1\u001b[0m \u001b[0;32mor\u001b[0m \u001b[0mindexer\u001b[0m\u001b[0;34m.\u001b[0m\u001b[0msize\u001b[0m \u001b[0;34m>\u001b[0m \u001b[0;36m1\u001b[0m\u001b[0;34m:\u001b[0m\u001b[0;34m\u001b[0m\u001b[0;34m\u001b[0m\u001b[0m\n",
      "\u001b[0;32mpandas/_libs/index.pyx\u001b[0m in \u001b[0;36mpandas._libs.index.IndexEngine.get_loc\u001b[0;34m()\u001b[0m\n",
      "\u001b[0;32mpandas/_libs/index.pyx\u001b[0m in \u001b[0;36mpandas._libs.index.IndexEngine.get_loc\u001b[0;34m()\u001b[0m\n",
      "\u001b[0;32mpandas/_libs/hashtable_class_helper.pxi\u001b[0m in \u001b[0;36mpandas._libs.hashtable.PyObjectHashTable.get_item\u001b[0;34m()\u001b[0m\n",
      "\u001b[0;32mpandas/_libs/hashtable_class_helper.pxi\u001b[0m in \u001b[0;36mpandas._libs.hashtable.PyObjectHashTable.get_item\u001b[0;34m()\u001b[0m\n",
      "\u001b[0;31mKeyError\u001b[0m: 'best_pv_our_number_of_pieces_moved'"
     ]
    }
   ],
   "source": [
    "import utils\n",
    "display(HTML('''<style>\n",
    "    .widget-label { min-width: 200px !important; }\n",
    "    .widget-slider { width: 500px !important; }\n",
    "</style>'''))\n",
    "\n",
    "\n",
    "def int_range_slider(df, column):\n",
    "    min = df[column].min()\n",
    "    max = df[column].max()\n",
    "    \n",
    "    if abs(min) > 1000 or abs(max) > 1000:\n",
    "        step = 100\n",
    "        min = int(min / 100) * 100\n",
    "        max = int(max / 100) * 100\n",
    "    \n",
    "    return widgets.IntRangeSlider(\n",
    "        value=[min, max],\n",
    "        min=min,\n",
    "        max=max,\n",
    "        step=1,\n",
    "        description=column,\n",
    "        continuous_update=False\n",
    "    )\n",
    "\n",
    "\n",
    "def f(df, **kwargs):\n",
    "    for column, value in kwargs.items():\n",
    "        min, max = value\n",
    "        df = df[df[column] >= min]\n",
    "        df = df[df[column] <= max]\n",
    "    \n",
    "    html = utils.df_to_boards(df[:55])\n",
    "    return HTML(html)\n",
    "\n",
    "\n",
    "# columns = ['fullmove_number', 'our_number_of_moves', 'best_mate']\n",
    "# non_feature_columns = ['fen', 'move', 'best_move', 'best_move2', 'best_pv', 'best_pv2']\n",
    "# columns = list(set(df.columns) - set(non_feature_columns))\n",
    "\n",
    "columns = [\n",
    "    'best_mate',\n",
    "    'best_pv_our_number_of_pieces_moved',\n",
    "\n",
    "#     'our_number_of_moves', \n",
    "#     'their_number_of_moves',\n",
    "#     'fullmove_number',\n",
    "#     'our_number_of_captures',\n",
    "#     'correct',\n",
    "#     'elo',\n",
    "    \n",
    "    # TODO: distance moved.\n",
    "    # TODO: their_hanging_pieces\n",
    "    # \n",
    "    \n",
    "]\n",
    "\n",
    "# TODO: show user move if not best move (and score?)\n",
    "\n",
    "controls = {}\n",
    "for column in columns:\n",
    "    controls[column] = int_range_slider(df, column)\n",
    "interact(f, df=fixed(df), **controls);"
   ]
  },
  {
   "cell_type": "markdown",
   "metadata": {},
   "source": [
    "# Plots"
   ]
  },
  {
   "cell_type": "code",
   "execution_count": 61,
   "metadata": {
    "ExecuteTime": {
     "end_time": "2020-08-02T17:45:52.062916Z",
     "start_time": "2020-08-02T17:45:52.052083Z"
    }
   },
   "outputs": [
    {
     "ename": "NameError",
     "evalue": "name 'features' is not defined",
     "output_type": "error",
     "traceback": [
      "\u001b[0;31m---------------------------------------------------------------------------\u001b[0m",
      "\u001b[0;31mNameError\u001b[0m                                 Traceback (most recent call last)",
      "\u001b[0;32m<ipython-input-61-4db54e96da69>\u001b[0m in \u001b[0;36m<module>\u001b[0;34m\u001b[0m\n\u001b[1;32m     22\u001b[0m \u001b[0;34m\u001b[0m\u001b[0m\n\u001b[1;32m     23\u001b[0m \u001b[0;31m# TODO: how to get all features? Use get features func on classes?\u001b[0m\u001b[0;34m\u001b[0m\u001b[0;34m\u001b[0m\u001b[0;34m\u001b[0m\u001b[0m\n\u001b[0;32m---> 24\u001b[0;31m \u001b[0minteract\u001b[0m\u001b[0;34m(\u001b[0m\u001b[0mf\u001b[0m\u001b[0;34m,\u001b[0m \u001b[0mx\u001b[0m\u001b[0;34m=\u001b[0m\u001b[0mfeatures\u001b[0m\u001b[0;34m.\u001b[0m\u001b[0mclass_features\u001b[0m\u001b[0;34m(\u001b[0m\u001b[0mfeatures\u001b[0m\u001b[0;34m.\u001b[0m\u001b[0mBoardFeatures\u001b[0m\u001b[0;34m)\u001b[0m\u001b[0;34m)\u001b[0m\u001b[0;34m;\u001b[0m\u001b[0;34m\u001b[0m\u001b[0;34m\u001b[0m\u001b[0m\n\u001b[0m",
      "\u001b[0;31mNameError\u001b[0m: name 'features' is not defined"
     ]
    }
   ],
   "source": [
    "# TODO: use csv for this.\n",
    "\n",
    "# TODO: combine this with boards?\n",
    "# TODO: make this a single cell in a notebook that is our vis tool.\n",
    "import plotly.express as px\n",
    "from plotly.offline import iplot\n",
    "\n",
    "\n",
    "# TODO: how to do filtering?\n",
    "# TODO: what other graphing functionality do we want?\n",
    "def f(x):\n",
    "    fig = px.histogram(feature_df, x=x, color='correct')\n",
    "    iplot(fig)\n",
    "\n",
    "\n",
    "# range_slider = widgets.IntRangeSlider(\n",
    "#     value=[5, 7],\n",
    "#     min=0,\n",
    "#     max=10,\n",
    "# )\n",
    "\n",
    "\n",
    "# TODO: how to get all features? Use get features func on classes?\n",
    "interact(f, x=features.class_features(features.BoardFeatures));"
   ]
  },
  {
   "cell_type": "code",
   "execution_count": 68,
   "metadata": {
    "ExecuteTime": {
     "end_time": "2020-08-02T18:05:37.652790Z",
     "start_time": "2020-08-02T18:05:36.981532Z"
    }
   },
   "outputs": [
    {
     "data": {
      "application/vnd.plotly.v1+json": {
       "config": {
        "plotlyServerURL": "https://plot.ly"
       },
       "data": [
        {
         "hovertemplate": "difficulty=0<br>elo=%{x}<br>correct=%{y}<extra></extra>",
         "legendgroup": "0",
         "line": {
          "color": "#c6ecff",
          "dash": "solid"
         },
         "mode": "lines",
         "name": "0",
         "showlegend": true,
         "type": "scatter",
         "x": [
          800,
          1000,
          1200,
          1400,
          1600,
          1800,
          2000
         ],
         "xaxis": "x",
         "y": [
          0.75,
          0.7614213197969543,
          0.838401390095569,
          0.8745997865528282,
          0.8617511520737328,
          0.8726851851851852,
          0.8929889298892989
         ],
         "yaxis": "y"
        },
        {
         "hovertemplate": "difficulty=20<br>elo=%{x}<br>correct=%{y}<extra></extra>",
         "legendgroup": "20",
         "line": {
          "color": "#aee2ff",
          "dash": "solid"
         },
         "mode": "lines",
         "name": "20",
         "showlegend": true,
         "type": "scatter",
         "x": [
          800,
          1000,
          1200,
          1400,
          1600,
          1800,
          2000
         ],
         "xaxis": "x",
         "y": [
          0.5534591194968553,
          0.6572637517630465,
          0.696528122757631,
          0.69475511975895,
          0.6919544973817938,
          0.7059858187214862,
          0.7575757575757576
         ],
         "yaxis": "y"
        },
        {
         "hovertemplate": "difficulty=40<br>elo=%{x}<br>correct=%{y}<extra></extra>",
         "legendgroup": "40",
         "line": {
          "color": "#96d5ff",
          "dash": "solid"
         },
         "mode": "lines",
         "name": "40",
         "showlegend": true,
         "type": "scatter",
         "x": [
          800,
          1000,
          1200,
          1400,
          1600,
          1800,
          2000
         ],
         "xaxis": "x",
         "y": [
          0.39162112932604737,
          0.4668207329151535,
          0.4975921273031826,
          0.49708046052848615,
          0.48947908021285946,
          0.5118783655369021,
          0.5551470588235294
         ],
         "yaxis": "y"
        },
        {
         "hovertemplate": "difficulty=60<br>elo=%{x}<br>correct=%{y}<extra></extra>",
         "legendgroup": "60",
         "line": {
          "color": "#69b6fb",
          "dash": "solid"
         },
         "mode": "lines",
         "name": "60",
         "showlegend": true,
         "type": "scatter",
         "x": [
          800,
          1000,
          1200,
          1400,
          1600,
          1800,
          2000
         ],
         "xaxis": "x",
         "y": [
          0.29484029484029484,
          0.33862834089762983,
          0.36501281155369203,
          0.36310932323710365,
          0.35844438400870277,
          0.3567708333333333,
          0.43243243243243246
         ],
         "yaxis": "y"
        },
        {
         "hovertemplate": "difficulty=80<br>elo=%{x}<br>correct=%{y}<extra></extra>",
         "legendgroup": "80",
         "line": {
          "color": "#4095f2",
          "dash": "solid"
         },
         "mode": "lines",
         "name": "80",
         "showlegend": true,
         "type": "scatter",
         "x": [
          800,
          1000,
          1200,
          1400,
          1600,
          1800,
          2000
         ],
         "xaxis": "x",
         "y": [
          0.18461538461538463,
          0.279874213836478,
          0.3082039911308204,
          0.2669491525423729,
          0.3469387755102041,
          0.2,
          0.5
         ],
         "yaxis": "y"
        }
       ],
       "layout": {
        "height": 400,
        "legend": {
         "title": {
          "text": "difficulty"
         },
         "tracegroupgap": 0
        },
        "margin": {
         "t": 60
        },
        "plot_bgcolor": "white",
        "template": {
         "data": {
          "bar": [
           {
            "error_x": {
             "color": "#2a3f5f"
            },
            "error_y": {
             "color": "#2a3f5f"
            },
            "marker": {
             "line": {
              "color": "#E5ECF6",
              "width": 0.5
             }
            },
            "type": "bar"
           }
          ],
          "barpolar": [
           {
            "marker": {
             "line": {
              "color": "#E5ECF6",
              "width": 0.5
             }
            },
            "type": "barpolar"
           }
          ],
          "carpet": [
           {
            "aaxis": {
             "endlinecolor": "#2a3f5f",
             "gridcolor": "white",
             "linecolor": "white",
             "minorgridcolor": "white",
             "startlinecolor": "#2a3f5f"
            },
            "baxis": {
             "endlinecolor": "#2a3f5f",
             "gridcolor": "white",
             "linecolor": "white",
             "minorgridcolor": "white",
             "startlinecolor": "#2a3f5f"
            },
            "type": "carpet"
           }
          ],
          "choropleth": [
           {
            "colorbar": {
             "outlinewidth": 0,
             "ticks": ""
            },
            "type": "choropleth"
           }
          ],
          "contour": [
           {
            "colorbar": {
             "outlinewidth": 0,
             "ticks": ""
            },
            "colorscale": [
             [
              0,
              "#0d0887"
             ],
             [
              0.1111111111111111,
              "#46039f"
             ],
             [
              0.2222222222222222,
              "#7201a8"
             ],
             [
              0.3333333333333333,
              "#9c179e"
             ],
             [
              0.4444444444444444,
              "#bd3786"
             ],
             [
              0.5555555555555556,
              "#d8576b"
             ],
             [
              0.6666666666666666,
              "#ed7953"
             ],
             [
              0.7777777777777778,
              "#fb9f3a"
             ],
             [
              0.8888888888888888,
              "#fdca26"
             ],
             [
              1,
              "#f0f921"
             ]
            ],
            "type": "contour"
           }
          ],
          "contourcarpet": [
           {
            "colorbar": {
             "outlinewidth": 0,
             "ticks": ""
            },
            "type": "contourcarpet"
           }
          ],
          "heatmap": [
           {
            "colorbar": {
             "outlinewidth": 0,
             "ticks": ""
            },
            "colorscale": [
             [
              0,
              "#0d0887"
             ],
             [
              0.1111111111111111,
              "#46039f"
             ],
             [
              0.2222222222222222,
              "#7201a8"
             ],
             [
              0.3333333333333333,
              "#9c179e"
             ],
             [
              0.4444444444444444,
              "#bd3786"
             ],
             [
              0.5555555555555556,
              "#d8576b"
             ],
             [
              0.6666666666666666,
              "#ed7953"
             ],
             [
              0.7777777777777778,
              "#fb9f3a"
             ],
             [
              0.8888888888888888,
              "#fdca26"
             ],
             [
              1,
              "#f0f921"
             ]
            ],
            "type": "heatmap"
           }
          ],
          "heatmapgl": [
           {
            "colorbar": {
             "outlinewidth": 0,
             "ticks": ""
            },
            "colorscale": [
             [
              0,
              "#0d0887"
             ],
             [
              0.1111111111111111,
              "#46039f"
             ],
             [
              0.2222222222222222,
              "#7201a8"
             ],
             [
              0.3333333333333333,
              "#9c179e"
             ],
             [
              0.4444444444444444,
              "#bd3786"
             ],
             [
              0.5555555555555556,
              "#d8576b"
             ],
             [
              0.6666666666666666,
              "#ed7953"
             ],
             [
              0.7777777777777778,
              "#fb9f3a"
             ],
             [
              0.8888888888888888,
              "#fdca26"
             ],
             [
              1,
              "#f0f921"
             ]
            ],
            "type": "heatmapgl"
           }
          ],
          "histogram": [
           {
            "marker": {
             "colorbar": {
              "outlinewidth": 0,
              "ticks": ""
             }
            },
            "type": "histogram"
           }
          ],
          "histogram2d": [
           {
            "colorbar": {
             "outlinewidth": 0,
             "ticks": ""
            },
            "colorscale": [
             [
              0,
              "#0d0887"
             ],
             [
              0.1111111111111111,
              "#46039f"
             ],
             [
              0.2222222222222222,
              "#7201a8"
             ],
             [
              0.3333333333333333,
              "#9c179e"
             ],
             [
              0.4444444444444444,
              "#bd3786"
             ],
             [
              0.5555555555555556,
              "#d8576b"
             ],
             [
              0.6666666666666666,
              "#ed7953"
             ],
             [
              0.7777777777777778,
              "#fb9f3a"
             ],
             [
              0.8888888888888888,
              "#fdca26"
             ],
             [
              1,
              "#f0f921"
             ]
            ],
            "type": "histogram2d"
           }
          ],
          "histogram2dcontour": [
           {
            "colorbar": {
             "outlinewidth": 0,
             "ticks": ""
            },
            "colorscale": [
             [
              0,
              "#0d0887"
             ],
             [
              0.1111111111111111,
              "#46039f"
             ],
             [
              0.2222222222222222,
              "#7201a8"
             ],
             [
              0.3333333333333333,
              "#9c179e"
             ],
             [
              0.4444444444444444,
              "#bd3786"
             ],
             [
              0.5555555555555556,
              "#d8576b"
             ],
             [
              0.6666666666666666,
              "#ed7953"
             ],
             [
              0.7777777777777778,
              "#fb9f3a"
             ],
             [
              0.8888888888888888,
              "#fdca26"
             ],
             [
              1,
              "#f0f921"
             ]
            ],
            "type": "histogram2dcontour"
           }
          ],
          "mesh3d": [
           {
            "colorbar": {
             "outlinewidth": 0,
             "ticks": ""
            },
            "type": "mesh3d"
           }
          ],
          "parcoords": [
           {
            "line": {
             "colorbar": {
              "outlinewidth": 0,
              "ticks": ""
             }
            },
            "type": "parcoords"
           }
          ],
          "pie": [
           {
            "automargin": true,
            "type": "pie"
           }
          ],
          "scatter": [
           {
            "marker": {
             "colorbar": {
              "outlinewidth": 0,
              "ticks": ""
             }
            },
            "type": "scatter"
           }
          ],
          "scatter3d": [
           {
            "line": {
             "colorbar": {
              "outlinewidth": 0,
              "ticks": ""
             }
            },
            "marker": {
             "colorbar": {
              "outlinewidth": 0,
              "ticks": ""
             }
            },
            "type": "scatter3d"
           }
          ],
          "scattercarpet": [
           {
            "marker": {
             "colorbar": {
              "outlinewidth": 0,
              "ticks": ""
             }
            },
            "type": "scattercarpet"
           }
          ],
          "scattergeo": [
           {
            "marker": {
             "colorbar": {
              "outlinewidth": 0,
              "ticks": ""
             }
            },
            "type": "scattergeo"
           }
          ],
          "scattergl": [
           {
            "marker": {
             "colorbar": {
              "outlinewidth": 0,
              "ticks": ""
             }
            },
            "type": "scattergl"
           }
          ],
          "scattermapbox": [
           {
            "marker": {
             "colorbar": {
              "outlinewidth": 0,
              "ticks": ""
             }
            },
            "type": "scattermapbox"
           }
          ],
          "scatterpolar": [
           {
            "marker": {
             "colorbar": {
              "outlinewidth": 0,
              "ticks": ""
             }
            },
            "type": "scatterpolar"
           }
          ],
          "scatterpolargl": [
           {
            "marker": {
             "colorbar": {
              "outlinewidth": 0,
              "ticks": ""
             }
            },
            "type": "scatterpolargl"
           }
          ],
          "scatterternary": [
           {
            "marker": {
             "colorbar": {
              "outlinewidth": 0,
              "ticks": ""
             }
            },
            "type": "scatterternary"
           }
          ],
          "surface": [
           {
            "colorbar": {
             "outlinewidth": 0,
             "ticks": ""
            },
            "colorscale": [
             [
              0,
              "#0d0887"
             ],
             [
              0.1111111111111111,
              "#46039f"
             ],
             [
              0.2222222222222222,
              "#7201a8"
             ],
             [
              0.3333333333333333,
              "#9c179e"
             ],
             [
              0.4444444444444444,
              "#bd3786"
             ],
             [
              0.5555555555555556,
              "#d8576b"
             ],
             [
              0.6666666666666666,
              "#ed7953"
             ],
             [
              0.7777777777777778,
              "#fb9f3a"
             ],
             [
              0.8888888888888888,
              "#fdca26"
             ],
             [
              1,
              "#f0f921"
             ]
            ],
            "type": "surface"
           }
          ],
          "table": [
           {
            "cells": {
             "fill": {
              "color": "#EBF0F8"
             },
             "line": {
              "color": "white"
             }
            },
            "header": {
             "fill": {
              "color": "#C8D4E3"
             },
             "line": {
              "color": "white"
             }
            },
            "type": "table"
           }
          ]
         },
         "layout": {
          "annotationdefaults": {
           "arrowcolor": "#2a3f5f",
           "arrowhead": 0,
           "arrowwidth": 1
          },
          "coloraxis": {
           "colorbar": {
            "outlinewidth": 0,
            "ticks": ""
           }
          },
          "colorscale": {
           "diverging": [
            [
             0,
             "#8e0152"
            ],
            [
             0.1,
             "#c51b7d"
            ],
            [
             0.2,
             "#de77ae"
            ],
            [
             0.3,
             "#f1b6da"
            ],
            [
             0.4,
             "#fde0ef"
            ],
            [
             0.5,
             "#f7f7f7"
            ],
            [
             0.6,
             "#e6f5d0"
            ],
            [
             0.7,
             "#b8e186"
            ],
            [
             0.8,
             "#7fbc41"
            ],
            [
             0.9,
             "#4d9221"
            ],
            [
             1,
             "#276419"
            ]
           ],
           "sequential": [
            [
             0,
             "#0d0887"
            ],
            [
             0.1111111111111111,
             "#46039f"
            ],
            [
             0.2222222222222222,
             "#7201a8"
            ],
            [
             0.3333333333333333,
             "#9c179e"
            ],
            [
             0.4444444444444444,
             "#bd3786"
            ],
            [
             0.5555555555555556,
             "#d8576b"
            ],
            [
             0.6666666666666666,
             "#ed7953"
            ],
            [
             0.7777777777777778,
             "#fb9f3a"
            ],
            [
             0.8888888888888888,
             "#fdca26"
            ],
            [
             1,
             "#f0f921"
            ]
           ],
           "sequentialminus": [
            [
             0,
             "#0d0887"
            ],
            [
             0.1111111111111111,
             "#46039f"
            ],
            [
             0.2222222222222222,
             "#7201a8"
            ],
            [
             0.3333333333333333,
             "#9c179e"
            ],
            [
             0.4444444444444444,
             "#bd3786"
            ],
            [
             0.5555555555555556,
             "#d8576b"
            ],
            [
             0.6666666666666666,
             "#ed7953"
            ],
            [
             0.7777777777777778,
             "#fb9f3a"
            ],
            [
             0.8888888888888888,
             "#fdca26"
            ],
            [
             1,
             "#f0f921"
            ]
           ]
          },
          "colorway": [
           "#636efa",
           "#EF553B",
           "#00cc96",
           "#ab63fa",
           "#FFA15A",
           "#19d3f3",
           "#FF6692",
           "#B6E880",
           "#FF97FF",
           "#FECB52"
          ],
          "font": {
           "color": "#2a3f5f"
          },
          "geo": {
           "bgcolor": "white",
           "lakecolor": "white",
           "landcolor": "#E5ECF6",
           "showlakes": true,
           "showland": true,
           "subunitcolor": "white"
          },
          "hoverlabel": {
           "align": "left"
          },
          "hovermode": "closest",
          "mapbox": {
           "style": "light"
          },
          "paper_bgcolor": "white",
          "plot_bgcolor": "#E5ECF6",
          "polar": {
           "angularaxis": {
            "gridcolor": "white",
            "linecolor": "white",
            "ticks": ""
           },
           "bgcolor": "#E5ECF6",
           "radialaxis": {
            "gridcolor": "white",
            "linecolor": "white",
            "ticks": ""
           }
          },
          "scene": {
           "xaxis": {
            "backgroundcolor": "#E5ECF6",
            "gridcolor": "white",
            "gridwidth": 2,
            "linecolor": "white",
            "showbackground": true,
            "ticks": "",
            "zerolinecolor": "white"
           },
           "yaxis": {
            "backgroundcolor": "#E5ECF6",
            "gridcolor": "white",
            "gridwidth": 2,
            "linecolor": "white",
            "showbackground": true,
            "ticks": "",
            "zerolinecolor": "white"
           },
           "zaxis": {
            "backgroundcolor": "#E5ECF6",
            "gridcolor": "white",
            "gridwidth": 2,
            "linecolor": "white",
            "showbackground": true,
            "ticks": "",
            "zerolinecolor": "white"
           }
          },
          "shapedefaults": {
           "line": {
            "color": "#2a3f5f"
           }
          },
          "ternary": {
           "aaxis": {
            "gridcolor": "white",
            "linecolor": "white",
            "ticks": ""
           },
           "baxis": {
            "gridcolor": "white",
            "linecolor": "white",
            "ticks": ""
           },
           "bgcolor": "#E5ECF6",
           "caxis": {
            "gridcolor": "white",
            "linecolor": "white",
            "ticks": ""
           }
          },
          "title": {
           "x": 0.05
          },
          "xaxis": {
           "automargin": true,
           "gridcolor": "white",
           "linecolor": "white",
           "ticks": "",
           "title": {
            "standoff": 15
           },
           "zerolinecolor": "white",
           "zerolinewidth": 2
          },
          "yaxis": {
           "automargin": true,
           "gridcolor": "white",
           "linecolor": "white",
           "ticks": "",
           "title": {
            "standoff": 15
           },
           "zerolinecolor": "white",
           "zerolinewidth": 2
          }
         }
        },
        "title": {
         "text": ""
        },
        "width": 600,
        "xaxis": {
         "anchor": "y",
         "color": "grey",
         "domain": [
          0,
          1
         ],
         "linecolor": "grey",
         "showgrid": false,
         "tickcolor": "grey",
         "ticklen": 5,
         "ticks": "outside",
         "tickwidth": 1,
         "title": {
          "text": "Elo"
         }
        },
        "yaxis": {
         "anchor": "x",
         "color": "grey",
         "domain": [
          0,
          1
         ],
         "linecolor": "grey",
         "range": [
          0,
          1
         ],
         "showgrid": false,
         "tickcolor": "grey",
         "tickformat": ",.0%",
         "ticklen": 5,
         "ticks": "outside",
         "tickwidth": 1,
         "title": {
          "text": "Accuracy"
         }
        }
       }
      },
      "text/html": [
       "<div>\n",
       "        \n",
       "        \n",
       "            <div id=\"d1f508a5-d4c0-46c8-aa68-2d62b57cd870\" class=\"plotly-graph-div\" style=\"height:400px; width:600px;\"></div>\n",
       "            <script type=\"text/javascript\">\n",
       "                require([\"plotly\"], function(Plotly) {\n",
       "                    window.PLOTLYENV=window.PLOTLYENV || {};\n",
       "                    \n",
       "                if (document.getElementById(\"d1f508a5-d4c0-46c8-aa68-2d62b57cd870\")) {\n",
       "                    Plotly.newPlot(\n",
       "                        'd1f508a5-d4c0-46c8-aa68-2d62b57cd870',\n",
       "                        [{\"hovertemplate\": \"difficulty=0<br>elo=%{x}<br>correct=%{y}<extra></extra>\", \"legendgroup\": \"0\", \"line\": {\"color\": \"#c6ecff\", \"dash\": \"solid\"}, \"mode\": \"lines\", \"name\": \"0\", \"showlegend\": true, \"type\": \"scatter\", \"x\": [800, 1000, 1200, 1400, 1600, 1800, 2000], \"xaxis\": \"x\", \"y\": [0.75, 0.7614213197969543, 0.838401390095569, 0.8745997865528282, 0.8617511520737328, 0.8726851851851852, 0.8929889298892989], \"yaxis\": \"y\"}, {\"hovertemplate\": \"difficulty=20<br>elo=%{x}<br>correct=%{y}<extra></extra>\", \"legendgroup\": \"20\", \"line\": {\"color\": \"#aee2ff\", \"dash\": \"solid\"}, \"mode\": \"lines\", \"name\": \"20\", \"showlegend\": true, \"type\": \"scatter\", \"x\": [800, 1000, 1200, 1400, 1600, 1800, 2000], \"xaxis\": \"x\", \"y\": [0.5534591194968553, 0.6572637517630465, 0.696528122757631, 0.69475511975895, 0.6919544973817938, 0.7059858187214862, 0.7575757575757576], \"yaxis\": \"y\"}, {\"hovertemplate\": \"difficulty=40<br>elo=%{x}<br>correct=%{y}<extra></extra>\", \"legendgroup\": \"40\", \"line\": {\"color\": \"#96d5ff\", \"dash\": \"solid\"}, \"mode\": \"lines\", \"name\": \"40\", \"showlegend\": true, \"type\": \"scatter\", \"x\": [800, 1000, 1200, 1400, 1600, 1800, 2000], \"xaxis\": \"x\", \"y\": [0.39162112932604737, 0.4668207329151535, 0.4975921273031826, 0.49708046052848615, 0.48947908021285946, 0.5118783655369021, 0.5551470588235294], \"yaxis\": \"y\"}, {\"hovertemplate\": \"difficulty=60<br>elo=%{x}<br>correct=%{y}<extra></extra>\", \"legendgroup\": \"60\", \"line\": {\"color\": \"#69b6fb\", \"dash\": \"solid\"}, \"mode\": \"lines\", \"name\": \"60\", \"showlegend\": true, \"type\": \"scatter\", \"x\": [800, 1000, 1200, 1400, 1600, 1800, 2000], \"xaxis\": \"x\", \"y\": [0.29484029484029484, 0.33862834089762983, 0.36501281155369203, 0.36310932323710365, 0.35844438400870277, 0.3567708333333333, 0.43243243243243246], \"yaxis\": \"y\"}, {\"hovertemplate\": \"difficulty=80<br>elo=%{x}<br>correct=%{y}<extra></extra>\", \"legendgroup\": \"80\", \"line\": {\"color\": \"#4095f2\", \"dash\": \"solid\"}, \"mode\": \"lines\", \"name\": \"80\", \"showlegend\": true, \"type\": \"scatter\", \"x\": [800, 1000, 1200, 1400, 1600, 1800, 2000], \"xaxis\": \"x\", \"y\": [0.18461538461538463, 0.279874213836478, 0.3082039911308204, 0.2669491525423729, 0.3469387755102041, 0.2, 0.5], \"yaxis\": \"y\"}],\n",
       "                        {\"height\": 400, \"legend\": {\"title\": {\"text\": \"difficulty\"}, \"tracegroupgap\": 0}, \"margin\": {\"t\": 60}, \"plot_bgcolor\": \"white\", \"template\": {\"data\": {\"bar\": [{\"error_x\": {\"color\": \"#2a3f5f\"}, \"error_y\": {\"color\": \"#2a3f5f\"}, \"marker\": {\"line\": {\"color\": \"#E5ECF6\", \"width\": 0.5}}, \"type\": \"bar\"}], \"barpolar\": [{\"marker\": {\"line\": {\"color\": \"#E5ECF6\", \"width\": 0.5}}, \"type\": \"barpolar\"}], \"carpet\": [{\"aaxis\": {\"endlinecolor\": \"#2a3f5f\", \"gridcolor\": \"white\", \"linecolor\": \"white\", \"minorgridcolor\": \"white\", \"startlinecolor\": \"#2a3f5f\"}, \"baxis\": {\"endlinecolor\": \"#2a3f5f\", \"gridcolor\": \"white\", \"linecolor\": \"white\", \"minorgridcolor\": \"white\", \"startlinecolor\": \"#2a3f5f\"}, \"type\": \"carpet\"}], \"choropleth\": [{\"colorbar\": {\"outlinewidth\": 0, \"ticks\": \"\"}, \"type\": \"choropleth\"}], \"contour\": [{\"colorbar\": {\"outlinewidth\": 0, \"ticks\": \"\"}, \"colorscale\": [[0.0, \"#0d0887\"], [0.1111111111111111, \"#46039f\"], [0.2222222222222222, \"#7201a8\"], [0.3333333333333333, \"#9c179e\"], [0.4444444444444444, \"#bd3786\"], [0.5555555555555556, \"#d8576b\"], [0.6666666666666666, \"#ed7953\"], [0.7777777777777778, \"#fb9f3a\"], [0.8888888888888888, \"#fdca26\"], [1.0, \"#f0f921\"]], \"type\": \"contour\"}], \"contourcarpet\": [{\"colorbar\": {\"outlinewidth\": 0, \"ticks\": \"\"}, \"type\": \"contourcarpet\"}], \"heatmap\": [{\"colorbar\": {\"outlinewidth\": 0, \"ticks\": \"\"}, \"colorscale\": [[0.0, \"#0d0887\"], [0.1111111111111111, \"#46039f\"], [0.2222222222222222, \"#7201a8\"], [0.3333333333333333, \"#9c179e\"], [0.4444444444444444, \"#bd3786\"], [0.5555555555555556, \"#d8576b\"], [0.6666666666666666, \"#ed7953\"], [0.7777777777777778, \"#fb9f3a\"], [0.8888888888888888, \"#fdca26\"], [1.0, \"#f0f921\"]], \"type\": \"heatmap\"}], \"heatmapgl\": [{\"colorbar\": {\"outlinewidth\": 0, \"ticks\": \"\"}, \"colorscale\": [[0.0, \"#0d0887\"], [0.1111111111111111, \"#46039f\"], [0.2222222222222222, \"#7201a8\"], [0.3333333333333333, \"#9c179e\"], [0.4444444444444444, \"#bd3786\"], [0.5555555555555556, \"#d8576b\"], [0.6666666666666666, \"#ed7953\"], [0.7777777777777778, \"#fb9f3a\"], [0.8888888888888888, \"#fdca26\"], [1.0, \"#f0f921\"]], \"type\": \"heatmapgl\"}], \"histogram\": [{\"marker\": {\"colorbar\": {\"outlinewidth\": 0, \"ticks\": \"\"}}, \"type\": \"histogram\"}], \"histogram2d\": [{\"colorbar\": {\"outlinewidth\": 0, \"ticks\": \"\"}, \"colorscale\": [[0.0, \"#0d0887\"], [0.1111111111111111, \"#46039f\"], [0.2222222222222222, \"#7201a8\"], [0.3333333333333333, \"#9c179e\"], [0.4444444444444444, \"#bd3786\"], [0.5555555555555556, \"#d8576b\"], [0.6666666666666666, \"#ed7953\"], [0.7777777777777778, \"#fb9f3a\"], [0.8888888888888888, \"#fdca26\"], [1.0, \"#f0f921\"]], \"type\": \"histogram2d\"}], \"histogram2dcontour\": [{\"colorbar\": {\"outlinewidth\": 0, \"ticks\": \"\"}, \"colorscale\": [[0.0, \"#0d0887\"], [0.1111111111111111, \"#46039f\"], [0.2222222222222222, \"#7201a8\"], [0.3333333333333333, \"#9c179e\"], [0.4444444444444444, \"#bd3786\"], [0.5555555555555556, \"#d8576b\"], [0.6666666666666666, \"#ed7953\"], [0.7777777777777778, \"#fb9f3a\"], [0.8888888888888888, \"#fdca26\"], [1.0, \"#f0f921\"]], \"type\": \"histogram2dcontour\"}], \"mesh3d\": [{\"colorbar\": {\"outlinewidth\": 0, \"ticks\": \"\"}, \"type\": \"mesh3d\"}], \"parcoords\": [{\"line\": {\"colorbar\": {\"outlinewidth\": 0, \"ticks\": \"\"}}, \"type\": \"parcoords\"}], \"pie\": [{\"automargin\": true, \"type\": \"pie\"}], \"scatter\": [{\"marker\": {\"colorbar\": {\"outlinewidth\": 0, \"ticks\": \"\"}}, \"type\": \"scatter\"}], \"scatter3d\": [{\"line\": {\"colorbar\": {\"outlinewidth\": 0, \"ticks\": \"\"}}, \"marker\": {\"colorbar\": {\"outlinewidth\": 0, \"ticks\": \"\"}}, \"type\": \"scatter3d\"}], \"scattercarpet\": [{\"marker\": {\"colorbar\": {\"outlinewidth\": 0, \"ticks\": \"\"}}, \"type\": \"scattercarpet\"}], \"scattergeo\": [{\"marker\": {\"colorbar\": {\"outlinewidth\": 0, \"ticks\": \"\"}}, \"type\": \"scattergeo\"}], \"scattergl\": [{\"marker\": {\"colorbar\": {\"outlinewidth\": 0, \"ticks\": \"\"}}, \"type\": \"scattergl\"}], \"scattermapbox\": [{\"marker\": {\"colorbar\": {\"outlinewidth\": 0, \"ticks\": \"\"}}, \"type\": \"scattermapbox\"}], \"scatterpolar\": [{\"marker\": {\"colorbar\": {\"outlinewidth\": 0, \"ticks\": \"\"}}, \"type\": \"scatterpolar\"}], \"scatterpolargl\": [{\"marker\": {\"colorbar\": {\"outlinewidth\": 0, \"ticks\": \"\"}}, \"type\": \"scatterpolargl\"}], \"scatterternary\": [{\"marker\": {\"colorbar\": {\"outlinewidth\": 0, \"ticks\": \"\"}}, \"type\": \"scatterternary\"}], \"surface\": [{\"colorbar\": {\"outlinewidth\": 0, \"ticks\": \"\"}, \"colorscale\": [[0.0, \"#0d0887\"], [0.1111111111111111, \"#46039f\"], [0.2222222222222222, \"#7201a8\"], [0.3333333333333333, \"#9c179e\"], [0.4444444444444444, \"#bd3786\"], [0.5555555555555556, \"#d8576b\"], [0.6666666666666666, \"#ed7953\"], [0.7777777777777778, \"#fb9f3a\"], [0.8888888888888888, \"#fdca26\"], [1.0, \"#f0f921\"]], \"type\": \"surface\"}], \"table\": [{\"cells\": {\"fill\": {\"color\": \"#EBF0F8\"}, \"line\": {\"color\": \"white\"}}, \"header\": {\"fill\": {\"color\": \"#C8D4E3\"}, \"line\": {\"color\": \"white\"}}, \"type\": \"table\"}]}, \"layout\": {\"annotationdefaults\": {\"arrowcolor\": \"#2a3f5f\", \"arrowhead\": 0, \"arrowwidth\": 1}, \"coloraxis\": {\"colorbar\": {\"outlinewidth\": 0, \"ticks\": \"\"}}, \"colorscale\": {\"diverging\": [[0, \"#8e0152\"], [0.1, \"#c51b7d\"], [0.2, \"#de77ae\"], [0.3, \"#f1b6da\"], [0.4, \"#fde0ef\"], [0.5, \"#f7f7f7\"], [0.6, \"#e6f5d0\"], [0.7, \"#b8e186\"], [0.8, \"#7fbc41\"], [0.9, \"#4d9221\"], [1, \"#276419\"]], \"sequential\": [[0.0, \"#0d0887\"], [0.1111111111111111, \"#46039f\"], [0.2222222222222222, \"#7201a8\"], [0.3333333333333333, \"#9c179e\"], [0.4444444444444444, \"#bd3786\"], [0.5555555555555556, \"#d8576b\"], [0.6666666666666666, \"#ed7953\"], [0.7777777777777778, \"#fb9f3a\"], [0.8888888888888888, \"#fdca26\"], [1.0, \"#f0f921\"]], \"sequentialminus\": [[0.0, \"#0d0887\"], [0.1111111111111111, \"#46039f\"], [0.2222222222222222, \"#7201a8\"], [0.3333333333333333, \"#9c179e\"], [0.4444444444444444, \"#bd3786\"], [0.5555555555555556, \"#d8576b\"], [0.6666666666666666, \"#ed7953\"], [0.7777777777777778, \"#fb9f3a\"], [0.8888888888888888, \"#fdca26\"], [1.0, \"#f0f921\"]]}, \"colorway\": [\"#636efa\", \"#EF553B\", \"#00cc96\", \"#ab63fa\", \"#FFA15A\", \"#19d3f3\", \"#FF6692\", \"#B6E880\", \"#FF97FF\", \"#FECB52\"], \"font\": {\"color\": \"#2a3f5f\"}, \"geo\": {\"bgcolor\": \"white\", \"lakecolor\": \"white\", \"landcolor\": \"#E5ECF6\", \"showlakes\": true, \"showland\": true, \"subunitcolor\": \"white\"}, \"hoverlabel\": {\"align\": \"left\"}, \"hovermode\": \"closest\", \"mapbox\": {\"style\": \"light\"}, \"paper_bgcolor\": \"white\", \"plot_bgcolor\": \"#E5ECF6\", \"polar\": {\"angularaxis\": {\"gridcolor\": \"white\", \"linecolor\": \"white\", \"ticks\": \"\"}, \"bgcolor\": \"#E5ECF6\", \"radialaxis\": {\"gridcolor\": \"white\", \"linecolor\": \"white\", \"ticks\": \"\"}}, \"scene\": {\"xaxis\": {\"backgroundcolor\": \"#E5ECF6\", \"gridcolor\": \"white\", \"gridwidth\": 2, \"linecolor\": \"white\", \"showbackground\": true, \"ticks\": \"\", \"zerolinecolor\": \"white\"}, \"yaxis\": {\"backgroundcolor\": \"#E5ECF6\", \"gridcolor\": \"white\", \"gridwidth\": 2, \"linecolor\": \"white\", \"showbackground\": true, \"ticks\": \"\", \"zerolinecolor\": \"white\"}, \"zaxis\": {\"backgroundcolor\": \"#E5ECF6\", \"gridcolor\": \"white\", \"gridwidth\": 2, \"linecolor\": \"white\", \"showbackground\": true, \"ticks\": \"\", \"zerolinecolor\": \"white\"}}, \"shapedefaults\": {\"line\": {\"color\": \"#2a3f5f\"}}, \"ternary\": {\"aaxis\": {\"gridcolor\": \"white\", \"linecolor\": \"white\", \"ticks\": \"\"}, \"baxis\": {\"gridcolor\": \"white\", \"linecolor\": \"white\", \"ticks\": \"\"}, \"bgcolor\": \"#E5ECF6\", \"caxis\": {\"gridcolor\": \"white\", \"linecolor\": \"white\", \"ticks\": \"\"}}, \"title\": {\"x\": 0.05}, \"xaxis\": {\"automargin\": true, \"gridcolor\": \"white\", \"linecolor\": \"white\", \"ticks\": \"\", \"title\": {\"standoff\": 15}, \"zerolinecolor\": \"white\", \"zerolinewidth\": 2}, \"yaxis\": {\"automargin\": true, \"gridcolor\": \"white\", \"linecolor\": \"white\", \"ticks\": \"\", \"title\": {\"standoff\": 15}, \"zerolinecolor\": \"white\", \"zerolinewidth\": 2}}}, \"title\": {\"text\": \"\"}, \"width\": 600, \"xaxis\": {\"anchor\": \"y\", \"color\": \"grey\", \"domain\": [0.0, 1.0], \"linecolor\": \"grey\", \"showgrid\": false, \"tickcolor\": \"grey\", \"ticklen\": 5, \"ticks\": \"outside\", \"tickwidth\": 1, \"title\": {\"text\": \"Elo\"}}, \"yaxis\": {\"anchor\": \"x\", \"color\": \"grey\", \"domain\": [0.0, 1.0], \"linecolor\": \"grey\", \"range\": [0, 1], \"showgrid\": false, \"tickcolor\": \"grey\", \"tickformat\": \",.0%\", \"ticklen\": 5, \"ticks\": \"outside\", \"tickwidth\": 1, \"title\": {\"text\": \"Accuracy\"}}},\n",
       "                        {\"responsive\": true}\n",
       "                    ).then(function(){\n",
       "                            \n",
       "var gd = document.getElementById('d1f508a5-d4c0-46c8-aa68-2d62b57cd870');\n",
       "var x = new MutationObserver(function (mutations, observer) {{\n",
       "        var display = window.getComputedStyle(gd).display;\n",
       "        if (!display || display === 'none') {{\n",
       "            console.log([gd, 'removed!']);\n",
       "            Plotly.purge(gd);\n",
       "            observer.disconnect();\n",
       "        }}\n",
       "}});\n",
       "\n",
       "// Listen for the removal of the full notebook cells\n",
       "var notebookContainer = gd.closest('#notebook-container');\n",
       "if (notebookContainer) {{\n",
       "    x.observe(notebookContainer, {childList: true});\n",
       "}}\n",
       "\n",
       "// Listen for the clearing of the current output cell\n",
       "var outputEl = gd.closest('.output');\n",
       "if (outputEl) {{\n",
       "    x.observe(outputEl, {childList: true});\n",
       "}}\n",
       "\n",
       "                        })\n",
       "                };\n",
       "                });\n",
       "            </script>\n",
       "        </div>"
      ]
     },
     "metadata": {},
     "output_type": "display_data"
    }
   ],
   "source": [
    "import plotly.express as px\n",
    "\n",
    "column = 'difficulty'\n",
    "\n",
    "plot_df = df\n",
    "plot_df['elo'] = df['elo'].apply(lambda x: int(x / 200) * 200)\n",
    "plot_df = plot_df[plot_df['elo'] <= 2000]\n",
    "plot_df = plot_df[plot_df['elo'] >= 800]\n",
    "\n",
    "\n",
    "# plot_df = plot_df[plot_df['best_mate'] < 6]\n",
    "plot_df = plot_df[plot_df['fullmove_number'] <= 50]\n",
    "# plot_df['fullmove_number'] = df['fullmove_number'].apply(lambda x: int(x / 10) * 10)\n",
    "plot_df['difficulty'] = df['difficulty'].apply(lambda x: int(x * 5) * 20)\n",
    "plot_df = plot_df.groupby([column, 'elo'], as_index=False).mean()\n",
    "\n",
    "\n",
    "layout = {\n",
    "    'title': '',\n",
    "    'plot_bgcolor': 'white',\n",
    "     \n",
    "    'width': 600,\n",
    "    'height': 400,\n",
    "\n",
    "    'xaxis': {\n",
    "        'title_text': 'Elo',\n",
    "        'color': 'grey',\n",
    "        'linecolor': 'grey',\n",
    "        'ticks': 'outside',\n",
    "        'tickwidth': 1,\n",
    "        'tickcolor': 'grey',\n",
    "        'ticklen': 5,\n",
    "        'showgrid': False,\n",
    "    },\n",
    "\n",
    "    'yaxis': {\n",
    "        'title_text': 'Accuracy',\n",
    "        'range': [0, 1],\n",
    "        'tickformat': ',.0%',\n",
    "        'color': 'grey',\n",
    "        'linecolor': 'grey',\n",
    "        'ticks': 'outside',\n",
    "        'tickwidth': 1,\n",
    "        'tickcolor': 'grey',\n",
    "        'ticklen': 5,\n",
    "        'showgrid': False,\n",
    "    }\n",
    " }\n",
    "\n",
    "colors = {\n",
    "    \"0\": \"#c6ecff\",\n",
    "    \"5\": \"#aee2ff\",\n",
    "    \"10\": \"#96d5ff\",\n",
    "    \"20\": \"#69b6fb\",\n",
    "    \"30\": \"#4095f2\",\n",
    "    \"40\": \"#1a73e8\",\n",
    "    \"50\": \"#206080\"\n",
    "}\n",
    "\n",
    "fig = px.line(plot_df, x='elo', y='correct', color=column, color_discrete_sequence=list(colors.values()))\n",
    "fig.update_layout(layout)"
   ]
  },
  {
   "cell_type": "code",
   "execution_count": 56,
   "metadata": {
    "ExecuteTime": {
     "end_time": "2020-08-02T17:44:27.503316Z",
     "start_time": "2020-08-02T17:44:27.442648Z"
    }
   },
   "outputs": [
    {
     "data": {
      "text/html": [
       "<div>\n",
       "<style scoped>\n",
       "    .dataframe tbody tr th:only-of-type {\n",
       "        vertical-align: middle;\n",
       "    }\n",
       "\n",
       "    .dataframe tbody tr th {\n",
       "        vertical-align: top;\n",
       "    }\n",
       "\n",
       "    .dataframe thead th {\n",
       "        text-align: right;\n",
       "    }\n",
       "</style>\n",
       "<table border=\"1\" class=\"dataframe\">\n",
       "  <thead>\n",
       "    <tr style=\"text-align: right;\">\n",
       "      <th></th>\n",
       "      <th>fen</th>\n",
       "      <th>elo</th>\n",
       "      <th>move</th>\n",
       "      <th>best_pv</th>\n",
       "      <th>best_move</th>\n",
       "      <th>best_mate</th>\n",
       "      <th>best_pv2</th>\n",
       "      <th>best_move2</th>\n",
       "      <th>best_score2</th>\n",
       "      <th>correct</th>\n",
       "      <th>...</th>\n",
       "      <th>our_queens</th>\n",
       "      <th>our_rooks</th>\n",
       "      <th>piece_count</th>\n",
       "      <th>their_bishops</th>\n",
       "      <th>their_knights</th>\n",
       "      <th>their_pawns</th>\n",
       "      <th>their_piece_count</th>\n",
       "      <th>their_queens</th>\n",
       "      <th>their_rooks</th>\n",
       "      <th>difficulty</th>\n",
       "    </tr>\n",
       "  </thead>\n",
       "  <tbody>\n",
       "    <tr>\n",
       "      <th>0</th>\n",
       "      <td>r5k1/p3rpp1/2Bb3p/P6q/4p3/P1P3Pb/3PNK2/RNBQ3R ...</td>\n",
       "      <td>1346.0</td>\n",
       "      <td>h5f3</td>\n",
       "      <td>['h5f3', 'f2e1', 'f3h1', 'e2g1', 'h1g1', 'e1e2...</td>\n",
       "      <td>h5f3</td>\n",
       "      <td>4.0</td>\n",
       "      <td>['h5f5', 'f2e1', 'a8d8', 'd1a4', 'h3g4', 'a4c2']</td>\n",
       "      <td>h5f5</td>\n",
       "      <td>-161.0</td>\n",
       "      <td>True</td>\n",
       "      <td>...</td>\n",
       "      <td>1</td>\n",
       "      <td>2</td>\n",
       "      <td>24</td>\n",
       "      <td>2</td>\n",
       "      <td>2</td>\n",
       "      <td>5</td>\n",
       "      <td>13</td>\n",
       "      <td>1</td>\n",
       "      <td>2</td>\n",
       "      <td>0.555605</td>\n",
       "    </tr>\n",
       "    <tr>\n",
       "      <th>1</th>\n",
       "      <td>r5k1/p3rpp1/2Bb3p/P7/4p3/P1P2qPb/3PN3/RNBQK2R ...</td>\n",
       "      <td>1346.0</td>\n",
       "      <td>f3h1</td>\n",
       "      <td>['f3h1', 'e2g1', 'h1g1', 'e1e2', 'h3g4']</td>\n",
       "      <td>f3h1</td>\n",
       "      <td>3.0</td>\n",
       "      <td>['d6c5', 'e2d4', 'f3h1', 'e1f2', 'h1h2', 'f2e3...</td>\n",
       "      <td>d6c5</td>\n",
       "      <td>1590.0</td>\n",
       "      <td>True</td>\n",
       "      <td>...</td>\n",
       "      <td>1</td>\n",
       "      <td>2</td>\n",
       "      <td>24</td>\n",
       "      <td>2</td>\n",
       "      <td>2</td>\n",
       "      <td>5</td>\n",
       "      <td>13</td>\n",
       "      <td>1</td>\n",
       "      <td>2</td>\n",
       "      <td>0.529898</td>\n",
       "    </tr>\n",
       "    <tr>\n",
       "      <th>2</th>\n",
       "      <td>r1b2rk1/pp3pp1/3qp3/7Q/3p4/5N2/PPP2PPP/R5K1 w ...</td>\n",
       "      <td>2074.0</td>\n",
       "      <td>f3g5</td>\n",
       "      <td>['f3g5', 'f8d8', 'h5f7', 'g8h8', 'f7h5', 'h8g8...</td>\n",
       "      <td>f3g5</td>\n",
       "      <td>7.0</td>\n",
       "      <td>['a1d1', 'd6f4', 'h2h3', 'f4f5', 'h5g4', 'e6e5...</td>\n",
       "      <td>a1d1</td>\n",
       "      <td>-576.0</td>\n",
       "      <td>True</td>\n",
       "      <td>...</td>\n",
       "      <td>1</td>\n",
       "      <td>1</td>\n",
       "      <td>21</td>\n",
       "      <td>1</td>\n",
       "      <td>0</td>\n",
       "      <td>6</td>\n",
       "      <td>11</td>\n",
       "      <td>1</td>\n",
       "      <td>2</td>\n",
       "      <td>0.791094</td>\n",
       "    </tr>\n",
       "    <tr>\n",
       "      <th>3</th>\n",
       "      <td>r1b1r1k1/pp3pp1/3qp3/6NQ/3p4/8/PPP2PPP/R5K1 w ...</td>\n",
       "      <td>2074.0</td>\n",
       "      <td>h5f7</td>\n",
       "      <td>['h5f7', 'g8h8', 'f7e8', 'd6f8', 'e8f8']</td>\n",
       "      <td>h5f7</td>\n",
       "      <td>3.0</td>\n",
       "      <td>['g2g3', 'd6c7', 'h5h7', 'g8f8', 'h7h8', 'f8e7...</td>\n",
       "      <td>g2g3</td>\n",
       "      <td>-201.0</td>\n",
       "      <td>True</td>\n",
       "      <td>...</td>\n",
       "      <td>1</td>\n",
       "      <td>1</td>\n",
       "      <td>21</td>\n",
       "      <td>1</td>\n",
       "      <td>0</td>\n",
       "      <td>6</td>\n",
       "      <td>11</td>\n",
       "      <td>1</td>\n",
       "      <td>2</td>\n",
       "      <td>0.875332</td>\n",
       "    </tr>\n",
       "    <tr>\n",
       "      <th>4</th>\n",
       "      <td>k2r1b2/p2Np1p1/4P3/3p2Q1/3PnB1p/2P4K/PPq5/R3R3...</td>\n",
       "      <td>1655.0</td>\n",
       "      <td>g5d5</td>\n",
       "      <td>['g5d5']</td>\n",
       "      <td>g5d5</td>\n",
       "      <td>1.0</td>\n",
       "      <td>['g5e5', 'e4d6', 'e5d5', 'd6b7', 'a1c1', 'c2h7...</td>\n",
       "      <td>g5e5</td>\n",
       "      <td>943.0</td>\n",
       "      <td>True</td>\n",
       "      <td>...</td>\n",
       "      <td>1</td>\n",
       "      <td>2</td>\n",
       "      <td>21</td>\n",
       "      <td>1</td>\n",
       "      <td>1</td>\n",
       "      <td>5</td>\n",
       "      <td>10</td>\n",
       "      <td>1</td>\n",
       "      <td>1</td>\n",
       "      <td>0.706450</td>\n",
       "    </tr>\n",
       "    <tr>\n",
       "      <th>...</th>\n",
       "      <td>...</td>\n",
       "      <td>...</td>\n",
       "      <td>...</td>\n",
       "      <td>...</td>\n",
       "      <td>...</td>\n",
       "      <td>...</td>\n",
       "      <td>...</td>\n",
       "      <td>...</td>\n",
       "      <td>...</td>\n",
       "      <td>...</td>\n",
       "      <td>...</td>\n",
       "      <td>...</td>\n",
       "      <td>...</td>\n",
       "      <td>...</td>\n",
       "      <td>...</td>\n",
       "      <td>...</td>\n",
       "      <td>...</td>\n",
       "      <td>...</td>\n",
       "      <td>...</td>\n",
       "      <td>...</td>\n",
       "      <td>...</td>\n",
       "    </tr>\n",
       "    <tr>\n",
       "      <th>53044</th>\n",
       "      <td>rn2r1k1/p5pp/2p5/3q1p2/1Q1n1B2/1P4P1/P4P1P/2R3...</td>\n",
       "      <td>1404.0</td>\n",
       "      <td>d4e2</td>\n",
       "      <td>['d4e2', 'g1f1', 'd5h1']</td>\n",
       "      <td>d4e2</td>\n",
       "      <td>2.0</td>\n",
       "      <td>['g8h8', 'f2f3', 'd4f3', 'g1f2', 'f3d4', 'f4e3']</td>\n",
       "      <td>g8h8</td>\n",
       "      <td>1605.0</td>\n",
       "      <td>True</td>\n",
       "      <td>...</td>\n",
       "      <td>1</td>\n",
       "      <td>2</td>\n",
       "      <td>20</td>\n",
       "      <td>1</td>\n",
       "      <td>0</td>\n",
       "      <td>5</td>\n",
       "      <td>9</td>\n",
       "      <td>1</td>\n",
       "      <td>1</td>\n",
       "      <td>0.602676</td>\n",
       "    </tr>\n",
       "    <tr>\n",
       "      <th>53045</th>\n",
       "      <td>4R1rk/p1p3pp/2p5/8/8/8/PP4PP/3q1Q1K b - - 4 28</td>\n",
       "      <td>1463.0</td>\n",
       "      <td>d1f1</td>\n",
       "      <td>['d1f1']</td>\n",
       "      <td>d1f1</td>\n",
       "      <td>1.0</td>\n",
       "      <td>['d1d2', 'e8e2', 'd2d5', 'e2e1', 'd5a2', 'f1f4...</td>\n",
       "      <td>d1d2</td>\n",
       "      <td>123.0</td>\n",
       "      <td>True</td>\n",
       "      <td>...</td>\n",
       "      <td>1</td>\n",
       "      <td>1</td>\n",
       "      <td>15</td>\n",
       "      <td>0</td>\n",
       "      <td>0</td>\n",
       "      <td>4</td>\n",
       "      <td>7</td>\n",
       "      <td>1</td>\n",
       "      <td>1</td>\n",
       "      <td>0.807846</td>\n",
       "    </tr>\n",
       "    <tr>\n",
       "      <th>53046</th>\n",
       "      <td>r1b2rk1/ppp2p1p/2n1pp2/q1Pp4/3P4/2PB1Q2/PN1B1P...</td>\n",
       "      <td>1552.0</td>\n",
       "      <td>f3g4</td>\n",
       "      <td>['d2h6', 'c6e5', 'f3f6', 'e5f3', 'g2f3', 'c7c6...</td>\n",
       "      <td>d2h6</td>\n",
       "      <td>4.0</td>\n",
       "      <td>['f3h5', 'f6f5', 'd2h6', 'g8h8', 'h5g5']</td>\n",
       "      <td>f3h5</td>\n",
       "      <td>1373.0</td>\n",
       "      <td>False</td>\n",
       "      <td>...</td>\n",
       "      <td>1</td>\n",
       "      <td>2</td>\n",
       "      <td>28</td>\n",
       "      <td>1</td>\n",
       "      <td>1</td>\n",
       "      <td>8</td>\n",
       "      <td>14</td>\n",
       "      <td>1</td>\n",
       "      <td>2</td>\n",
       "      <td>0.584575</td>\n",
       "    </tr>\n",
       "    <tr>\n",
       "      <th>53047</th>\n",
       "      <td>r1b2r1k/ppp2p1p/2n1pp2/q1Pp4/3P2Q1/2PB4/PN1B1P...</td>\n",
       "      <td>1552.0</td>\n",
       "      <td>g4h5</td>\n",
       "      <td>['g4h4', 'f6f5', 'h4f6', 'h8g8', 'd2h6', 'f5f4...</td>\n",
       "      <td>g4h4</td>\n",
       "      <td>4.0</td>\n",
       "      <td>['d2h6', 'f8g8', 'g4h4', 'g8g6', 'd3g6', 'h8g8...</td>\n",
       "      <td>d2h6</td>\n",
       "      <td>2122.0</td>\n",
       "      <td>False</td>\n",
       "      <td>...</td>\n",
       "      <td>1</td>\n",
       "      <td>2</td>\n",
       "      <td>28</td>\n",
       "      <td>1</td>\n",
       "      <td>1</td>\n",
       "      <td>8</td>\n",
       "      <td>14</td>\n",
       "      <td>1</td>\n",
       "      <td>2</td>\n",
       "      <td>0.580778</td>\n",
       "    </tr>\n",
       "    <tr>\n",
       "      <th>53048</th>\n",
       "      <td>8/8/2Q4p/3p2p1/6Pk/1p3P2/3q3P/5K2 w - - 1 54</td>\n",
       "      <td>1429.0</td>\n",
       "      <td>c6h6</td>\n",
       "      <td>['c6h6']</td>\n",
       "      <td>c6h6</td>\n",
       "      <td>1.0</td>\n",
       "      <td>['c6b6', 'h6h5', 'b6b3', 'h5g4', 'f3g4', 'd2f4...</td>\n",
       "      <td>c6b6</td>\n",
       "      <td>-146.0</td>\n",
       "      <td>True</td>\n",
       "      <td>...</td>\n",
       "      <td>1</td>\n",
       "      <td>0</td>\n",
       "      <td>11</td>\n",
       "      <td>0</td>\n",
       "      <td>0</td>\n",
       "      <td>4</td>\n",
       "      <td>6</td>\n",
       "      <td>1</td>\n",
       "      <td>0</td>\n",
       "      <td>0.774177</td>\n",
       "    </tr>\n",
       "  </tbody>\n",
       "</table>\n",
       "<p>53049 rows × 44 columns</p>\n",
       "</div>"
      ],
      "text/plain": [
       "                                                     fen     elo  move  \\\n",
       "0      r5k1/p3rpp1/2Bb3p/P6q/4p3/P1P3Pb/3PNK2/RNBQ3R ...  1346.0  h5f3   \n",
       "1      r5k1/p3rpp1/2Bb3p/P7/4p3/P1P2qPb/3PN3/RNBQK2R ...  1346.0  f3h1   \n",
       "2      r1b2rk1/pp3pp1/3qp3/7Q/3p4/5N2/PPP2PPP/R5K1 w ...  2074.0  f3g5   \n",
       "3      r1b1r1k1/pp3pp1/3qp3/6NQ/3p4/8/PPP2PPP/R5K1 w ...  2074.0  h5f7   \n",
       "4      k2r1b2/p2Np1p1/4P3/3p2Q1/3PnB1p/2P4K/PPq5/R3R3...  1655.0  g5d5   \n",
       "...                                                  ...     ...   ...   \n",
       "53044  rn2r1k1/p5pp/2p5/3q1p2/1Q1n1B2/1P4P1/P4P1P/2R3...  1404.0  d4e2   \n",
       "53045     4R1rk/p1p3pp/2p5/8/8/8/PP4PP/3q1Q1K b - - 4 28  1463.0  d1f1   \n",
       "53046  r1b2rk1/ppp2p1p/2n1pp2/q1Pp4/3P4/2PB1Q2/PN1B1P...  1552.0  f3g4   \n",
       "53047  r1b2r1k/ppp2p1p/2n1pp2/q1Pp4/3P2Q1/2PB4/PN1B1P...  1552.0  g4h5   \n",
       "53048       8/8/2Q4p/3p2p1/6Pk/1p3P2/3q3P/5K2 w - - 1 54  1429.0  c6h6   \n",
       "\n",
       "                                                 best_pv best_move  best_mate  \\\n",
       "0      ['h5f3', 'f2e1', 'f3h1', 'e2g1', 'h1g1', 'e1e2...      h5f3        4.0   \n",
       "1               ['f3h1', 'e2g1', 'h1g1', 'e1e2', 'h3g4']      f3h1        3.0   \n",
       "2      ['f3g5', 'f8d8', 'h5f7', 'g8h8', 'f7h5', 'h8g8...      f3g5        7.0   \n",
       "3               ['h5f7', 'g8h8', 'f7e8', 'd6f8', 'e8f8']      h5f7        3.0   \n",
       "4                                               ['g5d5']      g5d5        1.0   \n",
       "...                                                  ...       ...        ...   \n",
       "53044                           ['d4e2', 'g1f1', 'd5h1']      d4e2        2.0   \n",
       "53045                                           ['d1f1']      d1f1        1.0   \n",
       "53046  ['d2h6', 'c6e5', 'f3f6', 'e5f3', 'g2f3', 'c7c6...      d2h6        4.0   \n",
       "53047  ['g4h4', 'f6f5', 'h4f6', 'h8g8', 'd2h6', 'f5f4...      g4h4        4.0   \n",
       "53048                                           ['c6h6']      c6h6        1.0   \n",
       "\n",
       "                                                best_pv2 best_move2  \\\n",
       "0       ['h5f5', 'f2e1', 'a8d8', 'd1a4', 'h3g4', 'a4c2']       h5f5   \n",
       "1      ['d6c5', 'e2d4', 'f3h1', 'e1f2', 'h1h2', 'f2e3...       d6c5   \n",
       "2      ['a1d1', 'd6f4', 'h2h3', 'f4f5', 'h5g4', 'e6e5...       a1d1   \n",
       "3      ['g2g3', 'd6c7', 'h5h7', 'g8f8', 'h7h8', 'f8e7...       g2g3   \n",
       "4      ['g5e5', 'e4d6', 'e5d5', 'd6b7', 'a1c1', 'c2h7...       g5e5   \n",
       "...                                                  ...        ...   \n",
       "53044   ['g8h8', 'f2f3', 'd4f3', 'g1f2', 'f3d4', 'f4e3']       g8h8   \n",
       "53045  ['d1d2', 'e8e2', 'd2d5', 'e2e1', 'd5a2', 'f1f4...       d1d2   \n",
       "53046           ['f3h5', 'f6f5', 'd2h6', 'g8h8', 'h5g5']       f3h5   \n",
       "53047  ['d2h6', 'f8g8', 'g4h4', 'g8g6', 'd3g6', 'h8g8...       d2h6   \n",
       "53048  ['c6b6', 'h6h5', 'b6b3', 'h5g4', 'f3g4', 'd2f4...       c6b6   \n",
       "\n",
       "       best_score2  correct  ...  our_queens  our_rooks  piece_count  \\\n",
       "0           -161.0     True  ...           1          2           24   \n",
       "1           1590.0     True  ...           1          2           24   \n",
       "2           -576.0     True  ...           1          1           21   \n",
       "3           -201.0     True  ...           1          1           21   \n",
       "4            943.0     True  ...           1          2           21   \n",
       "...            ...      ...  ...         ...        ...          ...   \n",
       "53044       1605.0     True  ...           1          2           20   \n",
       "53045        123.0     True  ...           1          1           15   \n",
       "53046       1373.0    False  ...           1          2           28   \n",
       "53047       2122.0    False  ...           1          2           28   \n",
       "53048       -146.0     True  ...           1          0           11   \n",
       "\n",
       "       their_bishops  their_knights  their_pawns  their_piece_count  \\\n",
       "0                  2              2            5                 13   \n",
       "1                  2              2            5                 13   \n",
       "2                  1              0            6                 11   \n",
       "3                  1              0            6                 11   \n",
       "4                  1              1            5                 10   \n",
       "...              ...            ...          ...                ...   \n",
       "53044              1              0            5                  9   \n",
       "53045              0              0            4                  7   \n",
       "53046              1              1            8                 14   \n",
       "53047              1              1            8                 14   \n",
       "53048              0              0            4                  6   \n",
       "\n",
       "       their_queens  their_rooks  difficulty  \n",
       "0                 1            2    0.555605  \n",
       "1                 1            2    0.529898  \n",
       "2                 1            2    0.791094  \n",
       "3                 1            2    0.875332  \n",
       "4                 1            1    0.706450  \n",
       "...             ...          ...         ...  \n",
       "53044             1            1    0.602676  \n",
       "53045             1            1    0.807846  \n",
       "53046             1            2    0.584575  \n",
       "53047             1            2    0.580778  \n",
       "53048             1            0    0.774177  \n",
       "\n",
       "[53049 rows x 44 columns]"
      ]
     },
     "execution_count": 56,
     "metadata": {},
     "output_type": "execute_result"
    }
   ],
   "source": [
    "df"
   ]
  },
  {
   "cell_type": "code",
   "execution_count": 69,
   "metadata": {
    "ExecuteTime": {
     "end_time": "2020-08-02T18:15:04.632246Z",
     "start_time": "2020-08-02T18:15:04.327823Z"
    }
   },
   "outputs": [
    {
     "data": {
      "text/html": [
       "<div>\n",
       "<style scoped>\n",
       "    .dataframe tbody tr th:only-of-type {\n",
       "        vertical-align: middle;\n",
       "    }\n",
       "\n",
       "    .dataframe tbody tr th {\n",
       "        vertical-align: top;\n",
       "    }\n",
       "\n",
       "    .dataframe thead th {\n",
       "        text-align: right;\n",
       "    }\n",
       "</style>\n",
       "<table border=\"1\" class=\"dataframe\">\n",
       "  <thead>\n",
       "    <tr style=\"text-align: right;\">\n",
       "      <th></th>\n",
       "      <th>fen</th>\n",
       "      <th>elo</th>\n",
       "      <th>move</th>\n",
       "      <th>best_pv</th>\n",
       "      <th>best_move</th>\n",
       "      <th>best_mate</th>\n",
       "      <th>best_pv2</th>\n",
       "      <th>best_move2</th>\n",
       "      <th>best_score2</th>\n",
       "      <th>correct</th>\n",
       "      <th>...</th>\n",
       "      <th>our_queens</th>\n",
       "      <th>our_rooks</th>\n",
       "      <th>piece_count</th>\n",
       "      <th>their_bishops</th>\n",
       "      <th>their_knights</th>\n",
       "      <th>their_pawns</th>\n",
       "      <th>their_piece_count</th>\n",
       "      <th>their_queens</th>\n",
       "      <th>their_rooks</th>\n",
       "      <th>difficulty</th>\n",
       "    </tr>\n",
       "  </thead>\n",
       "  <tbody>\n",
       "    <tr>\n",
       "      <th>0</th>\n",
       "      <td>r5k1/p3rpp1/2Bb3p/P6q/4p3/P1P3Pb/3PNK2/RNBQ3R ...</td>\n",
       "      <td>1200</td>\n",
       "      <td>h5f3</td>\n",
       "      <td>['h5f3', 'f2e1', 'f3h1', 'e2g1', 'h1g1', 'e1e2...</td>\n",
       "      <td>h5f3</td>\n",
       "      <td>4.0</td>\n",
       "      <td>['h5f5', 'f2e1', 'a8d8', 'd1a4', 'h3g4', 'a4c2']</td>\n",
       "      <td>h5f5</td>\n",
       "      <td>-161.0</td>\n",
       "      <td>True</td>\n",
       "      <td>...</td>\n",
       "      <td>1</td>\n",
       "      <td>2</td>\n",
       "      <td>24</td>\n",
       "      <td>2</td>\n",
       "      <td>2</td>\n",
       "      <td>5</td>\n",
       "      <td>13</td>\n",
       "      <td>1</td>\n",
       "      <td>2</td>\n",
       "      <td>0.436176</td>\n",
       "    </tr>\n",
       "    <tr>\n",
       "      <th>1</th>\n",
       "      <td>r5k1/p3rpp1/2Bb3p/P7/4p3/P1P2qPb/3PN3/RNBQK2R ...</td>\n",
       "      <td>1200</td>\n",
       "      <td>f3h1</td>\n",
       "      <td>['f3h1', 'e2g1', 'h1g1', 'e1e2', 'h3g4']</td>\n",
       "      <td>f3h1</td>\n",
       "      <td>3.0</td>\n",
       "      <td>['d6c5', 'e2d4', 'f3h1', 'e1f2', 'h1h2', 'f2e3...</td>\n",
       "      <td>d6c5</td>\n",
       "      <td>1590.0</td>\n",
       "      <td>True</td>\n",
       "      <td>...</td>\n",
       "      <td>1</td>\n",
       "      <td>2</td>\n",
       "      <td>24</td>\n",
       "      <td>2</td>\n",
       "      <td>2</td>\n",
       "      <td>5</td>\n",
       "      <td>13</td>\n",
       "      <td>1</td>\n",
       "      <td>2</td>\n",
       "      <td>0.460652</td>\n",
       "    </tr>\n",
       "    <tr>\n",
       "      <th>2</th>\n",
       "      <td>r1b2rk1/pp3pp1/3qp3/7Q/3p4/5N2/PPP2PPP/R5K1 w ...</td>\n",
       "      <td>2000</td>\n",
       "      <td>f3g5</td>\n",
       "      <td>['f3g5', 'f8d8', 'h5f7', 'g8h8', 'f7h5', 'h8g8...</td>\n",
       "      <td>f3g5</td>\n",
       "      <td>7.0</td>\n",
       "      <td>['a1d1', 'd6f4', 'h2h3', 'f4f5', 'h5g4', 'e6e5...</td>\n",
       "      <td>a1d1</td>\n",
       "      <td>-576.0</td>\n",
       "      <td>True</td>\n",
       "      <td>...</td>\n",
       "      <td>1</td>\n",
       "      <td>1</td>\n",
       "      <td>21</td>\n",
       "      <td>1</td>\n",
       "      <td>0</td>\n",
       "      <td>6</td>\n",
       "      <td>11</td>\n",
       "      <td>1</td>\n",
       "      <td>2</td>\n",
       "      <td>0.223405</td>\n",
       "    </tr>\n",
       "    <tr>\n",
       "      <th>3</th>\n",
       "      <td>r1b1r1k1/pp3pp1/3qp3/6NQ/3p4/8/PPP2PPP/R5K1 w ...</td>\n",
       "      <td>2000</td>\n",
       "      <td>h5f7</td>\n",
       "      <td>['h5f7', 'g8h8', 'f7e8', 'd6f8', 'e8f8']</td>\n",
       "      <td>h5f7</td>\n",
       "      <td>3.0</td>\n",
       "      <td>['g2g3', 'd6c7', 'h5h7', 'g8f8', 'h7h8', 'f8e7...</td>\n",
       "      <td>g2g3</td>\n",
       "      <td>-201.0</td>\n",
       "      <td>True</td>\n",
       "      <td>...</td>\n",
       "      <td>1</td>\n",
       "      <td>1</td>\n",
       "      <td>21</td>\n",
       "      <td>1</td>\n",
       "      <td>0</td>\n",
       "      <td>6</td>\n",
       "      <td>11</td>\n",
       "      <td>1</td>\n",
       "      <td>2</td>\n",
       "      <td>0.132303</td>\n",
       "    </tr>\n",
       "    <tr>\n",
       "      <th>4</th>\n",
       "      <td>k2r1b2/p2Np1p1/4P3/3p2Q1/3PnB1p/2P4K/PPq5/R3R3...</td>\n",
       "      <td>1600</td>\n",
       "      <td>g5d5</td>\n",
       "      <td>['g5d5']</td>\n",
       "      <td>g5d5</td>\n",
       "      <td>1.0</td>\n",
       "      <td>['g5e5', 'e4d6', 'e5d5', 'd6b7', 'a1c1', 'c2h7...</td>\n",
       "      <td>g5e5</td>\n",
       "      <td>943.0</td>\n",
       "      <td>True</td>\n",
       "      <td>...</td>\n",
       "      <td>1</td>\n",
       "      <td>2</td>\n",
       "      <td>21</td>\n",
       "      <td>1</td>\n",
       "      <td>1</td>\n",
       "      <td>5</td>\n",
       "      <td>10</td>\n",
       "      <td>1</td>\n",
       "      <td>1</td>\n",
       "      <td>0.284866</td>\n",
       "    </tr>\n",
       "    <tr>\n",
       "      <th>...</th>\n",
       "      <td>...</td>\n",
       "      <td>...</td>\n",
       "      <td>...</td>\n",
       "      <td>...</td>\n",
       "      <td>...</td>\n",
       "      <td>...</td>\n",
       "      <td>...</td>\n",
       "      <td>...</td>\n",
       "      <td>...</td>\n",
       "      <td>...</td>\n",
       "      <td>...</td>\n",
       "      <td>...</td>\n",
       "      <td>...</td>\n",
       "      <td>...</td>\n",
       "      <td>...</td>\n",
       "      <td>...</td>\n",
       "      <td>...</td>\n",
       "      <td>...</td>\n",
       "      <td>...</td>\n",
       "      <td>...</td>\n",
       "      <td>...</td>\n",
       "    </tr>\n",
       "    <tr>\n",
       "      <th>280643</th>\n",
       "      <td>rn2Q3/pp5k/2p1Nrp1/4Bp2/6bq/2NB4/PPP5/R4RK1 w ...</td>\n",
       "      <td>1800</td>\n",
       "      <td>e8e7</td>\n",
       "      <td>['e8e7', 'f6f7', 'e7f7', 'h7h6', 'f7g7', 'h6h5...</td>\n",
       "      <td>e8e7</td>\n",
       "      <td>4.0</td>\n",
       "      <td>['c3d1', 'h4h6', 'e5f6', 'h6e3', 'd1e3', 'b8d7...</td>\n",
       "      <td>c3d1</td>\n",
       "      <td>3330.0</td>\n",
       "      <td>True</td>\n",
       "      <td>...</td>\n",
       "      <td>1</td>\n",
       "      <td>2</td>\n",
       "      <td>22</td>\n",
       "      <td>1</td>\n",
       "      <td>1</td>\n",
       "      <td>5</td>\n",
       "      <td>11</td>\n",
       "      <td>1</td>\n",
       "      <td>2</td>\n",
       "      <td>0.622684</td>\n",
       "    </tr>\n",
       "    <tr>\n",
       "      <th>280644</th>\n",
       "      <td>1r3rk1/4p2p/5ppb/3b4/Pn6/4qPP1/3NB2P/R1Q1K2R b...</td>\n",
       "      <td>1400</td>\n",
       "      <td>b4d3</td>\n",
       "      <td>['b4d3', 'e1d1', 'd3c1', 'f3f4', 'e3e2', 'd1c1...</td>\n",
       "      <td>b4d3</td>\n",
       "      <td>5.0</td>\n",
       "      <td>['b8c8', 'e1f1', 'c8c1', 'a1c1', 'e3d2', 'c1d1...</td>\n",
       "      <td>b8c8</td>\n",
       "      <td>1707.0</td>\n",
       "      <td>True</td>\n",
       "      <td>...</td>\n",
       "      <td>1</td>\n",
       "      <td>2</td>\n",
       "      <td>21</td>\n",
       "      <td>1</td>\n",
       "      <td>1</td>\n",
       "      <td>4</td>\n",
       "      <td>10</td>\n",
       "      <td>1</td>\n",
       "      <td>2</td>\n",
       "      <td>0.562099</td>\n",
       "    </tr>\n",
       "    <tr>\n",
       "      <th>280645</th>\n",
       "      <td>3r1r1k/1p6/6B1/p1p1N3/2P2q2/2Qb4/P4PPP/4RRK1 w...</td>\n",
       "      <td>1400</td>\n",
       "      <td>e5d3</td>\n",
       "      <td>['e5f7', 'h8g8', 'c3h8']</td>\n",
       "      <td>e5f7</td>\n",
       "      <td>2.0</td>\n",
       "      <td>['g6d3', 'h8g8', 'c3a5', 'f4f6', 'e1e3', 'f8e8...</td>\n",
       "      <td>g6d3</td>\n",
       "      <td>1341.0</td>\n",
       "      <td>False</td>\n",
       "      <td>...</td>\n",
       "      <td>1</td>\n",
       "      <td>2</td>\n",
       "      <td>19</td>\n",
       "      <td>1</td>\n",
       "      <td>0</td>\n",
       "      <td>3</td>\n",
       "      <td>8</td>\n",
       "      <td>1</td>\n",
       "      <td>2</td>\n",
       "      <td>0.389994</td>\n",
       "    </tr>\n",
       "    <tr>\n",
       "      <th>280646</th>\n",
       "      <td>6k1/5pbp/4p1p1/2p1P3/8/4P1BP/b5PK/1q6 b - - 1 40</td>\n",
       "      <td>1800</td>\n",
       "      <td>a2d5</td>\n",
       "      <td>['a2d5', 'g3f4', 'b1e4', 'h2g3', 'e4g2', 'g3h4...</td>\n",
       "      <td>a2d5</td>\n",
       "      <td>7.0</td>\n",
       "      <td>['b1e4', 'g3h4', 'e4h4', 'g2g3', 'g7e5', 'h2h1...</td>\n",
       "      <td>b1e4</td>\n",
       "      <td>7170.0</td>\n",
       "      <td>True</td>\n",
       "      <td>...</td>\n",
       "      <td>1</td>\n",
       "      <td>0</td>\n",
       "      <td>15</td>\n",
       "      <td>1</td>\n",
       "      <td>0</td>\n",
       "      <td>4</td>\n",
       "      <td>6</td>\n",
       "      <td>0</td>\n",
       "      <td>0</td>\n",
       "      <td>0.613490</td>\n",
       "    </tr>\n",
       "    <tr>\n",
       "      <th>280647</th>\n",
       "      <td>2r3k1/6p1/r5Pp/4KP2/8/8/p7/2R5 b - - 0 45</td>\n",
       "      <td>1800</td>\n",
       "      <td>c8c1</td>\n",
       "      <td>['c8c1', 'e5e4', 'a2a1q', 'e4d5', 'a6a5', 'd5e...</td>\n",
       "      <td>c8c1</td>\n",
       "      <td>6.0</td>\n",
       "      <td>['a6a5', 'e5d6', 'c8c1', 'f5f6', 'g7f6', 'd6d7...</td>\n",
       "      <td>a6a5</td>\n",
       "      <td>2585.0</td>\n",
       "      <td>True</td>\n",
       "      <td>...</td>\n",
       "      <td>0</td>\n",
       "      <td>2</td>\n",
       "      <td>10</td>\n",
       "      <td>0</td>\n",
       "      <td>0</td>\n",
       "      <td>2</td>\n",
       "      <td>4</td>\n",
       "      <td>0</td>\n",
       "      <td>1</td>\n",
       "      <td>0.473253</td>\n",
       "    </tr>\n",
       "  </tbody>\n",
       "</table>\n",
       "<p>280648 rows × 44 columns</p>\n",
       "</div>"
      ],
      "text/plain": [
       "                                                      fen   elo  move  \\\n",
       "0       r5k1/p3rpp1/2Bb3p/P6q/4p3/P1P3Pb/3PNK2/RNBQ3R ...  1200  h5f3   \n",
       "1       r5k1/p3rpp1/2Bb3p/P7/4p3/P1P2qPb/3PN3/RNBQK2R ...  1200  f3h1   \n",
       "2       r1b2rk1/pp3pp1/3qp3/7Q/3p4/5N2/PPP2PPP/R5K1 w ...  2000  f3g5   \n",
       "3       r1b1r1k1/pp3pp1/3qp3/6NQ/3p4/8/PPP2PPP/R5K1 w ...  2000  h5f7   \n",
       "4       k2r1b2/p2Np1p1/4P3/3p2Q1/3PnB1p/2P4K/PPq5/R3R3...  1600  g5d5   \n",
       "...                                                   ...   ...   ...   \n",
       "280643  rn2Q3/pp5k/2p1Nrp1/4Bp2/6bq/2NB4/PPP5/R4RK1 w ...  1800  e8e7   \n",
       "280644  1r3rk1/4p2p/5ppb/3b4/Pn6/4qPP1/3NB2P/R1Q1K2R b...  1400  b4d3   \n",
       "280645  3r1r1k/1p6/6B1/p1p1N3/2P2q2/2Qb4/P4PPP/4RRK1 w...  1400  e5d3   \n",
       "280646   6k1/5pbp/4p1p1/2p1P3/8/4P1BP/b5PK/1q6 b - - 1 40  1800  a2d5   \n",
       "280647          2r3k1/6p1/r5Pp/4KP2/8/8/p7/2R5 b - - 0 45  1800  c8c1   \n",
       "\n",
       "                                                  best_pv best_move  \\\n",
       "0       ['h5f3', 'f2e1', 'f3h1', 'e2g1', 'h1g1', 'e1e2...      h5f3   \n",
       "1                ['f3h1', 'e2g1', 'h1g1', 'e1e2', 'h3g4']      f3h1   \n",
       "2       ['f3g5', 'f8d8', 'h5f7', 'g8h8', 'f7h5', 'h8g8...      f3g5   \n",
       "3                ['h5f7', 'g8h8', 'f7e8', 'd6f8', 'e8f8']      h5f7   \n",
       "4                                                ['g5d5']      g5d5   \n",
       "...                                                   ...       ...   \n",
       "280643  ['e8e7', 'f6f7', 'e7f7', 'h7h6', 'f7g7', 'h6h5...      e8e7   \n",
       "280644  ['b4d3', 'e1d1', 'd3c1', 'f3f4', 'e3e2', 'd1c1...      b4d3   \n",
       "280645                           ['e5f7', 'h8g8', 'c3h8']      e5f7   \n",
       "280646  ['a2d5', 'g3f4', 'b1e4', 'h2g3', 'e4g2', 'g3h4...      a2d5   \n",
       "280647  ['c8c1', 'e5e4', 'a2a1q', 'e4d5', 'a6a5', 'd5e...      c8c1   \n",
       "\n",
       "        best_mate                                           best_pv2  \\\n",
       "0             4.0   ['h5f5', 'f2e1', 'a8d8', 'd1a4', 'h3g4', 'a4c2']   \n",
       "1             3.0  ['d6c5', 'e2d4', 'f3h1', 'e1f2', 'h1h2', 'f2e3...   \n",
       "2             7.0  ['a1d1', 'd6f4', 'h2h3', 'f4f5', 'h5g4', 'e6e5...   \n",
       "3             3.0  ['g2g3', 'd6c7', 'h5h7', 'g8f8', 'h7h8', 'f8e7...   \n",
       "4             1.0  ['g5e5', 'e4d6', 'e5d5', 'd6b7', 'a1c1', 'c2h7...   \n",
       "...           ...                                                ...   \n",
       "280643        4.0  ['c3d1', 'h4h6', 'e5f6', 'h6e3', 'd1e3', 'b8d7...   \n",
       "280644        5.0  ['b8c8', 'e1f1', 'c8c1', 'a1c1', 'e3d2', 'c1d1...   \n",
       "280645        2.0  ['g6d3', 'h8g8', 'c3a5', 'f4f6', 'e1e3', 'f8e8...   \n",
       "280646        7.0  ['b1e4', 'g3h4', 'e4h4', 'g2g3', 'g7e5', 'h2h1...   \n",
       "280647        6.0  ['a6a5', 'e5d6', 'c8c1', 'f5f6', 'g7f6', 'd6d7...   \n",
       "\n",
       "       best_move2  best_score2  correct  ...  our_queens  our_rooks  \\\n",
       "0            h5f5       -161.0     True  ...           1          2   \n",
       "1            d6c5       1590.0     True  ...           1          2   \n",
       "2            a1d1       -576.0     True  ...           1          1   \n",
       "3            g2g3       -201.0     True  ...           1          1   \n",
       "4            g5e5        943.0     True  ...           1          2   \n",
       "...           ...          ...      ...  ...         ...        ...   \n",
       "280643       c3d1       3330.0     True  ...           1          2   \n",
       "280644       b8c8       1707.0     True  ...           1          2   \n",
       "280645       g6d3       1341.0    False  ...           1          2   \n",
       "280646       b1e4       7170.0     True  ...           1          0   \n",
       "280647       a6a5       2585.0     True  ...           0          2   \n",
       "\n",
       "        piece_count  their_bishops  their_knights  their_pawns  \\\n",
       "0                24              2              2            5   \n",
       "1                24              2              2            5   \n",
       "2                21              1              0            6   \n",
       "3                21              1              0            6   \n",
       "4                21              1              1            5   \n",
       "...             ...            ...            ...          ...   \n",
       "280643           22              1              1            5   \n",
       "280644           21              1              1            4   \n",
       "280645           19              1              0            3   \n",
       "280646           15              1              0            4   \n",
       "280647           10              0              0            2   \n",
       "\n",
       "        their_piece_count  their_queens  their_rooks  difficulty  \n",
       "0                      13             1            2    0.436176  \n",
       "1                      13             1            2    0.460652  \n",
       "2                      11             1            2    0.223405  \n",
       "3                      11             1            2    0.132303  \n",
       "4                      10             1            1    0.284866  \n",
       "...                   ...           ...          ...         ...  \n",
       "280643                 11             1            2    0.622684  \n",
       "280644                 10             1            2    0.562099  \n",
       "280645                  8             1            2    0.389994  \n",
       "280646                  6             0            0    0.613490  \n",
       "280647                  4             0            1    0.473253  \n",
       "\n",
       "[280648 rows x 44 columns]"
      ]
     },
     "execution_count": 69,
     "metadata": {},
     "output_type": "execute_result"
    }
   ],
   "source": [
    "df"
   ]
  },
  {
   "cell_type": "code",
   "execution_count": 74,
   "metadata": {
    "ExecuteTime": {
     "end_time": "2020-08-02T18:16:51.004193Z",
     "start_time": "2020-08-02T18:16:50.685102Z"
    }
   },
   "outputs": [
    {
     "name": "stderr",
     "output_type": "stream",
     "text": [
      "<ipython-input-74-1eb1b48cf833>:2: SettingWithCopyWarning:\n",
      "\n",
      "\n",
      "A value is trying to be set on a copy of a slice from a DataFrame.\n",
      "Try using .loc[row_indexer,col_indexer] = value instead\n",
      "\n",
      "See the caveats in the documentation: https://pandas.pydata.org/pandas-docs/stable/user_guide/indexing.html#returning-a-view-versus-a-copy\n",
      "\n"
     ]
    }
   ],
   "source": [
    "temp_df = df[:100]\n",
    "temp_df['svg'] = temp_df.apply(lambda row: utils.fen_to_svg(row['fen'], row['best_move']), axis=1)"
   ]
  },
  {
   "cell_type": "code",
   "execution_count": 88,
   "metadata": {
    "ExecuteTime": {
     "end_time": "2020-08-02T18:29:09.437654Z",
     "start_time": "2020-08-02T18:29:09.419934Z"
    }
   },
   "outputs": [
    {
     "data": {
      "text/html": [
       "<table border=\"1\" class=\"dataframe\">\n",
       "  <thead>\n",
       "    <tr style=\"text-align: right;\">\n",
       "      <th>svg</th>\n",
       "      <th>best_mate</th>\n",
       "      <th>piece_count</th>\n",
       "      <th>fullmove_number</th>\n",
       "      <th>our_number_of_moves</th>\n",
       "      <th>their_number_of_moves</th>\n",
       "      <th>is_check</th>\n",
       "      <th>material_advantage</th>\n",
       "      <th>turn</th>\n",
       "    </tr>\n",
       "  </thead>\n",
       "  <tbody>\n",
       "    <tr>\n",
       "      <td><svg xmlns=\"http://www.w3.org/2000/svg\" version=\"1.1\" xmlns:xlink=\"http://www.w3.org/1999/xlink\" viewBox=\"0 0 360 360\" width=\"180\" height=\"180\"><style>svg {padding: 0px 10px 5px 0px;}</style><defs><g id=\"white-pawn\" class=\"white pawn\"><path d=\"M22 9c-2.21 0-4 1.79-4 4 0 .89.29 1.71.78 2.38-1.95 1.12-3.28 3.21-3.28 5.62 0 2.03.94 3.84 2.41 5.03-3 1.06-7.41 5.55-7.41 13.47h23c0-7.92-4.41-12.41-7.41-13.47 1.47-1.19 2.41-3 2.41-5.03 0-2.41-1.33-4.5-3.28-5.62.49-.67.78-1.49.78-2.38 0-2.21-1.79-4-4-4z\" fill=\"#fff\" stroke=\"#000\" stroke-width=\"1.5\" stroke-linecap=\"round\" /></g><g id=\"white-knight\" class=\"white knight\" fill=\"none\" fill-rule=\"evenodd\" stroke=\"#000\" stroke-width=\"1.5\" stroke-linecap=\"round\" stroke-linejoin=\"round\"><path d=\"M 22,10 C 32.5,11 38.5,18 38,39 L 15,39 C 15,30 25,32.5 23,18\" style=\"fill:#ffffff; stroke:#000000;\" /><path d=\"M 24,18 C 24.38,20.91 18.45,25.37 16,27 C 13,29 13.18,31.34 11,31 C 9.958,30.06 12.41,27.96 11,28 C 10,28 11.19,29.23 10,30 C 9,30 5.997,31 6,26 C 6,24 12,14 12,14 C 12,14 13.89,12.1 14,10.5 C 13.27,9.506 13.5,8.5 13.5,7.5 C 14.5,6.5 16.5,10 16.5,10 L 18.5,10 C 18.5,10 19.28,8.008 21,7 C 22,7 22,10 22,10\" style=\"fill:#ffffff; stroke:#000000;\" /><path d=\"M 9.5 25.5 A 0.5 0.5 0 1 1 8.5,25.5 A 0.5 0.5 0 1 1 9.5 25.5 z\" style=\"fill:#000000; stroke:#000000;\" /><path d=\"M 15 15.5 A 0.5 1.5 0 1 1 14,15.5 A 0.5 1.5 0 1 1 15 15.5 z\" transform=\"matrix(0.866,0.5,-0.5,0.866,9.693,-5.173)\" style=\"fill:#000000; stroke:#000000;\" /></g><g id=\"white-bishop\" class=\"white bishop\" fill=\"none\" fill-rule=\"evenodd\" stroke=\"#000\" stroke-width=\"1.5\" stroke-linecap=\"round\" stroke-linejoin=\"round\"><g fill=\"#fff\" stroke-linecap=\"butt\"><path d=\"M9 36c3.39-.97 10.11.43 13.5-2 3.39 2.43 10.11 1.03 13.5 2 0 0 1.65.54 3 2-.68.97-1.65.99-3 .5-3.39-.97-10.11.46-13.5-1-3.39 1.46-10.11.03-13.5 1-1.354.49-2.323.47-3-.5 1.354-1.94 3-2 3-2zM15 32c2.5 2.5 12.5 2.5 15 0 .5-1.5 0-2 0-2 0-2.5-2.5-4-2.5-4 5.5-1.5 6-11.5-5-15.5-11 4-10.5 14-5 15.5 0 0-2.5 1.5-2.5 4 0 0-.5.5 0 2zM25 8a2.5 2.5 0 1 1-5 0 2.5 2.5 0 1 1 5 0z\" /></g><path d=\"M17.5 26h10M15 30h15m-7.5-14.5v5M20 18h5\" stroke-linejoin=\"miter\" /></g><g id=\"white-rook\" class=\"white rook\" fill=\"#fff\" fill-rule=\"evenodd\" stroke=\"#000\" stroke-width=\"1.5\" stroke-linecap=\"round\" stroke-linejoin=\"round\"><path d=\"M9 39h27v-3H9v3zM12 36v-4h21v4H12zM11 14V9h4v2h5V9h5v2h5V9h4v5\" stroke-linecap=\"butt\" /><path d=\"M34 14l-3 3H14l-3-3\" /><path d=\"M31 17v12.5H14V17\" stroke-linecap=\"butt\" stroke-linejoin=\"miter\" /><path d=\"M31 29.5l1.5 2.5h-20l1.5-2.5\" /><path d=\"M11 14h23\" fill=\"none\" stroke-linejoin=\"miter\" /></g><g id=\"white-queen\" class=\"white queen\" fill=\"#fff\" fill-rule=\"evenodd\" stroke=\"#000\" stroke-width=\"1.5\" stroke-linecap=\"round\" stroke-linejoin=\"round\"><path d=\"M8 12a2 2 0 1 1-4 0 2 2 0 1 1 4 0zM24.5 7.5a2 2 0 1 1-4 0 2 2 0 1 1 4 0zM41 12a2 2 0 1 1-4 0 2 2 0 1 1 4 0zM16 8.5a2 2 0 1 1-4 0 2 2 0 1 1 4 0zM33 9a2 2 0 1 1-4 0 2 2 0 1 1 4 0z\" /><path d=\"M9 26c8.5-1.5 21-1.5 27 0l2-12-7 11V11l-5.5 13.5-3-15-3 15-5.5-14V25L7 14l2 12zM9 26c0 2 1.5 2 2.5 4 1 1.5 1 1 .5 3.5-1.5 1-1.5 2.5-1.5 2.5-1.5 1.5.5 2.5.5 2.5 6.5 1 16.5 1 23 0 0 0 1.5-1 0-2.5 0 0 .5-1.5-1-2.5-.5-2.5-.5-2 .5-3.5 1-2 2.5-2 2.5-4-8.5-1.5-18.5-1.5-27 0z\" stroke-linecap=\"butt\" /><path d=\"M11.5 30c3.5-1 18.5-1 22 0M12 33.5c6-1 15-1 21 0\" fill=\"none\" /></g><g id=\"white-king\" class=\"white king\" fill=\"none\" fill-rule=\"evenodd\" stroke=\"#000\" stroke-width=\"1.5\" stroke-linecap=\"round\" stroke-linejoin=\"round\"><path d=\"M22.5 11.63V6M20 8h5\" stroke-linejoin=\"miter\" /><path d=\"M22.5 25s4.5-7.5 3-10.5c0 0-1-2.5-3-2.5s-3 2.5-3 2.5c-1.5 3 3 10.5 3 10.5\" fill=\"#fff\" stroke-linecap=\"butt\" stroke-linejoin=\"miter\" /><path d=\"M11.5 37c5.5 3.5 15.5 3.5 21 0v-7s9-4.5 6-10.5c-4-6.5-13.5-3.5-16 4V27v-3.5c-3.5-7.5-13-10.5-16-4-3 6 5 10 5 10V37z\" fill=\"#fff\" /><path d=\"M11.5 30c5.5-3 15.5-3 21 0m-21 3.5c5.5-3 15.5-3 21 0m-21 3.5c5.5-3 15.5-3 21 0\" /></g><g id=\"black-pawn\" class=\"black pawn\"><path d=\"M22 9c-2.21 0-4 1.79-4 4 0 .89.29 1.71.78 2.38-1.95 1.12-3.28 3.21-3.28 5.62 0 2.03.94 3.84 2.41 5.03-3 1.06-7.41 5.55-7.41 13.47h23c0-7.92-4.41-12.41-7.41-13.47 1.47-1.19 2.41-3 2.41-5.03 0-2.41-1.33-4.5-3.28-5.62.49-.67.78-1.49.78-2.38 0-2.21-1.79-4-4-4z\" stroke=\"#000\" stroke-width=\"1.5\" stroke-linecap=\"round\" /></g><g id=\"black-bishop\" class=\"black bishop\" fill=\"none\" fill-rule=\"evenodd\" stroke=\"#000\" stroke-width=\"1.5\" stroke-linecap=\"round\" stroke-linejoin=\"round\"><path d=\"M9 36c3.39-.97 10.11.43 13.5-2 3.39 2.43 10.11 1.03 13.5 2 0 0 1.65.54 3 2-.68.97-1.65.99-3 .5-3.39-.97-10.11.46-13.5-1-3.39 1.46-10.11.03-13.5 1-1.354.49-2.323.47-3-.5 1.354-1.94 3-2 3-2zm6-4c2.5 2.5 12.5 2.5 15 0 .5-1.5 0-2 0-2 0-2.5-2.5-4-2.5-4 5.5-1.5 6-11.5-5-15.5-11 4-10.5 14-5 15.5 0 0-2.5 1.5-2.5 4 0 0-.5.5 0 2zM25 8a2.5 2.5 0 1 1-5 0 2.5 2.5 0 1 1 5 0z\" fill=\"#000\" stroke-linecap=\"butt\" /><path d=\"M17.5 26h10M15 30h15m-7.5-14.5v5M20 18h5\" stroke=\"#fff\" stroke-linejoin=\"miter\" /></g><g id=\"black-rook\" class=\"black rook\" fill=\"#000\" fill-rule=\"evenodd\" stroke=\"#000\" stroke-width=\"1.5\" stroke-linecap=\"round\" stroke-linejoin=\"round\"><path d=\"M9 39h27v-3H9v3zM12.5 32l1.5-2.5h17l1.5 2.5h-20zM12 36v-4h21v4H12z\" stroke-linecap=\"butt\" /><path d=\"M14 29.5v-13h17v13H14z\" stroke-linecap=\"butt\" stroke-linejoin=\"miter\" /><path d=\"M14 16.5L11 14h23l-3 2.5H14zM11 14V9h4v2h5V9h5v2h5V9h4v5H11z\" stroke-linecap=\"butt\" /><path d=\"M12 35.5h21M13 31.5h19M14 29.5h17M14 16.5h17M11 14h23\" fill=\"none\" stroke=\"#fff\" stroke-width=\"1\" stroke-linejoin=\"miter\" /></g><g id=\"black-queen\" class=\"black queen\" fill=\"#000\" fill-rule=\"evenodd\" stroke=\"#000\" stroke-width=\"1.5\" stroke-linecap=\"round\" stroke-linejoin=\"round\"><g fill=\"#000\" stroke=\"none\"><circle cx=\"6\" cy=\"12\" r=\"2.75\" /><circle cx=\"14\" cy=\"9\" r=\"2.75\" /><circle cx=\"22.5\" cy=\"8\" r=\"2.75\" /><circle cx=\"31\" cy=\"9\" r=\"2.75\" /><circle cx=\"39\" cy=\"12\" r=\"2.75\" /></g><path d=\"M9 26c8.5-1.5 21-1.5 27 0l2.5-12.5L31 25l-.3-14.1-5.2 13.6-3-14.5-3 14.5-5.2-13.6L14 25 6.5 13.5 9 26zM9 26c0 2 1.5 2 2.5 4 1 1.5 1 1 .5 3.5-1.5 1-1.5 2.5-1.5 2.5-1.5 1.5.5 2.5.5 2.5 6.5 1 16.5 1 23 0 0 0 1.5-1 0-2.5 0 0 .5-1.5-1-2.5-.5-2.5-.5-2 .5-3.5 1-2 2.5-2 2.5-4-8.5-1.5-18.5-1.5-27 0z\" stroke-linecap=\"butt\" /><path d=\"M11 38.5a35 35 1 0 0 23 0\" fill=\"none\" stroke-linecap=\"butt\" /><path d=\"M11 29a35 35 1 0 1 23 0M12.5 31.5h20M11.5 34.5a35 35 1 0 0 22 0M10.5 37.5a35 35 1 0 0 24 0\" fill=\"none\" stroke=\"#fff\" /></g><g id=\"black-king\" class=\"black king\" fill=\"none\" fill-rule=\"evenodd\" stroke=\"#000\" stroke-width=\"1.5\" stroke-linecap=\"round\" stroke-linejoin=\"round\"><path d=\"M22.5 11.63V6\" stroke-linejoin=\"miter\" /><path d=\"M22.5 25s4.5-7.5 3-10.5c0 0-1-2.5-3-2.5s-3 2.5-3 2.5c-1.5 3 3 10.5 3 10.5\" fill=\"#000\" stroke-linecap=\"butt\" stroke-linejoin=\"miter\" /><path d=\"M11.5 37c5.5 3.5 15.5 3.5 21 0v-7s9-4.5 6-10.5c-4-6.5-13.5-3.5-16 4V27v-3.5c-3.5-7.5-13-10.5-16-4-3 6 5 10 5 10V37z\" fill=\"#000\" /><path d=\"M20 8h5\" stroke-linejoin=\"miter\" /><path d=\"M32 29.5s8.5-4 6.03-9.65C34.15 14 25 18 22.5 24.5l.01 2.1-.01-2.1C20 18 9.906 14 6.997 19.85c-2.497 5.65 4.853 9 4.853 9M11.5 30c5.5-3 15.5-3 21 0m-21 3.5c5.5-3 15.5-3 21 0m-21 3.5c5.5-3 15.5-3 21 0\" stroke=\"#fff\" /></g></defs><rect x=\"315\" y=\"0\" width=\"45\" height=\"45\" class=\"square dark a1\" stroke=\"none\" fill=\"#d18b47\" /><use xlink:href=\"#white-rook\" transform=\"translate(315, 0)\" /><rect x=\"270\" y=\"0\" width=\"45\" height=\"45\" class=\"square light b1\" stroke=\"none\" fill=\"#ffce9e\" /><use xlink:href=\"#white-knight\" transform=\"translate(270, 0)\" /><rect x=\"225\" y=\"0\" width=\"45\" height=\"45\" class=\"square dark c1\" stroke=\"none\" fill=\"#d18b47\" /><use xlink:href=\"#white-bishop\" transform=\"translate(225, 0)\" /><rect x=\"180\" y=\"0\" width=\"45\" height=\"45\" class=\"square light d1\" stroke=\"none\" fill=\"#ffce9e\" /><use xlink:href=\"#white-queen\" transform=\"translate(180, 0)\" /><rect x=\"135\" y=\"0\" width=\"45\" height=\"45\" class=\"square dark e1\" stroke=\"none\" fill=\"#d18b47\" /><rect x=\"90\" y=\"0\" width=\"45\" height=\"45\" class=\"square light f1\" stroke=\"none\" fill=\"#ffce9e\" /><rect x=\"45\" y=\"0\" width=\"45\" height=\"45\" class=\"square dark g1\" stroke=\"none\" fill=\"#d18b47\" /><rect x=\"0\" y=\"0\" width=\"45\" height=\"45\" class=\"square light h1\" stroke=\"none\" fill=\"#ffce9e\" /><use xlink:href=\"#white-rook\" transform=\"translate(0, 0)\" /><rect x=\"315\" y=\"45\" width=\"45\" height=\"45\" class=\"square light a2\" stroke=\"none\" fill=\"#ffce9e\" /><rect x=\"270\" y=\"45\" width=\"45\" height=\"45\" class=\"square dark b2\" stroke=\"none\" fill=\"#d18b47\" /><rect x=\"225\" y=\"45\" width=\"45\" height=\"45\" class=\"square light c2\" stroke=\"none\" fill=\"#ffce9e\" /><rect x=\"180\" y=\"45\" width=\"45\" height=\"45\" class=\"square dark d2\" stroke=\"none\" fill=\"#d18b47\" /><use xlink:href=\"#white-pawn\" transform=\"translate(180, 45)\" /><rect x=\"135\" y=\"45\" width=\"45\" height=\"45\" class=\"square light e2\" stroke=\"none\" fill=\"#ffce9e\" /><use xlink:href=\"#white-knight\" transform=\"translate(135, 45)\" /><rect x=\"90\" y=\"45\" width=\"45\" height=\"45\" class=\"square dark f2\" stroke=\"none\" fill=\"#d18b47\" /><use xlink:href=\"#white-king\" transform=\"translate(90, 45)\" /><rect x=\"45\" y=\"45\" width=\"45\" height=\"45\" class=\"square light g2\" stroke=\"none\" fill=\"#ffce9e\" /><rect x=\"0\" y=\"45\" width=\"45\" height=\"45\" class=\"square dark h2\" stroke=\"none\" fill=\"#d18b47\" /><rect x=\"315\" y=\"90\" width=\"45\" height=\"45\" class=\"square dark a3\" stroke=\"none\" fill=\"#d18b47\" /><use xlink:href=\"#white-pawn\" transform=\"translate(315, 90)\" /><rect x=\"270\" y=\"90\" width=\"45\" height=\"45\" class=\"square light b3\" stroke=\"none\" fill=\"#ffce9e\" /><rect x=\"225\" y=\"90\" width=\"45\" height=\"45\" class=\"square dark c3\" stroke=\"none\" fill=\"#d18b47\" /><use xlink:href=\"#white-pawn\" transform=\"translate(225, 90)\" /><rect x=\"180\" y=\"90\" width=\"45\" height=\"45\" class=\"square light d3\" stroke=\"none\" fill=\"#ffce9e\" /><rect x=\"135\" y=\"90\" width=\"45\" height=\"45\" class=\"square dark e3\" stroke=\"none\" fill=\"#d18b47\" /><rect x=\"90\" y=\"90\" width=\"45\" height=\"45\" class=\"square light f3\" stroke=\"none\" fill=\"#ffce9e\" /><rect x=\"45\" y=\"90\" width=\"45\" height=\"45\" class=\"square dark g3\" stroke=\"none\" fill=\"#d18b47\" /><use xlink:href=\"#white-pawn\" transform=\"translate(45, 90)\" /><rect x=\"0\" y=\"90\" width=\"45\" height=\"45\" class=\"square light h3\" stroke=\"none\" fill=\"#ffce9e\" /><use xlink:href=\"#black-bishop\" transform=\"translate(0, 90)\" /><rect x=\"315\" y=\"135\" width=\"45\" height=\"45\" class=\"square light a4\" stroke=\"none\" fill=\"#ffce9e\" /><rect x=\"270\" y=\"135\" width=\"45\" height=\"45\" class=\"square dark b4\" stroke=\"none\" fill=\"#d18b47\" /><rect x=\"225\" y=\"135\" width=\"45\" height=\"45\" class=\"square light c4\" stroke=\"none\" fill=\"#ffce9e\" /><rect x=\"180\" y=\"135\" width=\"45\" height=\"45\" class=\"square dark d4\" stroke=\"none\" fill=\"#d18b47\" /><rect x=\"135\" y=\"135\" width=\"45\" height=\"45\" class=\"square light e4\" stroke=\"none\" fill=\"#ffce9e\" /><use xlink:href=\"#black-pawn\" transform=\"translate(135, 135)\" /><rect x=\"90\" y=\"135\" width=\"45\" height=\"45\" class=\"square dark f4\" stroke=\"none\" fill=\"#d18b47\" /><rect x=\"45\" y=\"135\" width=\"45\" height=\"45\" class=\"square light g4\" stroke=\"none\" fill=\"#ffce9e\" /><rect x=\"0\" y=\"135\" width=\"45\" height=\"45\" class=\"square dark h4\" stroke=\"none\" fill=\"#d18b47\" /><rect x=\"315\" y=\"180\" width=\"45\" height=\"45\" class=\"square dark a5\" stroke=\"none\" fill=\"#d18b47\" /><use xlink:href=\"#white-pawn\" transform=\"translate(315, 180)\" /><rect x=\"270\" y=\"180\" width=\"45\" height=\"45\" class=\"square light b5\" stroke=\"none\" fill=\"#ffce9e\" /><rect x=\"225\" y=\"180\" width=\"45\" height=\"45\" class=\"square dark c5\" stroke=\"none\" fill=\"#d18b47\" /><rect x=\"180\" y=\"180\" width=\"45\" height=\"45\" class=\"square light d5\" stroke=\"none\" fill=\"#ffce9e\" /><rect x=\"135\" y=\"180\" width=\"45\" height=\"45\" class=\"square dark e5\" stroke=\"none\" fill=\"#d18b47\" /><rect x=\"90\" y=\"180\" width=\"45\" height=\"45\" class=\"square light f5\" stroke=\"none\" fill=\"#ffce9e\" /><rect x=\"45\" y=\"180\" width=\"45\" height=\"45\" class=\"square dark g5\" stroke=\"none\" fill=\"#d18b47\" /><rect x=\"0\" y=\"180\" width=\"45\" height=\"45\" class=\"square light h5\" stroke=\"none\" fill=\"#ffce9e\" /><use xlink:href=\"#black-queen\" transform=\"translate(0, 180)\" /><rect x=\"315\" y=\"225\" width=\"45\" height=\"45\" class=\"square light a6\" stroke=\"none\" fill=\"#ffce9e\" /><rect x=\"270\" y=\"225\" width=\"45\" height=\"45\" class=\"square dark b6\" stroke=\"none\" fill=\"#d18b47\" /><rect x=\"225\" y=\"225\" width=\"45\" height=\"45\" class=\"square light c6\" stroke=\"none\" fill=\"#ffce9e\" /><use xlink:href=\"#white-bishop\" transform=\"translate(225, 225)\" /><rect x=\"180\" y=\"225\" width=\"45\" height=\"45\" class=\"square dark d6\" stroke=\"none\" fill=\"#d18b47\" /><use xlink:href=\"#black-bishop\" transform=\"translate(180, 225)\" /><rect x=\"135\" y=\"225\" width=\"45\" height=\"45\" class=\"square light e6\" stroke=\"none\" fill=\"#ffce9e\" /><rect x=\"90\" y=\"225\" width=\"45\" height=\"45\" class=\"square dark f6\" stroke=\"none\" fill=\"#d18b47\" /><rect x=\"45\" y=\"225\" width=\"45\" height=\"45\" class=\"square light g6\" stroke=\"none\" fill=\"#ffce9e\" /><rect x=\"0\" y=\"225\" width=\"45\" height=\"45\" class=\"square dark h6\" stroke=\"none\" fill=\"#d18b47\" /><use xlink:href=\"#black-pawn\" transform=\"translate(0, 225)\" /><rect x=\"315\" y=\"270\" width=\"45\" height=\"45\" class=\"square dark a7\" stroke=\"none\" fill=\"#d18b47\" /><use xlink:href=\"#black-pawn\" transform=\"translate(315, 270)\" /><rect x=\"270\" y=\"270\" width=\"45\" height=\"45\" class=\"square light b7\" stroke=\"none\" fill=\"#ffce9e\" /><rect x=\"225\" y=\"270\" width=\"45\" height=\"45\" class=\"square dark c7\" stroke=\"none\" fill=\"#d18b47\" /><rect x=\"180\" y=\"270\" width=\"45\" height=\"45\" class=\"square light d7\" stroke=\"none\" fill=\"#ffce9e\" /><rect x=\"135\" y=\"270\" width=\"45\" height=\"45\" class=\"square dark e7\" stroke=\"none\" fill=\"#d18b47\" /><use xlink:href=\"#black-rook\" transform=\"translate(135, 270)\" /><rect x=\"90\" y=\"270\" width=\"45\" height=\"45\" class=\"square light f7\" stroke=\"none\" fill=\"#ffce9e\" /><use xlink:href=\"#black-pawn\" transform=\"translate(90, 270)\" /><rect x=\"45\" y=\"270\" width=\"45\" height=\"45\" class=\"square dark g7\" stroke=\"none\" fill=\"#d18b47\" /><use xlink:href=\"#black-pawn\" transform=\"translate(45, 270)\" /><rect x=\"0\" y=\"270\" width=\"45\" height=\"45\" class=\"square light h7\" stroke=\"none\" fill=\"#ffce9e\" /><rect x=\"315\" y=\"315\" width=\"45\" height=\"45\" class=\"square light a8\" stroke=\"none\" fill=\"#ffce9e\" /><use xlink:href=\"#black-rook\" transform=\"translate(315, 315)\" /><rect x=\"270\" y=\"315\" width=\"45\" height=\"45\" class=\"square dark b8\" stroke=\"none\" fill=\"#d18b47\" /><rect x=\"225\" y=\"315\" width=\"45\" height=\"45\" class=\"square light c8\" stroke=\"none\" fill=\"#ffce9e\" /><rect x=\"180\" y=\"315\" width=\"45\" height=\"45\" class=\"square dark d8\" stroke=\"none\" fill=\"#d18b47\" /><rect x=\"135\" y=\"315\" width=\"45\" height=\"45\" class=\"square light e8\" stroke=\"none\" fill=\"#ffce9e\" /><rect x=\"90\" y=\"315\" width=\"45\" height=\"45\" class=\"square dark f8\" stroke=\"none\" fill=\"#d18b47\" /><rect x=\"45\" y=\"315\" width=\"45\" height=\"45\" class=\"square light g8\" stroke=\"none\" fill=\"#ffce9e\" /><use xlink:href=\"#black-king\" transform=\"translate(45, 315)\" /><rect x=\"0\" y=\"315\" width=\"45\" height=\"45\" class=\"square dark h8\" stroke=\"none\" fill=\"#d18b47\" /><line x1=\"22.5\" y1=\"202.5\" x2=\"85.45316561961457\" y2=\"139.54683438038543\" stroke=\"#888\" stroke-width=\"9.0\" opacity=\"0.5\" stroke-linecap=\"butt\" class=\"arrow\" /><polygon points=\"109.31801948466054,115.68198051533946 73.52073868709158,127.61440744786245 97.38559255213755,151.47926131290842\" fill=\"#888\" opacity=\"0.5\" class=\"arrow\" /></svg></td>\n",
       "      <td>4.0</td>\n",
       "      <td>24</td>\n",
       "      <td>21</td>\n",
       "      <td>47</td>\n",
       "      <td>33</td>\n",
       "      <td>False</td>\n",
       "      <td>-6</td>\n",
       "      <td>False</td>\n",
       "    </tr>\n",
       "    <tr>\n",
       "      <td><svg xmlns=\"http://www.w3.org/2000/svg\" version=\"1.1\" xmlns:xlink=\"http://www.w3.org/1999/xlink\" viewBox=\"0 0 360 360\" width=\"180\" height=\"180\"><style>svg {padding: 0px 10px 5px 0px;}</style><defs><g id=\"white-pawn\" class=\"white pawn\"><path d=\"M22 9c-2.21 0-4 1.79-4 4 0 .89.29 1.71.78 2.38-1.95 1.12-3.28 3.21-3.28 5.62 0 2.03.94 3.84 2.41 5.03-3 1.06-7.41 5.55-7.41 13.47h23c0-7.92-4.41-12.41-7.41-13.47 1.47-1.19 2.41-3 2.41-5.03 0-2.41-1.33-4.5-3.28-5.62.49-.67.78-1.49.78-2.38 0-2.21-1.79-4-4-4z\" fill=\"#fff\" stroke=\"#000\" stroke-width=\"1.5\" stroke-linecap=\"round\" /></g><g id=\"white-knight\" class=\"white knight\" fill=\"none\" fill-rule=\"evenodd\" stroke=\"#000\" stroke-width=\"1.5\" stroke-linecap=\"round\" stroke-linejoin=\"round\"><path d=\"M 22,10 C 32.5,11 38.5,18 38,39 L 15,39 C 15,30 25,32.5 23,18\" style=\"fill:#ffffff; stroke:#000000;\" /><path d=\"M 24,18 C 24.38,20.91 18.45,25.37 16,27 C 13,29 13.18,31.34 11,31 C 9.958,30.06 12.41,27.96 11,28 C 10,28 11.19,29.23 10,30 C 9,30 5.997,31 6,26 C 6,24 12,14 12,14 C 12,14 13.89,12.1 14,10.5 C 13.27,9.506 13.5,8.5 13.5,7.5 C 14.5,6.5 16.5,10 16.5,10 L 18.5,10 C 18.5,10 19.28,8.008 21,7 C 22,7 22,10 22,10\" style=\"fill:#ffffff; stroke:#000000;\" /><path d=\"M 9.5 25.5 A 0.5 0.5 0 1 1 8.5,25.5 A 0.5 0.5 0 1 1 9.5 25.5 z\" style=\"fill:#000000; stroke:#000000;\" /><path d=\"M 15 15.5 A 0.5 1.5 0 1 1 14,15.5 A 0.5 1.5 0 1 1 15 15.5 z\" transform=\"matrix(0.866,0.5,-0.5,0.866,9.693,-5.173)\" style=\"fill:#000000; stroke:#000000;\" /></g><g id=\"white-bishop\" class=\"white bishop\" fill=\"none\" fill-rule=\"evenodd\" stroke=\"#000\" stroke-width=\"1.5\" stroke-linecap=\"round\" stroke-linejoin=\"round\"><g fill=\"#fff\" stroke-linecap=\"butt\"><path d=\"M9 36c3.39-.97 10.11.43 13.5-2 3.39 2.43 10.11 1.03 13.5 2 0 0 1.65.54 3 2-.68.97-1.65.99-3 .5-3.39-.97-10.11.46-13.5-1-3.39 1.46-10.11.03-13.5 1-1.354.49-2.323.47-3-.5 1.354-1.94 3-2 3-2zM15 32c2.5 2.5 12.5 2.5 15 0 .5-1.5 0-2 0-2 0-2.5-2.5-4-2.5-4 5.5-1.5 6-11.5-5-15.5-11 4-10.5 14-5 15.5 0 0-2.5 1.5-2.5 4 0 0-.5.5 0 2zM25 8a2.5 2.5 0 1 1-5 0 2.5 2.5 0 1 1 5 0z\" /></g><path d=\"M17.5 26h10M15 30h15m-7.5-14.5v5M20 18h5\" stroke-linejoin=\"miter\" /></g><g id=\"white-rook\" class=\"white rook\" fill=\"#fff\" fill-rule=\"evenodd\" stroke=\"#000\" stroke-width=\"1.5\" stroke-linecap=\"round\" stroke-linejoin=\"round\"><path d=\"M9 39h27v-3H9v3zM12 36v-4h21v4H12zM11 14V9h4v2h5V9h5v2h5V9h4v5\" stroke-linecap=\"butt\" /><path d=\"M34 14l-3 3H14l-3-3\" /><path d=\"M31 17v12.5H14V17\" stroke-linecap=\"butt\" stroke-linejoin=\"miter\" /><path d=\"M31 29.5l1.5 2.5h-20l1.5-2.5\" /><path d=\"M11 14h23\" fill=\"none\" stroke-linejoin=\"miter\" /></g><g id=\"white-queen\" class=\"white queen\" fill=\"#fff\" fill-rule=\"evenodd\" stroke=\"#000\" stroke-width=\"1.5\" stroke-linecap=\"round\" stroke-linejoin=\"round\"><path d=\"M8 12a2 2 0 1 1-4 0 2 2 0 1 1 4 0zM24.5 7.5a2 2 0 1 1-4 0 2 2 0 1 1 4 0zM41 12a2 2 0 1 1-4 0 2 2 0 1 1 4 0zM16 8.5a2 2 0 1 1-4 0 2 2 0 1 1 4 0zM33 9a2 2 0 1 1-4 0 2 2 0 1 1 4 0z\" /><path d=\"M9 26c8.5-1.5 21-1.5 27 0l2-12-7 11V11l-5.5 13.5-3-15-3 15-5.5-14V25L7 14l2 12zM9 26c0 2 1.5 2 2.5 4 1 1.5 1 1 .5 3.5-1.5 1-1.5 2.5-1.5 2.5-1.5 1.5.5 2.5.5 2.5 6.5 1 16.5 1 23 0 0 0 1.5-1 0-2.5 0 0 .5-1.5-1-2.5-.5-2.5-.5-2 .5-3.5 1-2 2.5-2 2.5-4-8.5-1.5-18.5-1.5-27 0z\" stroke-linecap=\"butt\" /><path d=\"M11.5 30c3.5-1 18.5-1 22 0M12 33.5c6-1 15-1 21 0\" fill=\"none\" /></g><g id=\"white-king\" class=\"white king\" fill=\"none\" fill-rule=\"evenodd\" stroke=\"#000\" stroke-width=\"1.5\" stroke-linecap=\"round\" stroke-linejoin=\"round\"><path d=\"M22.5 11.63V6M20 8h5\" stroke-linejoin=\"miter\" /><path d=\"M22.5 25s4.5-7.5 3-10.5c0 0-1-2.5-3-2.5s-3 2.5-3 2.5c-1.5 3 3 10.5 3 10.5\" fill=\"#fff\" stroke-linecap=\"butt\" stroke-linejoin=\"miter\" /><path d=\"M11.5 37c5.5 3.5 15.5 3.5 21 0v-7s9-4.5 6-10.5c-4-6.5-13.5-3.5-16 4V27v-3.5c-3.5-7.5-13-10.5-16-4-3 6 5 10 5 10V37z\" fill=\"#fff\" /><path d=\"M11.5 30c5.5-3 15.5-3 21 0m-21 3.5c5.5-3 15.5-3 21 0m-21 3.5c5.5-3 15.5-3 21 0\" /></g><g id=\"black-pawn\" class=\"black pawn\"><path d=\"M22 9c-2.21 0-4 1.79-4 4 0 .89.29 1.71.78 2.38-1.95 1.12-3.28 3.21-3.28 5.62 0 2.03.94 3.84 2.41 5.03-3 1.06-7.41 5.55-7.41 13.47h23c0-7.92-4.41-12.41-7.41-13.47 1.47-1.19 2.41-3 2.41-5.03 0-2.41-1.33-4.5-3.28-5.62.49-.67.78-1.49.78-2.38 0-2.21-1.79-4-4-4z\" stroke=\"#000\" stroke-width=\"1.5\" stroke-linecap=\"round\" /></g><g id=\"black-bishop\" class=\"black bishop\" fill=\"none\" fill-rule=\"evenodd\" stroke=\"#000\" stroke-width=\"1.5\" stroke-linecap=\"round\" stroke-linejoin=\"round\"><path d=\"M9 36c3.39-.97 10.11.43 13.5-2 3.39 2.43 10.11 1.03 13.5 2 0 0 1.65.54 3 2-.68.97-1.65.99-3 .5-3.39-.97-10.11.46-13.5-1-3.39 1.46-10.11.03-13.5 1-1.354.49-2.323.47-3-.5 1.354-1.94 3-2 3-2zm6-4c2.5 2.5 12.5 2.5 15 0 .5-1.5 0-2 0-2 0-2.5-2.5-4-2.5-4 5.5-1.5 6-11.5-5-15.5-11 4-10.5 14-5 15.5 0 0-2.5 1.5-2.5 4 0 0-.5.5 0 2zM25 8a2.5 2.5 0 1 1-5 0 2.5 2.5 0 1 1 5 0z\" fill=\"#000\" stroke-linecap=\"butt\" /><path d=\"M17.5 26h10M15 30h15m-7.5-14.5v5M20 18h5\" stroke=\"#fff\" stroke-linejoin=\"miter\" /></g><g id=\"black-rook\" class=\"black rook\" fill=\"#000\" fill-rule=\"evenodd\" stroke=\"#000\" stroke-width=\"1.5\" stroke-linecap=\"round\" stroke-linejoin=\"round\"><path d=\"M9 39h27v-3H9v3zM12.5 32l1.5-2.5h17l1.5 2.5h-20zM12 36v-4h21v4H12z\" stroke-linecap=\"butt\" /><path d=\"M14 29.5v-13h17v13H14z\" stroke-linecap=\"butt\" stroke-linejoin=\"miter\" /><path d=\"M14 16.5L11 14h23l-3 2.5H14zM11 14V9h4v2h5V9h5v2h5V9h4v5H11z\" stroke-linecap=\"butt\" /><path d=\"M12 35.5h21M13 31.5h19M14 29.5h17M14 16.5h17M11 14h23\" fill=\"none\" stroke=\"#fff\" stroke-width=\"1\" stroke-linejoin=\"miter\" /></g><g id=\"black-queen\" class=\"black queen\" fill=\"#000\" fill-rule=\"evenodd\" stroke=\"#000\" stroke-width=\"1.5\" stroke-linecap=\"round\" stroke-linejoin=\"round\"><g fill=\"#000\" stroke=\"none\"><circle cx=\"6\" cy=\"12\" r=\"2.75\" /><circle cx=\"14\" cy=\"9\" r=\"2.75\" /><circle cx=\"22.5\" cy=\"8\" r=\"2.75\" /><circle cx=\"31\" cy=\"9\" r=\"2.75\" /><circle cx=\"39\" cy=\"12\" r=\"2.75\" /></g><path d=\"M9 26c8.5-1.5 21-1.5 27 0l2.5-12.5L31 25l-.3-14.1-5.2 13.6-3-14.5-3 14.5-5.2-13.6L14 25 6.5 13.5 9 26zM9 26c0 2 1.5 2 2.5 4 1 1.5 1 1 .5 3.5-1.5 1-1.5 2.5-1.5 2.5-1.5 1.5.5 2.5.5 2.5 6.5 1 16.5 1 23 0 0 0 1.5-1 0-2.5 0 0 .5-1.5-1-2.5-.5-2.5-.5-2 .5-3.5 1-2 2.5-2 2.5-4-8.5-1.5-18.5-1.5-27 0z\" stroke-linecap=\"butt\" /><path d=\"M11 38.5a35 35 1 0 0 23 0\" fill=\"none\" stroke-linecap=\"butt\" /><path d=\"M11 29a35 35 1 0 1 23 0M12.5 31.5h20M11.5 34.5a35 35 1 0 0 22 0M10.5 37.5a35 35 1 0 0 24 0\" fill=\"none\" stroke=\"#fff\" /></g><g id=\"black-king\" class=\"black king\" fill=\"none\" fill-rule=\"evenodd\" stroke=\"#000\" stroke-width=\"1.5\" stroke-linecap=\"round\" stroke-linejoin=\"round\"><path d=\"M22.5 11.63V6\" stroke-linejoin=\"miter\" /><path d=\"M22.5 25s4.5-7.5 3-10.5c0 0-1-2.5-3-2.5s-3 2.5-3 2.5c-1.5 3 3 10.5 3 10.5\" fill=\"#000\" stroke-linecap=\"butt\" stroke-linejoin=\"miter\" /><path d=\"M11.5 37c5.5 3.5 15.5 3.5 21 0v-7s9-4.5 6-10.5c-4-6.5-13.5-3.5-16 4V27v-3.5c-3.5-7.5-13-10.5-16-4-3 6 5 10 5 10V37z\" fill=\"#000\" /><path d=\"M20 8h5\" stroke-linejoin=\"miter\" /><path d=\"M32 29.5s8.5-4 6.03-9.65C34.15 14 25 18 22.5 24.5l.01 2.1-.01-2.1C20 18 9.906 14 6.997 19.85c-2.497 5.65 4.853 9 4.853 9M11.5 30c5.5-3 15.5-3 21 0m-21 3.5c5.5-3 15.5-3 21 0m-21 3.5c5.5-3 15.5-3 21 0\" stroke=\"#fff\" /></g></defs><rect x=\"315\" y=\"0\" width=\"45\" height=\"45\" class=\"square dark a1\" stroke=\"none\" fill=\"#d18b47\" /><use xlink:href=\"#white-rook\" transform=\"translate(315, 0)\" /><rect x=\"270\" y=\"0\" width=\"45\" height=\"45\" class=\"square light b1\" stroke=\"none\" fill=\"#ffce9e\" /><use xlink:href=\"#white-knight\" transform=\"translate(270, 0)\" /><rect x=\"225\" y=\"0\" width=\"45\" height=\"45\" class=\"square dark c1\" stroke=\"none\" fill=\"#d18b47\" /><use xlink:href=\"#white-bishop\" transform=\"translate(225, 0)\" /><rect x=\"180\" y=\"0\" width=\"45\" height=\"45\" class=\"square light d1\" stroke=\"none\" fill=\"#ffce9e\" /><use xlink:href=\"#white-queen\" transform=\"translate(180, 0)\" /><rect x=\"135\" y=\"0\" width=\"45\" height=\"45\" class=\"square dark e1\" stroke=\"none\" fill=\"#d18b47\" /><use xlink:href=\"#white-king\" transform=\"translate(135, 0)\" /><rect x=\"90\" y=\"0\" width=\"45\" height=\"45\" class=\"square light f1\" stroke=\"none\" fill=\"#ffce9e\" /><rect x=\"45\" y=\"0\" width=\"45\" height=\"45\" class=\"square dark g1\" stroke=\"none\" fill=\"#d18b47\" /><rect x=\"0\" y=\"0\" width=\"45\" height=\"45\" class=\"square light h1\" stroke=\"none\" fill=\"#ffce9e\" /><use xlink:href=\"#white-rook\" transform=\"translate(0, 0)\" /><rect x=\"315\" y=\"45\" width=\"45\" height=\"45\" class=\"square light a2\" stroke=\"none\" fill=\"#ffce9e\" /><rect x=\"270\" y=\"45\" width=\"45\" height=\"45\" class=\"square dark b2\" stroke=\"none\" fill=\"#d18b47\" /><rect x=\"225\" y=\"45\" width=\"45\" height=\"45\" class=\"square light c2\" stroke=\"none\" fill=\"#ffce9e\" /><rect x=\"180\" y=\"45\" width=\"45\" height=\"45\" class=\"square dark d2\" stroke=\"none\" fill=\"#d18b47\" /><use xlink:href=\"#white-pawn\" transform=\"translate(180, 45)\" /><rect x=\"135\" y=\"45\" width=\"45\" height=\"45\" class=\"square light e2\" stroke=\"none\" fill=\"#ffce9e\" /><use xlink:href=\"#white-knight\" transform=\"translate(135, 45)\" /><rect x=\"90\" y=\"45\" width=\"45\" height=\"45\" class=\"square dark f2\" stroke=\"none\" fill=\"#d18b47\" /><rect x=\"45\" y=\"45\" width=\"45\" height=\"45\" class=\"square light g2\" stroke=\"none\" fill=\"#ffce9e\" /><rect x=\"0\" y=\"45\" width=\"45\" height=\"45\" class=\"square dark h2\" stroke=\"none\" fill=\"#d18b47\" /><rect x=\"315\" y=\"90\" width=\"45\" height=\"45\" class=\"square dark a3\" stroke=\"none\" fill=\"#d18b47\" /><use xlink:href=\"#white-pawn\" transform=\"translate(315, 90)\" /><rect x=\"270\" y=\"90\" width=\"45\" height=\"45\" class=\"square light b3\" stroke=\"none\" fill=\"#ffce9e\" /><rect x=\"225\" y=\"90\" width=\"45\" height=\"45\" class=\"square dark c3\" stroke=\"none\" fill=\"#d18b47\" /><use xlink:href=\"#white-pawn\" transform=\"translate(225, 90)\" /><rect x=\"180\" y=\"90\" width=\"45\" height=\"45\" class=\"square light d3\" stroke=\"none\" fill=\"#ffce9e\" /><rect x=\"135\" y=\"90\" width=\"45\" height=\"45\" class=\"square dark e3\" stroke=\"none\" fill=\"#d18b47\" /><rect x=\"90\" y=\"90\" width=\"45\" height=\"45\" class=\"square light f3\" stroke=\"none\" fill=\"#ffce9e\" /><use xlink:href=\"#black-queen\" transform=\"translate(90, 90)\" /><rect x=\"45\" y=\"90\" width=\"45\" height=\"45\" class=\"square dark g3\" stroke=\"none\" fill=\"#d18b47\" /><use xlink:href=\"#white-pawn\" transform=\"translate(45, 90)\" /><rect x=\"0\" y=\"90\" width=\"45\" height=\"45\" class=\"square light h3\" stroke=\"none\" fill=\"#ffce9e\" /><use xlink:href=\"#black-bishop\" transform=\"translate(0, 90)\" /><rect x=\"315\" y=\"135\" width=\"45\" height=\"45\" class=\"square light a4\" stroke=\"none\" fill=\"#ffce9e\" /><rect x=\"270\" y=\"135\" width=\"45\" height=\"45\" class=\"square dark b4\" stroke=\"none\" fill=\"#d18b47\" /><rect x=\"225\" y=\"135\" width=\"45\" height=\"45\" class=\"square light c4\" stroke=\"none\" fill=\"#ffce9e\" /><rect x=\"180\" y=\"135\" width=\"45\" height=\"45\" class=\"square dark d4\" stroke=\"none\" fill=\"#d18b47\" /><rect x=\"135\" y=\"135\" width=\"45\" height=\"45\" class=\"square light e4\" stroke=\"none\" fill=\"#ffce9e\" /><use xlink:href=\"#black-pawn\" transform=\"translate(135, 135)\" /><rect x=\"90\" y=\"135\" width=\"45\" height=\"45\" class=\"square dark f4\" stroke=\"none\" fill=\"#d18b47\" /><rect x=\"45\" y=\"135\" width=\"45\" height=\"45\" class=\"square light g4\" stroke=\"none\" fill=\"#ffce9e\" /><rect x=\"0\" y=\"135\" width=\"45\" height=\"45\" class=\"square dark h4\" stroke=\"none\" fill=\"#d18b47\" /><rect x=\"315\" y=\"180\" width=\"45\" height=\"45\" class=\"square dark a5\" stroke=\"none\" fill=\"#d18b47\" /><use xlink:href=\"#white-pawn\" transform=\"translate(315, 180)\" /><rect x=\"270\" y=\"180\" width=\"45\" height=\"45\" class=\"square light b5\" stroke=\"none\" fill=\"#ffce9e\" /><rect x=\"225\" y=\"180\" width=\"45\" height=\"45\" class=\"square dark c5\" stroke=\"none\" fill=\"#d18b47\" /><rect x=\"180\" y=\"180\" width=\"45\" height=\"45\" class=\"square light d5\" stroke=\"none\" fill=\"#ffce9e\" /><rect x=\"135\" y=\"180\" width=\"45\" height=\"45\" class=\"square dark e5\" stroke=\"none\" fill=\"#d18b47\" /><rect x=\"90\" y=\"180\" width=\"45\" height=\"45\" class=\"square light f5\" stroke=\"none\" fill=\"#ffce9e\" /><rect x=\"45\" y=\"180\" width=\"45\" height=\"45\" class=\"square dark g5\" stroke=\"none\" fill=\"#d18b47\" /><rect x=\"0\" y=\"180\" width=\"45\" height=\"45\" class=\"square light h5\" stroke=\"none\" fill=\"#ffce9e\" /><rect x=\"315\" y=\"225\" width=\"45\" height=\"45\" class=\"square light a6\" stroke=\"none\" fill=\"#ffce9e\" /><rect x=\"270\" y=\"225\" width=\"45\" height=\"45\" class=\"square dark b6\" stroke=\"none\" fill=\"#d18b47\" /><rect x=\"225\" y=\"225\" width=\"45\" height=\"45\" class=\"square light c6\" stroke=\"none\" fill=\"#ffce9e\" /><use xlink:href=\"#white-bishop\" transform=\"translate(225, 225)\" /><rect x=\"180\" y=\"225\" width=\"45\" height=\"45\" class=\"square dark d6\" stroke=\"none\" fill=\"#d18b47\" /><use xlink:href=\"#black-bishop\" transform=\"translate(180, 225)\" /><rect x=\"135\" y=\"225\" width=\"45\" height=\"45\" class=\"square light e6\" stroke=\"none\" fill=\"#ffce9e\" /><rect x=\"90\" y=\"225\" width=\"45\" height=\"45\" class=\"square dark f6\" stroke=\"none\" fill=\"#d18b47\" /><rect x=\"45\" y=\"225\" width=\"45\" height=\"45\" class=\"square light g6\" stroke=\"none\" fill=\"#ffce9e\" /><rect x=\"0\" y=\"225\" width=\"45\" height=\"45\" class=\"square dark h6\" stroke=\"none\" fill=\"#d18b47\" /><use xlink:href=\"#black-pawn\" transform=\"translate(0, 225)\" /><rect x=\"315\" y=\"270\" width=\"45\" height=\"45\" class=\"square dark a7\" stroke=\"none\" fill=\"#d18b47\" /><use xlink:href=\"#black-pawn\" transform=\"translate(315, 270)\" /><rect x=\"270\" y=\"270\" width=\"45\" height=\"45\" class=\"square light b7\" stroke=\"none\" fill=\"#ffce9e\" /><rect x=\"225\" y=\"270\" width=\"45\" height=\"45\" class=\"square dark c7\" stroke=\"none\" fill=\"#d18b47\" /><rect x=\"180\" y=\"270\" width=\"45\" height=\"45\" class=\"square light d7\" stroke=\"none\" fill=\"#ffce9e\" /><rect x=\"135\" y=\"270\" width=\"45\" height=\"45\" class=\"square dark e7\" stroke=\"none\" fill=\"#d18b47\" /><use xlink:href=\"#black-rook\" transform=\"translate(135, 270)\" /><rect x=\"90\" y=\"270\" width=\"45\" height=\"45\" class=\"square light f7\" stroke=\"none\" fill=\"#ffce9e\" /><use xlink:href=\"#black-pawn\" transform=\"translate(90, 270)\" /><rect x=\"45\" y=\"270\" width=\"45\" height=\"45\" class=\"square dark g7\" stroke=\"none\" fill=\"#d18b47\" /><use xlink:href=\"#black-pawn\" transform=\"translate(45, 270)\" /><rect x=\"0\" y=\"270\" width=\"45\" height=\"45\" class=\"square light h7\" stroke=\"none\" fill=\"#ffce9e\" /><rect x=\"315\" y=\"315\" width=\"45\" height=\"45\" class=\"square light a8\" stroke=\"none\" fill=\"#ffce9e\" /><use xlink:href=\"#black-rook\" transform=\"translate(315, 315)\" /><rect x=\"270\" y=\"315\" width=\"45\" height=\"45\" class=\"square dark b8\" stroke=\"none\" fill=\"#d18b47\" /><rect x=\"225\" y=\"315\" width=\"45\" height=\"45\" class=\"square light c8\" stroke=\"none\" fill=\"#ffce9e\" /><rect x=\"180\" y=\"315\" width=\"45\" height=\"45\" class=\"square dark d8\" stroke=\"none\" fill=\"#d18b47\" /><rect x=\"135\" y=\"315\" width=\"45\" height=\"45\" class=\"square light e8\" stroke=\"none\" fill=\"#ffce9e\" /><rect x=\"90\" y=\"315\" width=\"45\" height=\"45\" class=\"square dark f8\" stroke=\"none\" fill=\"#d18b47\" /><rect x=\"45\" y=\"315\" width=\"45\" height=\"45\" class=\"square light g8\" stroke=\"none\" fill=\"#ffce9e\" /><use xlink:href=\"#black-king\" transform=\"translate(45, 315)\" /><rect x=\"0\" y=\"315\" width=\"45\" height=\"45\" class=\"square dark h8\" stroke=\"none\" fill=\"#d18b47\" /><line x1=\"112.5\" y1=\"112.5\" x2=\"49.54683438038544\" y2=\"49.54683438038544\" stroke=\"#888\" stroke-width=\"9.0\" opacity=\"0.5\" stroke-linecap=\"butt\" class=\"arrow\" /><polygon points=\"25.681980515339465,25.681980515339465 37.61440744786245,61.479261312908434 61.479261312908434,37.61440744786245\" fill=\"#888\" opacity=\"0.5\" class=\"arrow\" /></svg></td>\n",
       "      <td>3.0</td>\n",
       "      <td>24</td>\n",
       "      <td>22</td>\n",
       "      <td>50</td>\n",
       "      <td>26</td>\n",
       "      <td>False</td>\n",
       "      <td>-6</td>\n",
       "      <td>False</td>\n",
       "    </tr>\n",
       "    <tr>\n",
       "      <td><svg xmlns=\"http://www.w3.org/2000/svg\" version=\"1.1\" xmlns:xlink=\"http://www.w3.org/1999/xlink\" viewBox=\"0 0 360 360\" width=\"180\" height=\"180\"><style>svg {padding: 0px 10px 5px 0px;}</style><defs><g id=\"white-pawn\" class=\"white pawn\"><path d=\"M22 9c-2.21 0-4 1.79-4 4 0 .89.29 1.71.78 2.38-1.95 1.12-3.28 3.21-3.28 5.62 0 2.03.94 3.84 2.41 5.03-3 1.06-7.41 5.55-7.41 13.47h23c0-7.92-4.41-12.41-7.41-13.47 1.47-1.19 2.41-3 2.41-5.03 0-2.41-1.33-4.5-3.28-5.62.49-.67.78-1.49.78-2.38 0-2.21-1.79-4-4-4z\" fill=\"#fff\" stroke=\"#000\" stroke-width=\"1.5\" stroke-linecap=\"round\" /></g><g id=\"white-knight\" class=\"white knight\" fill=\"none\" fill-rule=\"evenodd\" stroke=\"#000\" stroke-width=\"1.5\" stroke-linecap=\"round\" stroke-linejoin=\"round\"><path d=\"M 22,10 C 32.5,11 38.5,18 38,39 L 15,39 C 15,30 25,32.5 23,18\" style=\"fill:#ffffff; stroke:#000000;\" /><path d=\"M 24,18 C 24.38,20.91 18.45,25.37 16,27 C 13,29 13.18,31.34 11,31 C 9.958,30.06 12.41,27.96 11,28 C 10,28 11.19,29.23 10,30 C 9,30 5.997,31 6,26 C 6,24 12,14 12,14 C 12,14 13.89,12.1 14,10.5 C 13.27,9.506 13.5,8.5 13.5,7.5 C 14.5,6.5 16.5,10 16.5,10 L 18.5,10 C 18.5,10 19.28,8.008 21,7 C 22,7 22,10 22,10\" style=\"fill:#ffffff; stroke:#000000;\" /><path d=\"M 9.5 25.5 A 0.5 0.5 0 1 1 8.5,25.5 A 0.5 0.5 0 1 1 9.5 25.5 z\" style=\"fill:#000000; stroke:#000000;\" /><path d=\"M 15 15.5 A 0.5 1.5 0 1 1 14,15.5 A 0.5 1.5 0 1 1 15 15.5 z\" transform=\"matrix(0.866,0.5,-0.5,0.866,9.693,-5.173)\" style=\"fill:#000000; stroke:#000000;\" /></g><g id=\"white-rook\" class=\"white rook\" fill=\"#fff\" fill-rule=\"evenodd\" stroke=\"#000\" stroke-width=\"1.5\" stroke-linecap=\"round\" stroke-linejoin=\"round\"><path d=\"M9 39h27v-3H9v3zM12 36v-4h21v4H12zM11 14V9h4v2h5V9h5v2h5V9h4v5\" stroke-linecap=\"butt\" /><path d=\"M34 14l-3 3H14l-3-3\" /><path d=\"M31 17v12.5H14V17\" stroke-linecap=\"butt\" stroke-linejoin=\"miter\" /><path d=\"M31 29.5l1.5 2.5h-20l1.5-2.5\" /><path d=\"M11 14h23\" fill=\"none\" stroke-linejoin=\"miter\" /></g><g id=\"white-queen\" class=\"white queen\" fill=\"#fff\" fill-rule=\"evenodd\" stroke=\"#000\" stroke-width=\"1.5\" stroke-linecap=\"round\" stroke-linejoin=\"round\"><path d=\"M8 12a2 2 0 1 1-4 0 2 2 0 1 1 4 0zM24.5 7.5a2 2 0 1 1-4 0 2 2 0 1 1 4 0zM41 12a2 2 0 1 1-4 0 2 2 0 1 1 4 0zM16 8.5a2 2 0 1 1-4 0 2 2 0 1 1 4 0zM33 9a2 2 0 1 1-4 0 2 2 0 1 1 4 0z\" /><path d=\"M9 26c8.5-1.5 21-1.5 27 0l2-12-7 11V11l-5.5 13.5-3-15-3 15-5.5-14V25L7 14l2 12zM9 26c0 2 1.5 2 2.5 4 1 1.5 1 1 .5 3.5-1.5 1-1.5 2.5-1.5 2.5-1.5 1.5.5 2.5.5 2.5 6.5 1 16.5 1 23 0 0 0 1.5-1 0-2.5 0 0 .5-1.5-1-2.5-.5-2.5-.5-2 .5-3.5 1-2 2.5-2 2.5-4-8.5-1.5-18.5-1.5-27 0z\" stroke-linecap=\"butt\" /><path d=\"M11.5 30c3.5-1 18.5-1 22 0M12 33.5c6-1 15-1 21 0\" fill=\"none\" /></g><g id=\"white-king\" class=\"white king\" fill=\"none\" fill-rule=\"evenodd\" stroke=\"#000\" stroke-width=\"1.5\" stroke-linecap=\"round\" stroke-linejoin=\"round\"><path d=\"M22.5 11.63V6M20 8h5\" stroke-linejoin=\"miter\" /><path d=\"M22.5 25s4.5-7.5 3-10.5c0 0-1-2.5-3-2.5s-3 2.5-3 2.5c-1.5 3 3 10.5 3 10.5\" fill=\"#fff\" stroke-linecap=\"butt\" stroke-linejoin=\"miter\" /><path d=\"M11.5 37c5.5 3.5 15.5 3.5 21 0v-7s9-4.5 6-10.5c-4-6.5-13.5-3.5-16 4V27v-3.5c-3.5-7.5-13-10.5-16-4-3 6 5 10 5 10V37z\" fill=\"#fff\" /><path d=\"M11.5 30c5.5-3 15.5-3 21 0m-21 3.5c5.5-3 15.5-3 21 0m-21 3.5c5.5-3 15.5-3 21 0\" /></g><g id=\"black-pawn\" class=\"black pawn\"><path d=\"M22 9c-2.21 0-4 1.79-4 4 0 .89.29 1.71.78 2.38-1.95 1.12-3.28 3.21-3.28 5.62 0 2.03.94 3.84 2.41 5.03-3 1.06-7.41 5.55-7.41 13.47h23c0-7.92-4.41-12.41-7.41-13.47 1.47-1.19 2.41-3 2.41-5.03 0-2.41-1.33-4.5-3.28-5.62.49-.67.78-1.49.78-2.38 0-2.21-1.79-4-4-4z\" stroke=\"#000\" stroke-width=\"1.5\" stroke-linecap=\"round\" /></g><g id=\"black-bishop\" class=\"black bishop\" fill=\"none\" fill-rule=\"evenodd\" stroke=\"#000\" stroke-width=\"1.5\" stroke-linecap=\"round\" stroke-linejoin=\"round\"><path d=\"M9 36c3.39-.97 10.11.43 13.5-2 3.39 2.43 10.11 1.03 13.5 2 0 0 1.65.54 3 2-.68.97-1.65.99-3 .5-3.39-.97-10.11.46-13.5-1-3.39 1.46-10.11.03-13.5 1-1.354.49-2.323.47-3-.5 1.354-1.94 3-2 3-2zm6-4c2.5 2.5 12.5 2.5 15 0 .5-1.5 0-2 0-2 0-2.5-2.5-4-2.5-4 5.5-1.5 6-11.5-5-15.5-11 4-10.5 14-5 15.5 0 0-2.5 1.5-2.5 4 0 0-.5.5 0 2zM25 8a2.5 2.5 0 1 1-5 0 2.5 2.5 0 1 1 5 0z\" fill=\"#000\" stroke-linecap=\"butt\" /><path d=\"M17.5 26h10M15 30h15m-7.5-14.5v5M20 18h5\" stroke=\"#fff\" stroke-linejoin=\"miter\" /></g><g id=\"black-rook\" class=\"black rook\" fill=\"#000\" fill-rule=\"evenodd\" stroke=\"#000\" stroke-width=\"1.5\" stroke-linecap=\"round\" stroke-linejoin=\"round\"><path d=\"M9 39h27v-3H9v3zM12.5 32l1.5-2.5h17l1.5 2.5h-20zM12 36v-4h21v4H12z\" stroke-linecap=\"butt\" /><path d=\"M14 29.5v-13h17v13H14z\" stroke-linecap=\"butt\" stroke-linejoin=\"miter\" /><path d=\"M14 16.5L11 14h23l-3 2.5H14zM11 14V9h4v2h5V9h5v2h5V9h4v5H11z\" stroke-linecap=\"butt\" /><path d=\"M12 35.5h21M13 31.5h19M14 29.5h17M14 16.5h17M11 14h23\" fill=\"none\" stroke=\"#fff\" stroke-width=\"1\" stroke-linejoin=\"miter\" /></g><g id=\"black-queen\" class=\"black queen\" fill=\"#000\" fill-rule=\"evenodd\" stroke=\"#000\" stroke-width=\"1.5\" stroke-linecap=\"round\" stroke-linejoin=\"round\"><g fill=\"#000\" stroke=\"none\"><circle cx=\"6\" cy=\"12\" r=\"2.75\" /><circle cx=\"14\" cy=\"9\" r=\"2.75\" /><circle cx=\"22.5\" cy=\"8\" r=\"2.75\" /><circle cx=\"31\" cy=\"9\" r=\"2.75\" /><circle cx=\"39\" cy=\"12\" r=\"2.75\" /></g><path d=\"M9 26c8.5-1.5 21-1.5 27 0l2.5-12.5L31 25l-.3-14.1-5.2 13.6-3-14.5-3 14.5-5.2-13.6L14 25 6.5 13.5 9 26zM9 26c0 2 1.5 2 2.5 4 1 1.5 1 1 .5 3.5-1.5 1-1.5 2.5-1.5 2.5-1.5 1.5.5 2.5.5 2.5 6.5 1 16.5 1 23 0 0 0 1.5-1 0-2.5 0 0 .5-1.5-1-2.5-.5-2.5-.5-2 .5-3.5 1-2 2.5-2 2.5-4-8.5-1.5-18.5-1.5-27 0z\" stroke-linecap=\"butt\" /><path d=\"M11 38.5a35 35 1 0 0 23 0\" fill=\"none\" stroke-linecap=\"butt\" /><path d=\"M11 29a35 35 1 0 1 23 0M12.5 31.5h20M11.5 34.5a35 35 1 0 0 22 0M10.5 37.5a35 35 1 0 0 24 0\" fill=\"none\" stroke=\"#fff\" /></g><g id=\"black-king\" class=\"black king\" fill=\"none\" fill-rule=\"evenodd\" stroke=\"#000\" stroke-width=\"1.5\" stroke-linecap=\"round\" stroke-linejoin=\"round\"><path d=\"M22.5 11.63V6\" stroke-linejoin=\"miter\" /><path d=\"M22.5 25s4.5-7.5 3-10.5c0 0-1-2.5-3-2.5s-3 2.5-3 2.5c-1.5 3 3 10.5 3 10.5\" fill=\"#000\" stroke-linecap=\"butt\" stroke-linejoin=\"miter\" /><path d=\"M11.5 37c5.5 3.5 15.5 3.5 21 0v-7s9-4.5 6-10.5c-4-6.5-13.5-3.5-16 4V27v-3.5c-3.5-7.5-13-10.5-16-4-3 6 5 10 5 10V37z\" fill=\"#000\" /><path d=\"M20 8h5\" stroke-linejoin=\"miter\" /><path d=\"M32 29.5s8.5-4 6.03-9.65C34.15 14 25 18 22.5 24.5l.01 2.1-.01-2.1C20 18 9.906 14 6.997 19.85c-2.497 5.65 4.853 9 4.853 9M11.5 30c5.5-3 15.5-3 21 0m-21 3.5c5.5-3 15.5-3 21 0m-21 3.5c5.5-3 15.5-3 21 0\" stroke=\"#fff\" /></g></defs><rect x=\"0\" y=\"315\" width=\"45\" height=\"45\" class=\"square dark a1\" stroke=\"none\" fill=\"#d18b47\" /><use xlink:href=\"#white-rook\" transform=\"translate(0, 315)\" /><rect x=\"45\" y=\"315\" width=\"45\" height=\"45\" class=\"square light b1\" stroke=\"none\" fill=\"#ffce9e\" /><rect x=\"90\" y=\"315\" width=\"45\" height=\"45\" class=\"square dark c1\" stroke=\"none\" fill=\"#d18b47\" /><rect x=\"135\" y=\"315\" width=\"45\" height=\"45\" class=\"square light d1\" stroke=\"none\" fill=\"#ffce9e\" /><rect x=\"180\" y=\"315\" width=\"45\" height=\"45\" class=\"square dark e1\" stroke=\"none\" fill=\"#d18b47\" /><rect x=\"225\" y=\"315\" width=\"45\" height=\"45\" class=\"square light f1\" stroke=\"none\" fill=\"#ffce9e\" /><rect x=\"270\" y=\"315\" width=\"45\" height=\"45\" class=\"square dark g1\" stroke=\"none\" fill=\"#d18b47\" /><use xlink:href=\"#white-king\" transform=\"translate(270, 315)\" /><rect x=\"315\" y=\"315\" width=\"45\" height=\"45\" class=\"square light h1\" stroke=\"none\" fill=\"#ffce9e\" /><rect x=\"0\" y=\"270\" width=\"45\" height=\"45\" class=\"square light a2\" stroke=\"none\" fill=\"#ffce9e\" /><use xlink:href=\"#white-pawn\" transform=\"translate(0, 270)\" /><rect x=\"45\" y=\"270\" width=\"45\" height=\"45\" class=\"square dark b2\" stroke=\"none\" fill=\"#d18b47\" /><use xlink:href=\"#white-pawn\" transform=\"translate(45, 270)\" /><rect x=\"90\" y=\"270\" width=\"45\" height=\"45\" class=\"square light c2\" stroke=\"none\" fill=\"#ffce9e\" /><use xlink:href=\"#white-pawn\" transform=\"translate(90, 270)\" /><rect x=\"135\" y=\"270\" width=\"45\" height=\"45\" class=\"square dark d2\" stroke=\"none\" fill=\"#d18b47\" /><rect x=\"180\" y=\"270\" width=\"45\" height=\"45\" class=\"square light e2\" stroke=\"none\" fill=\"#ffce9e\" /><rect x=\"225\" y=\"270\" width=\"45\" height=\"45\" class=\"square dark f2\" stroke=\"none\" fill=\"#d18b47\" /><use xlink:href=\"#white-pawn\" transform=\"translate(225, 270)\" /><rect x=\"270\" y=\"270\" width=\"45\" height=\"45\" class=\"square light g2\" stroke=\"none\" fill=\"#ffce9e\" /><use xlink:href=\"#white-pawn\" transform=\"translate(270, 270)\" /><rect x=\"315\" y=\"270\" width=\"45\" height=\"45\" class=\"square dark h2\" stroke=\"none\" fill=\"#d18b47\" /><use xlink:href=\"#white-pawn\" transform=\"translate(315, 270)\" /><rect x=\"0\" y=\"225\" width=\"45\" height=\"45\" class=\"square dark a3\" stroke=\"none\" fill=\"#d18b47\" /><rect x=\"45\" y=\"225\" width=\"45\" height=\"45\" class=\"square light b3\" stroke=\"none\" fill=\"#ffce9e\" /><rect x=\"90\" y=\"225\" width=\"45\" height=\"45\" class=\"square dark c3\" stroke=\"none\" fill=\"#d18b47\" /><rect x=\"135\" y=\"225\" width=\"45\" height=\"45\" class=\"square light d3\" stroke=\"none\" fill=\"#ffce9e\" /><rect x=\"180\" y=\"225\" width=\"45\" height=\"45\" class=\"square dark e3\" stroke=\"none\" fill=\"#d18b47\" /><rect x=\"225\" y=\"225\" width=\"45\" height=\"45\" class=\"square light f3\" stroke=\"none\" fill=\"#ffce9e\" /><use xlink:href=\"#white-knight\" transform=\"translate(225, 225)\" /><rect x=\"270\" y=\"225\" width=\"45\" height=\"45\" class=\"square dark g3\" stroke=\"none\" fill=\"#d18b47\" /><rect x=\"315\" y=\"225\" width=\"45\" height=\"45\" class=\"square light h3\" stroke=\"none\" fill=\"#ffce9e\" /><rect x=\"0\" y=\"180\" width=\"45\" height=\"45\" class=\"square light a4\" stroke=\"none\" fill=\"#ffce9e\" /><rect x=\"45\" y=\"180\" width=\"45\" height=\"45\" class=\"square dark b4\" stroke=\"none\" fill=\"#d18b47\" /><rect x=\"90\" y=\"180\" width=\"45\" height=\"45\" class=\"square light c4\" stroke=\"none\" fill=\"#ffce9e\" /><rect x=\"135\" y=\"180\" width=\"45\" height=\"45\" class=\"square dark d4\" stroke=\"none\" fill=\"#d18b47\" /><use xlink:href=\"#black-pawn\" transform=\"translate(135, 180)\" /><rect x=\"180\" y=\"180\" width=\"45\" height=\"45\" class=\"square light e4\" stroke=\"none\" fill=\"#ffce9e\" /><rect x=\"225\" y=\"180\" width=\"45\" height=\"45\" class=\"square dark f4\" stroke=\"none\" fill=\"#d18b47\" /><rect x=\"270\" y=\"180\" width=\"45\" height=\"45\" class=\"square light g4\" stroke=\"none\" fill=\"#ffce9e\" /><rect x=\"315\" y=\"180\" width=\"45\" height=\"45\" class=\"square dark h4\" stroke=\"none\" fill=\"#d18b47\" /><rect x=\"0\" y=\"135\" width=\"45\" height=\"45\" class=\"square dark a5\" stroke=\"none\" fill=\"#d18b47\" /><rect x=\"45\" y=\"135\" width=\"45\" height=\"45\" class=\"square light b5\" stroke=\"none\" fill=\"#ffce9e\" /><rect x=\"90\" y=\"135\" width=\"45\" height=\"45\" class=\"square dark c5\" stroke=\"none\" fill=\"#d18b47\" /><rect x=\"135\" y=\"135\" width=\"45\" height=\"45\" class=\"square light d5\" stroke=\"none\" fill=\"#ffce9e\" /><rect x=\"180\" y=\"135\" width=\"45\" height=\"45\" class=\"square dark e5\" stroke=\"none\" fill=\"#d18b47\" /><rect x=\"225\" y=\"135\" width=\"45\" height=\"45\" class=\"square light f5\" stroke=\"none\" fill=\"#ffce9e\" /><rect x=\"270\" y=\"135\" width=\"45\" height=\"45\" class=\"square dark g5\" stroke=\"none\" fill=\"#d18b47\" /><rect x=\"315\" y=\"135\" width=\"45\" height=\"45\" class=\"square light h5\" stroke=\"none\" fill=\"#ffce9e\" /><use xlink:href=\"#white-queen\" transform=\"translate(315, 135)\" /><rect x=\"0\" y=\"90\" width=\"45\" height=\"45\" class=\"square light a6\" stroke=\"none\" fill=\"#ffce9e\" /><rect x=\"45\" y=\"90\" width=\"45\" height=\"45\" class=\"square dark b6\" stroke=\"none\" fill=\"#d18b47\" /><rect x=\"90\" y=\"90\" width=\"45\" height=\"45\" class=\"square light c6\" stroke=\"none\" fill=\"#ffce9e\" /><rect x=\"135\" y=\"90\" width=\"45\" height=\"45\" class=\"square dark d6\" stroke=\"none\" fill=\"#d18b47\" /><use xlink:href=\"#black-queen\" transform=\"translate(135, 90)\" /><rect x=\"180\" y=\"90\" width=\"45\" height=\"45\" class=\"square light e6\" stroke=\"none\" fill=\"#ffce9e\" /><use xlink:href=\"#black-pawn\" transform=\"translate(180, 90)\" /><rect x=\"225\" y=\"90\" width=\"45\" height=\"45\" class=\"square dark f6\" stroke=\"none\" fill=\"#d18b47\" /><rect x=\"270\" y=\"90\" width=\"45\" height=\"45\" class=\"square light g6\" stroke=\"none\" fill=\"#ffce9e\" /><rect x=\"315\" y=\"90\" width=\"45\" height=\"45\" class=\"square dark h6\" stroke=\"none\" fill=\"#d18b47\" /><rect x=\"0\" y=\"45\" width=\"45\" height=\"45\" class=\"square dark a7\" stroke=\"none\" fill=\"#d18b47\" /><use xlink:href=\"#black-pawn\" transform=\"translate(0, 45)\" /><rect x=\"45\" y=\"45\" width=\"45\" height=\"45\" class=\"square light b7\" stroke=\"none\" fill=\"#ffce9e\" /><use xlink:href=\"#black-pawn\" transform=\"translate(45, 45)\" /><rect x=\"90\" y=\"45\" width=\"45\" height=\"45\" class=\"square dark c7\" stroke=\"none\" fill=\"#d18b47\" /><rect x=\"135\" y=\"45\" width=\"45\" height=\"45\" class=\"square light d7\" stroke=\"none\" fill=\"#ffce9e\" /><rect x=\"180\" y=\"45\" width=\"45\" height=\"45\" class=\"square dark e7\" stroke=\"none\" fill=\"#d18b47\" /><rect x=\"225\" y=\"45\" width=\"45\" height=\"45\" class=\"square light f7\" stroke=\"none\" fill=\"#ffce9e\" /><use xlink:href=\"#black-pawn\" transform=\"translate(225, 45)\" /><rect x=\"270\" y=\"45\" width=\"45\" height=\"45\" class=\"square dark g7\" stroke=\"none\" fill=\"#d18b47\" /><use xlink:href=\"#black-pawn\" transform=\"translate(270, 45)\" /><rect x=\"315\" y=\"45\" width=\"45\" height=\"45\" class=\"square light h7\" stroke=\"none\" fill=\"#ffce9e\" /><rect x=\"0\" y=\"0\" width=\"45\" height=\"45\" class=\"square light a8\" stroke=\"none\" fill=\"#ffce9e\" /><use xlink:href=\"#black-rook\" transform=\"translate(0, 0)\" /><rect x=\"45\" y=\"0\" width=\"45\" height=\"45\" class=\"square dark b8\" stroke=\"none\" fill=\"#d18b47\" /><rect x=\"90\" y=\"0\" width=\"45\" height=\"45\" class=\"square light c8\" stroke=\"none\" fill=\"#ffce9e\" /><use xlink:href=\"#black-bishop\" transform=\"translate(90, 0)\" /><rect x=\"135\" y=\"0\" width=\"45\" height=\"45\" class=\"square dark d8\" stroke=\"none\" fill=\"#d18b47\" /><rect x=\"180\" y=\"0\" width=\"45\" height=\"45\" class=\"square light e8\" stroke=\"none\" fill=\"#ffce9e\" /><rect x=\"225\" y=\"0\" width=\"45\" height=\"45\" class=\"square dark f8\" stroke=\"none\" fill=\"#d18b47\" /><use xlink:href=\"#black-rook\" transform=\"translate(225, 0)\" /><rect x=\"270\" y=\"0\" width=\"45\" height=\"45\" class=\"square light g8\" stroke=\"none\" fill=\"#ffce9e\" /><use xlink:href=\"#black-king\" transform=\"translate(270, 0)\" /><rect x=\"315\" y=\"0\" width=\"45\" height=\"45\" class=\"square dark h8\" stroke=\"none\" fill=\"#d18b47\" /><line x1=\"247.5\" y1=\"247.5\" x2=\"275.39407997212663\" y2=\"191.7118400557468\" stroke=\"#888\" stroke-width=\"9.0\" opacity=\"0.5\" stroke-linecap=\"butt\" class=\"arrow\" /><polygon points=\"290.48753882025017,161.5249223594996 260.30062112400304,184.165110631685 290.4875388202502,199.25856947980859\" fill=\"#888\" opacity=\"0.5\" class=\"arrow\" /></svg></td>\n",
       "      <td>7.0</td>\n",
       "      <td>21</td>\n",
       "      <td>19</td>\n",
       "      <td>38</td>\n",
       "      <td>30</td>\n",
       "      <td>False</td>\n",
       "      <td>-5</td>\n",
       "      <td>True</td>\n",
       "    </tr>\n",
       "  </tbody>\n",
       "</table>"
      ],
      "text/plain": [
       "<IPython.core.display.HTML object>"
      ]
     },
     "execution_count": 88,
     "metadata": {},
     "output_type": "execute_result"
    }
   ],
   "source": [
    "HTML(temp_df[:3][['svg', 'best_mate', 'piece_count', 'fullmove_number', 'our_number_of_moves', 'their_number_of_moves', 'is_check', 'material_advantage', 'turn']].to_html(escape=False, index=False))"
   ]
  },
  {
   "cell_type": "code",
   "execution_count": 85,
   "metadata": {
    "ExecuteTime": {
     "end_time": "2020-08-02T18:18:46.734967Z",
     "start_time": "2020-08-02T18:18:46.678959Z"
    }
   },
   "outputs": [
    {
     "data": {
      "text/html": [
       "<div>\n",
       "<style scoped>\n",
       "    .dataframe tbody tr th:only-of-type {\n",
       "        vertical-align: middle;\n",
       "    }\n",
       "\n",
       "    .dataframe tbody tr th {\n",
       "        vertical-align: top;\n",
       "    }\n",
       "\n",
       "    .dataframe thead th {\n",
       "        text-align: right;\n",
       "    }\n",
       "</style>\n",
       "<table border=\"1\" class=\"dataframe\">\n",
       "  <thead>\n",
       "    <tr style=\"text-align: right;\">\n",
       "      <th></th>\n",
       "      <th>fen</th>\n",
       "      <th>elo</th>\n",
       "      <th>move</th>\n",
       "      <th>best_pv</th>\n",
       "      <th>best_move</th>\n",
       "      <th>best_mate</th>\n",
       "      <th>best_pv2</th>\n",
       "      <th>best_move2</th>\n",
       "      <th>best_score2</th>\n",
       "      <th>correct</th>\n",
       "      <th>...</th>\n",
       "      <th>our_rooks</th>\n",
       "      <th>piece_count</th>\n",
       "      <th>their_bishops</th>\n",
       "      <th>their_knights</th>\n",
       "      <th>their_pawns</th>\n",
       "      <th>their_piece_count</th>\n",
       "      <th>their_queens</th>\n",
       "      <th>their_rooks</th>\n",
       "      <th>difficulty</th>\n",
       "      <th>svg</th>\n",
       "    </tr>\n",
       "  </thead>\n",
       "  <tbody>\n",
       "    <tr>\n",
       "      <th>0</th>\n",
       "      <td>r5k1/p3rpp1/2Bb3p/P6q/4p3/P1P3Pb/3PNK2/RNBQ3R ...</td>\n",
       "      <td>1200</td>\n",
       "      <td>h5f3</td>\n",
       "      <td>['h5f3', 'f2e1', 'f3h1', 'e2g1', 'h1g1', 'e1e2...</td>\n",
       "      <td>h5f3</td>\n",
       "      <td>4.0</td>\n",
       "      <td>['h5f5', 'f2e1', 'a8d8', 'd1a4', 'h3g4', 'a4c2']</td>\n",
       "      <td>h5f5</td>\n",
       "      <td>-161.0</td>\n",
       "      <td>True</td>\n",
       "      <td>...</td>\n",
       "      <td>2</td>\n",
       "      <td>24</td>\n",
       "      <td>2</td>\n",
       "      <td>2</td>\n",
       "      <td>5</td>\n",
       "      <td>13</td>\n",
       "      <td>1</td>\n",
       "      <td>2</td>\n",
       "      <td>0.436176</td>\n",
       "      <td>&lt;svg xmlns=\"http://www.w3.org/2000/svg\" versio...</td>\n",
       "    </tr>\n",
       "    <tr>\n",
       "      <th>1</th>\n",
       "      <td>r5k1/p3rpp1/2Bb3p/P7/4p3/P1P2qPb/3PN3/RNBQK2R ...</td>\n",
       "      <td>1200</td>\n",
       "      <td>f3h1</td>\n",
       "      <td>['f3h1', 'e2g1', 'h1g1', 'e1e2', 'h3g4']</td>\n",
       "      <td>f3h1</td>\n",
       "      <td>3.0</td>\n",
       "      <td>['d6c5', 'e2d4', 'f3h1', 'e1f2', 'h1h2', 'f2e3...</td>\n",
       "      <td>d6c5</td>\n",
       "      <td>1590.0</td>\n",
       "      <td>True</td>\n",
       "      <td>...</td>\n",
       "      <td>2</td>\n",
       "      <td>24</td>\n",
       "      <td>2</td>\n",
       "      <td>2</td>\n",
       "      <td>5</td>\n",
       "      <td>13</td>\n",
       "      <td>1</td>\n",
       "      <td>2</td>\n",
       "      <td>0.460652</td>\n",
       "      <td>&lt;svg xmlns=\"http://www.w3.org/2000/svg\" versio...</td>\n",
       "    </tr>\n",
       "    <tr>\n",
       "      <th>2</th>\n",
       "      <td>r1b2rk1/pp3pp1/3qp3/7Q/3p4/5N2/PPP2PPP/R5K1 w ...</td>\n",
       "      <td>2000</td>\n",
       "      <td>f3g5</td>\n",
       "      <td>['f3g5', 'f8d8', 'h5f7', 'g8h8', 'f7h5', 'h8g8...</td>\n",
       "      <td>f3g5</td>\n",
       "      <td>7.0</td>\n",
       "      <td>['a1d1', 'd6f4', 'h2h3', 'f4f5', 'h5g4', 'e6e5...</td>\n",
       "      <td>a1d1</td>\n",
       "      <td>-576.0</td>\n",
       "      <td>True</td>\n",
       "      <td>...</td>\n",
       "      <td>1</td>\n",
       "      <td>21</td>\n",
       "      <td>1</td>\n",
       "      <td>0</td>\n",
       "      <td>6</td>\n",
       "      <td>11</td>\n",
       "      <td>1</td>\n",
       "      <td>2</td>\n",
       "      <td>0.223405</td>\n",
       "      <td>&lt;svg xmlns=\"http://www.w3.org/2000/svg\" versio...</td>\n",
       "    </tr>\n",
       "    <tr>\n",
       "      <th>3</th>\n",
       "      <td>r1b1r1k1/pp3pp1/3qp3/6NQ/3p4/8/PPP2PPP/R5K1 w ...</td>\n",
       "      <td>2000</td>\n",
       "      <td>h5f7</td>\n",
       "      <td>['h5f7', 'g8h8', 'f7e8', 'd6f8', 'e8f8']</td>\n",
       "      <td>h5f7</td>\n",
       "      <td>3.0</td>\n",
       "      <td>['g2g3', 'd6c7', 'h5h7', 'g8f8', 'h7h8', 'f8e7...</td>\n",
       "      <td>g2g3</td>\n",
       "      <td>-201.0</td>\n",
       "      <td>True</td>\n",
       "      <td>...</td>\n",
       "      <td>1</td>\n",
       "      <td>21</td>\n",
       "      <td>1</td>\n",
       "      <td>0</td>\n",
       "      <td>6</td>\n",
       "      <td>11</td>\n",
       "      <td>1</td>\n",
       "      <td>2</td>\n",
       "      <td>0.132303</td>\n",
       "      <td>&lt;svg xmlns=\"http://www.w3.org/2000/svg\" versio...</td>\n",
       "    </tr>\n",
       "    <tr>\n",
       "      <th>4</th>\n",
       "      <td>k2r1b2/p2Np1p1/4P3/3p2Q1/3PnB1p/2P4K/PPq5/R3R3...</td>\n",
       "      <td>1600</td>\n",
       "      <td>g5d5</td>\n",
       "      <td>['g5d5']</td>\n",
       "      <td>g5d5</td>\n",
       "      <td>1.0</td>\n",
       "      <td>['g5e5', 'e4d6', 'e5d5', 'd6b7', 'a1c1', 'c2h7...</td>\n",
       "      <td>g5e5</td>\n",
       "      <td>943.0</td>\n",
       "      <td>True</td>\n",
       "      <td>...</td>\n",
       "      <td>2</td>\n",
       "      <td>21</td>\n",
       "      <td>1</td>\n",
       "      <td>1</td>\n",
       "      <td>5</td>\n",
       "      <td>10</td>\n",
       "      <td>1</td>\n",
       "      <td>1</td>\n",
       "      <td>0.284866</td>\n",
       "      <td>&lt;svg xmlns=\"http://www.w3.org/2000/svg\" versio...</td>\n",
       "    </tr>\n",
       "    <tr>\n",
       "      <th>...</th>\n",
       "      <td>...</td>\n",
       "      <td>...</td>\n",
       "      <td>...</td>\n",
       "      <td>...</td>\n",
       "      <td>...</td>\n",
       "      <td>...</td>\n",
       "      <td>...</td>\n",
       "      <td>...</td>\n",
       "      <td>...</td>\n",
       "      <td>...</td>\n",
       "      <td>...</td>\n",
       "      <td>...</td>\n",
       "      <td>...</td>\n",
       "      <td>...</td>\n",
       "      <td>...</td>\n",
       "      <td>...</td>\n",
       "      <td>...</td>\n",
       "      <td>...</td>\n",
       "      <td>...</td>\n",
       "      <td>...</td>\n",
       "      <td>...</td>\n",
       "    </tr>\n",
       "    <tr>\n",
       "      <th>95</th>\n",
       "      <td>1k4r1/pppQ4/2np4/8/N2PPp2/2P5/PP3b1P/R1B4K b -...</td>\n",
       "      <td>1200</td>\n",
       "      <td>g8g1</td>\n",
       "      <td>['g8g1']</td>\n",
       "      <td>g8g1</td>\n",
       "      <td>1.0</td>\n",
       "      <td>['c6e5', 'c1f4', 'e5d7', 'c3c4', 'f2d4', 'a4c3...</td>\n",
       "      <td>c6e5</td>\n",
       "      <td>177.0</td>\n",
       "      <td>True</td>\n",
       "      <td>...</td>\n",
       "      <td>1</td>\n",
       "      <td>20</td>\n",
       "      <td>1</td>\n",
       "      <td>1</td>\n",
       "      <td>6</td>\n",
       "      <td>11</td>\n",
       "      <td>1</td>\n",
       "      <td>1</td>\n",
       "      <td>0.238941</td>\n",
       "      <td>&lt;svg xmlns=\"http://www.w3.org/2000/svg\" versio...</td>\n",
       "    </tr>\n",
       "    <tr>\n",
       "      <th>96</th>\n",
       "      <td>r1b1k2r/ppp2pp1/4p2p/3P4/3Nn2q/P7/2P2PPP/R1B1K...</td>\n",
       "      <td>1600</td>\n",
       "      <td>e4f2</td>\n",
       "      <td>['h4f2', 'e1d1', 'e4c3']</td>\n",
       "      <td>h4f2</td>\n",
       "      <td>2.0</td>\n",
       "      <td>['e6e5', 'c1e3', 'e5d4', 'e3d4', 'e8g8', 'a1c1...</td>\n",
       "      <td>e6e5</td>\n",
       "      <td>1389.0</td>\n",
       "      <td>False</td>\n",
       "      <td>...</td>\n",
       "      <td>2</td>\n",
       "      <td>25</td>\n",
       "      <td>2</td>\n",
       "      <td>1</td>\n",
       "      <td>6</td>\n",
       "      <td>12</td>\n",
       "      <td>0</td>\n",
       "      <td>2</td>\n",
       "      <td>0.237252</td>\n",
       "      <td>&lt;svg xmlns=\"http://www.w3.org/2000/svg\" versio...</td>\n",
       "    </tr>\n",
       "    <tr>\n",
       "      <th>97</th>\n",
       "      <td>1r5k/R6p/5bpP/1p1b4/8/PP6/K2R4/5r2 b - - 0 37</td>\n",
       "      <td>1400</td>\n",
       "      <td>f1a1</td>\n",
       "      <td>['f1a1']</td>\n",
       "      <td>f1a1</td>\n",
       "      <td>1.0</td>\n",
       "      <td>['b8e8', 'd2b2', 'e8e1', 'a7h7', 'h8h7']</td>\n",
       "      <td>b8e8</td>\n",
       "      <td>2183.0</td>\n",
       "      <td>True</td>\n",
       "      <td>...</td>\n",
       "      <td>2</td>\n",
       "      <td>14</td>\n",
       "      <td>0</td>\n",
       "      <td>0</td>\n",
       "      <td>3</td>\n",
       "      <td>6</td>\n",
       "      <td>0</td>\n",
       "      <td>2</td>\n",
       "      <td>0.463508</td>\n",
       "      <td>&lt;svg xmlns=\"http://www.w3.org/2000/svg\" versio...</td>\n",
       "    </tr>\n",
       "    <tr>\n",
       "      <th>98</th>\n",
       "      <td>r1bqkr2/ppppb1Qp/8/3P1n2/8/8/PPP1BPPP/RNB1K2R ...</td>\n",
       "      <td>1600</td>\n",
       "      <td>e2h5</td>\n",
       "      <td>['e2h5', 'f8f7', 'h5f7']</td>\n",
       "      <td>e2h5</td>\n",
       "      <td>2.0</td>\n",
       "      <td>['g7h7', 'e7b4', 'c2c3', 'd8e7', 'h7h5', 'f8f7...</td>\n",
       "      <td>g7h7</td>\n",
       "      <td>796.0</td>\n",
       "      <td>True</td>\n",
       "      <td>...</td>\n",
       "      <td>2</td>\n",
       "      <td>26</td>\n",
       "      <td>2</td>\n",
       "      <td>1</td>\n",
       "      <td>5</td>\n",
       "      <td>12</td>\n",
       "      <td>1</td>\n",
       "      <td>2</td>\n",
       "      <td>0.260146</td>\n",
       "      <td>&lt;svg xmlns=\"http://www.w3.org/2000/svg\" versio...</td>\n",
       "    </tr>\n",
       "    <tr>\n",
       "      <th>99</th>\n",
       "      <td>8/7k/4q2p/p2r2Q1/P6K/6PP/5R2/8 b - - 0 52</td>\n",
       "      <td>1600</td>\n",
       "      <td>h6g5</td>\n",
       "      <td>['h6g5', 'h4h5', 'e6h3']</td>\n",
       "      <td>h6g5</td>\n",
       "      <td>2.0</td>\n",
       "      <td>['d5d4', 'f2f4', 'h6g5', 'h4h5', 'e6g6', 'h5g4...</td>\n",
       "      <td>d5d4</td>\n",
       "      <td>1955.0</td>\n",
       "      <td>True</td>\n",
       "      <td>...</td>\n",
       "      <td>1</td>\n",
       "      <td>11</td>\n",
       "      <td>0</td>\n",
       "      <td>0</td>\n",
       "      <td>3</td>\n",
       "      <td>6</td>\n",
       "      <td>1</td>\n",
       "      <td>1</td>\n",
       "      <td>0.314281</td>\n",
       "      <td>&lt;svg xmlns=\"http://www.w3.org/2000/svg\" versio...</td>\n",
       "    </tr>\n",
       "  </tbody>\n",
       "</table>\n",
       "<p>100 rows × 45 columns</p>\n",
       "</div>"
      ],
      "text/plain": [
       "                                                  fen   elo  move  \\\n",
       "0   r5k1/p3rpp1/2Bb3p/P6q/4p3/P1P3Pb/3PNK2/RNBQ3R ...  1200  h5f3   \n",
       "1   r5k1/p3rpp1/2Bb3p/P7/4p3/P1P2qPb/3PN3/RNBQK2R ...  1200  f3h1   \n",
       "2   r1b2rk1/pp3pp1/3qp3/7Q/3p4/5N2/PPP2PPP/R5K1 w ...  2000  f3g5   \n",
       "3   r1b1r1k1/pp3pp1/3qp3/6NQ/3p4/8/PPP2PPP/R5K1 w ...  2000  h5f7   \n",
       "4   k2r1b2/p2Np1p1/4P3/3p2Q1/3PnB1p/2P4K/PPq5/R3R3...  1600  g5d5   \n",
       "..                                                ...   ...   ...   \n",
       "95  1k4r1/pppQ4/2np4/8/N2PPp2/2P5/PP3b1P/R1B4K b -...  1200  g8g1   \n",
       "96  r1b1k2r/ppp2pp1/4p2p/3P4/3Nn2q/P7/2P2PPP/R1B1K...  1600  e4f2   \n",
       "97      1r5k/R6p/5bpP/1p1b4/8/PP6/K2R4/5r2 b - - 0 37  1400  f1a1   \n",
       "98  r1bqkr2/ppppb1Qp/8/3P1n2/8/8/PPP1BPPP/RNB1K2R ...  1600  e2h5   \n",
       "99          8/7k/4q2p/p2r2Q1/P6K/6PP/5R2/8 b - - 0 52  1600  h6g5   \n",
       "\n",
       "                                              best_pv best_move  best_mate  \\\n",
       "0   ['h5f3', 'f2e1', 'f3h1', 'e2g1', 'h1g1', 'e1e2...      h5f3        4.0   \n",
       "1            ['f3h1', 'e2g1', 'h1g1', 'e1e2', 'h3g4']      f3h1        3.0   \n",
       "2   ['f3g5', 'f8d8', 'h5f7', 'g8h8', 'f7h5', 'h8g8...      f3g5        7.0   \n",
       "3            ['h5f7', 'g8h8', 'f7e8', 'd6f8', 'e8f8']      h5f7        3.0   \n",
       "4                                            ['g5d5']      g5d5        1.0   \n",
       "..                                                ...       ...        ...   \n",
       "95                                           ['g8g1']      g8g1        1.0   \n",
       "96                           ['h4f2', 'e1d1', 'e4c3']      h4f2        2.0   \n",
       "97                                           ['f1a1']      f1a1        1.0   \n",
       "98                           ['e2h5', 'f8f7', 'h5f7']      e2h5        2.0   \n",
       "99                           ['h6g5', 'h4h5', 'e6h3']      h6g5        2.0   \n",
       "\n",
       "                                             best_pv2 best_move2  best_score2  \\\n",
       "0    ['h5f5', 'f2e1', 'a8d8', 'd1a4', 'h3g4', 'a4c2']       h5f5       -161.0   \n",
       "1   ['d6c5', 'e2d4', 'f3h1', 'e1f2', 'h1h2', 'f2e3...       d6c5       1590.0   \n",
       "2   ['a1d1', 'd6f4', 'h2h3', 'f4f5', 'h5g4', 'e6e5...       a1d1       -576.0   \n",
       "3   ['g2g3', 'd6c7', 'h5h7', 'g8f8', 'h7h8', 'f8e7...       g2g3       -201.0   \n",
       "4   ['g5e5', 'e4d6', 'e5d5', 'd6b7', 'a1c1', 'c2h7...       g5e5        943.0   \n",
       "..                                                ...        ...          ...   \n",
       "95  ['c6e5', 'c1f4', 'e5d7', 'c3c4', 'f2d4', 'a4c3...       c6e5        177.0   \n",
       "96  ['e6e5', 'c1e3', 'e5d4', 'e3d4', 'e8g8', 'a1c1...       e6e5       1389.0   \n",
       "97           ['b8e8', 'd2b2', 'e8e1', 'a7h7', 'h8h7']       b8e8       2183.0   \n",
       "98  ['g7h7', 'e7b4', 'c2c3', 'd8e7', 'h7h5', 'f8f7...       g7h7        796.0   \n",
       "99  ['d5d4', 'f2f4', 'h6g5', 'h4h5', 'e6g6', 'h5g4...       d5d4       1955.0   \n",
       "\n",
       "    correct  ...  our_rooks  piece_count  their_bishops  their_knights  \\\n",
       "0      True  ...          2           24              2              2   \n",
       "1      True  ...          2           24              2              2   \n",
       "2      True  ...          1           21              1              0   \n",
       "3      True  ...          1           21              1              0   \n",
       "4      True  ...          2           21              1              1   \n",
       "..      ...  ...        ...          ...            ...            ...   \n",
       "95     True  ...          1           20              1              1   \n",
       "96    False  ...          2           25              2              1   \n",
       "97     True  ...          2           14              0              0   \n",
       "98     True  ...          2           26              2              1   \n",
       "99     True  ...          1           11              0              0   \n",
       "\n",
       "    their_pawns  their_piece_count  their_queens  their_rooks  difficulty  \\\n",
       "0             5                 13             1            2    0.436176   \n",
       "1             5                 13             1            2    0.460652   \n",
       "2             6                 11             1            2    0.223405   \n",
       "3             6                 11             1            2    0.132303   \n",
       "4             5                 10             1            1    0.284866   \n",
       "..          ...                ...           ...          ...         ...   \n",
       "95            6                 11             1            1    0.238941   \n",
       "96            6                 12             0            2    0.237252   \n",
       "97            3                  6             0            2    0.463508   \n",
       "98            5                 12             1            2    0.260146   \n",
       "99            3                  6             1            1    0.314281   \n",
       "\n",
       "                                                  svg  \n",
       "0   <svg xmlns=\"http://www.w3.org/2000/svg\" versio...  \n",
       "1   <svg xmlns=\"http://www.w3.org/2000/svg\" versio...  \n",
       "2   <svg xmlns=\"http://www.w3.org/2000/svg\" versio...  \n",
       "3   <svg xmlns=\"http://www.w3.org/2000/svg\" versio...  \n",
       "4   <svg xmlns=\"http://www.w3.org/2000/svg\" versio...  \n",
       "..                                                ...  \n",
       "95  <svg xmlns=\"http://www.w3.org/2000/svg\" versio...  \n",
       "96  <svg xmlns=\"http://www.w3.org/2000/svg\" versio...  \n",
       "97  <svg xmlns=\"http://www.w3.org/2000/svg\" versio...  \n",
       "98  <svg xmlns=\"http://www.w3.org/2000/svg\" versio...  \n",
       "99  <svg xmlns=\"http://www.w3.org/2000/svg\" versio...  \n",
       "\n",
       "[100 rows x 45 columns]"
      ]
     },
     "execution_count": 85,
     "metadata": {},
     "output_type": "execute_result"
    }
   ],
   "source": [
    "temp_df"
   ]
  },
  {
   "cell_type": "code",
   "execution_count": 86,
   "metadata": {
    "ExecuteTime": {
     "end_time": "2020-08-02T18:19:01.748888Z",
     "start_time": "2020-08-02T18:19:01.742478Z"
    }
   },
   "outputs": [
    {
     "data": {
      "text/plain": [
       "Index(['fen', 'elo', 'move', 'best_pv', 'best_move', 'best_mate', 'best_pv2',\n",
       "       'best_move2', 'best_score2', 'correct', 'fullmove_number', 'is_check',\n",
       "       'our_number_of_bishop_moves', 'our_number_of_captures',\n",
       "       'our_number_of_checks', 'our_number_of_knight_moves',\n",
       "       'our_number_of_moves', 'our_number_of_pawn_moves',\n",
       "       'our_number_of_queen_moves', 'our_number_of_rook_moves',\n",
       "       'their_number_of_bishop_moves', 'their_number_of_captures',\n",
       "       'their_number_of_checks', 'their_number_of_knight_moves',\n",
       "       'their_number_of_moves', 'their_number_of_pawn_moves',\n",
       "       'their_number_of_queen_moves', 'their_number_of_rook_moves', 'turn',\n",
       "       'material_advantage', 'our_bishops', 'our_knights', 'our_pawns',\n",
       "       'our_piece_count', 'our_queens', 'our_rooks', 'piece_count',\n",
       "       'their_bishops', 'their_knights', 'their_pawns', 'their_piece_count',\n",
       "       'their_queens', 'their_rooks', 'difficulty', 'svg'],\n",
       "      dtype='object')"
      ]
     },
     "execution_count": 86,
     "metadata": {},
     "output_type": "execute_result"
    }
   ],
   "source": [
    "temp_df.columns"
   ]
  },
  {
   "cell_type": "code",
   "execution_count": null,
   "metadata": {},
   "outputs": [],
   "source": []
  }
 ],
 "metadata": {
  "kernelspec": {
   "display_name": "Python 3",
   "language": "python",
   "name": "python3"
  },
  "language_info": {
   "codemirror_mode": {
    "name": "ipython",
    "version": 3
   },
   "file_extension": ".py",
   "mimetype": "text/x-python",
   "name": "python",
   "nbconvert_exporter": "python",
   "pygments_lexer": "ipython3",
   "version": "3.8.2"
  },
  "toc": {
   "base_numbering": 1,
   "nav_menu": {},
   "number_sections": true,
   "sideBar": true,
   "skip_h1_title": false,
   "title_cell": "Table of Contents",
   "title_sidebar": "Contents",
   "toc_cell": false,
   "toc_position": {},
   "toc_section_display": true,
   "toc_window_display": false
  }
 },
 "nbformat": 4,
 "nbformat_minor": 4
}

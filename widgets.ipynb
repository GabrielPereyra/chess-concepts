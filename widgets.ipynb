{
 "cells": [
  {
   "cell_type": "code",
   "execution_count": 1,
   "metadata": {
    "ExecuteTime": {
     "end_time": "2020-08-07T01:52:23.584728Z",
     "start_time": "2020-08-07T01:52:22.404187Z"
    }
   },
   "outputs": [],
   "source": [
    "import utils\n",
    "import plotly.express as px\n",
    "from ipywidgets import interact, fixed\n",
    "df = utils.get_df(['lichess', 'board'], years=[2015], months=[12], shards=range(1))"
   ]
  },
  {
   "cell_type": "markdown",
   "metadata": {
    "ExecuteTime": {
     "end_time": "2020-08-07T01:12:57.122578Z",
     "start_time": "2020-08-07T01:12:57.120107Z"
    }
   },
   "source": [
    "# Plot"
   ]
  },
  {
   "cell_type": "markdown",
   "metadata": {},
   "source": [
    "# Histogram"
   ]
  },
  {
   "cell_type": "code",
   "execution_count": 2,
   "metadata": {
    "ExecuteTime": {
     "end_time": "2020-08-07T01:52:24.698409Z",
     "start_time": "2020-08-07T01:52:23.586796Z"
    }
   },
   "outputs": [
    {
     "data": {
      "application/vnd.jupyter.widget-view+json": {
       "model_id": "d40548ac0f314491acca39a1b638520b",
       "version_major": 2,
       "version_minor": 0
      },
      "text/plain": [
       "interactive(children=(Dropdown(description='x', options=('elo', 'username', 'opening', 'time_control', 'score'…"
      ]
     },
     "metadata": {},
     "output_type": "display_data"
    }
   ],
   "source": [
    "# TODO: how to handle different plot types?\n",
    "# TODO: get list of features.\n",
    "# TODO: merge this plot code with cli.\n",
    "\n",
    "\n",
    "x_options = ['elo', 'username', 'opening', 'time_control', 'score', 'mate', 'clock', 'winning_chances', \n",
    "             'is_inaccurate', 'is_mistake', 'is_blunder', 'is_correct', 'score_loss', 'mate_loss', \n",
    "             'into_mate', 'lost_mate', 'fullmove_number', 'our_number_of_captures', 'our_number_of_moves', 'turn']\n",
    "\n",
    "\n",
    "def plot(df, x):\n",
    "    return px.histogram(df, x=x)\n",
    "\n",
    "\n",
    "interact(plot, df=fixed(df), x=x_options)\n",
    "pass"
   ]
  },
  {
   "cell_type": "markdown",
   "metadata": {},
   "source": [
    "# Metrics"
   ]
  },
  {
   "cell_type": "code",
   "execution_count": 3,
   "metadata": {
    "ExecuteTime": {
     "end_time": "2020-08-07T01:52:24.867673Z",
     "start_time": "2020-08-07T01:52:24.708221Z"
    }
   },
   "outputs": [
    {
     "data": {
      "application/vnd.jupyter.widget-view+json": {
       "model_id": "2ac5b75ca12c43b8b27b75946fe3602e",
       "version_major": 2,
       "version_minor": 0
      },
      "text/plain": [
       "interactive(children=(Dropdown(description='x', options=('elo', 'username', 'opening', 'time_control', 'score'…"
      ]
     },
     "metadata": {},
     "output_type": "display_data"
    }
   ],
   "source": [
    "# TODO: how to combine this with histogram (just don't take y - but x options also change...)\n",
    "# df['elo'] = df['elo'].apply(lambda x: int(x / 100) * 100)\n",
    "# df = df.melt(id_vars='elo', value_vars=metrics, var_name='metric')\n",
    "\n",
    "x_options = ['elo', 'username', 'opening', 'time_control', 'score', 'mate', 'winning_chances', \n",
    "             'fullmove_number', 'our_number_of_captures', 'our_number_of_moves', 'turn']\n",
    "\n",
    "y_options = ['is_correct', 'is_inaccurate', 'is_mistake', 'is_blunder', 'score_loss', 'mate_loss', 'into_mate', 'lost_mate']\n",
    "\n",
    "\n",
    "def plot(df, x, y):\n",
    "    df = df.groupby(x, as_index=False).agg({y: 'mean'})\n",
    "    return px.bar(df, x=x, y=y)\n",
    "\n",
    "\n",
    "interact(plot, df=fixed(df), x=x_options, y=y_options)\n",
    "pass"
   ]
  },
  {
   "cell_type": "markdown",
   "metadata": {},
   "source": [
    "# Boards"
   ]
  },
  {
   "cell_type": "code",
   "execution_count": 4,
   "metadata": {
    "ExecuteTime": {
     "end_time": "2020-08-07T01:52:25.270964Z",
     "start_time": "2020-08-07T01:52:24.869801Z"
    }
   },
   "outputs": [
    {
     "data": {
      "application/vnd.jupyter.widget-view+json": {
       "model_id": "8b0ded31df824b589fdfec3f5b9a8da2",
       "version_major": 2,
       "version_minor": 0
      },
      "text/plain": [
       "interactive(children=(IntRangeSlider(value=(800, 2700), continuous_update=False, description='elo', max=2700, …"
      ]
     },
     "metadata": {},
     "output_type": "display_data"
    }
   ],
   "source": [
    "from widgets import boards\n",
    "\n",
    "# TODO: need to handle nans (mate is nan so <= mate filters all nans.)\n",
    "# TODO: bin elo and score.\n",
    "# TODO: group sliders by category.\n",
    "\n",
    "options = ['elo', 'score', 'fullmove_number', 'our_number_of_captures', 'our_number_of_moves', 'turn']\n",
    "\n",
    "boards.init(df, options)"
   ]
  },
  {
   "cell_type": "code",
   "execution_count": null,
   "metadata": {},
   "outputs": [],
   "source": []
  }
 ],
 "metadata": {
  "kernelspec": {
   "display_name": "Python 3",
   "language": "python",
   "name": "python3"
  },
  "language_info": {
   "codemirror_mode": {
    "name": "ipython",
    "version": 3
   },
   "file_extension": ".py",
   "mimetype": "text/x-python",
   "name": "python",
   "nbconvert_exporter": "python",
   "pygments_lexer": "ipython3",
   "version": "3.8.2"
  },
  "toc": {
   "base_numbering": 1,
   "nav_menu": {},
   "number_sections": true,
   "sideBar": true,
   "skip_h1_title": false,
   "title_cell": "Table of Contents",
   "title_sidebar": "Contents",
   "toc_cell": false,
   "toc_position": {},
   "toc_section_display": true,
   "toc_window_display": false
  }
 },
 "nbformat": 4,
 "nbformat_minor": 4
}
